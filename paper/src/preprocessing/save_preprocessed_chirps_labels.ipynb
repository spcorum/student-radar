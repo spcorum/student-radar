{
 "cells": [
  {
   "cell_type": "code",
   "execution_count": 1,
   "metadata": {
    "colab": {
     "base_uri": "https://localhost:8080/"
    },
    "executionInfo": {
     "elapsed": 23432,
     "status": "ok",
     "timestamp": 1747717478114,
     "user": {
      "displayName": "vimala shekar",
      "userId": "18228284884018306617"
     },
     "user_tz": 420
    },
    "id": "ZN-VBib94Zn_",
    "outputId": "6243cf64-3368-42bd-8584-4b646c873645"
   },
   "outputs": [
    {
     "name": "stdout",
     "output_type": "stream",
     "text": [
      "Mounted at /content/drive\n"
     ]
    }
   ],
   "source": [
    "from google.colab import drive\n",
    "drive.mount('/content/drive')"
   ]
  },
  {
   "cell_type": "code",
   "execution_count": 2,
   "metadata": {
    "executionInfo": {
     "elapsed": 421,
     "status": "ok",
     "timestamp": 1747717478532,
     "user": {
      "displayName": "vimala shekar",
      "userId": "18228284884018306617"
     },
     "user_tz": 420
    },
    "id": "65d13a14-cac3-4f74-9b11-09b980017937"
   },
   "outputs": [],
   "source": [
    "import h5py\n",
    "import numpy as np\n",
    "import pandas as pd"
   ]
  },
  {
   "cell_type": "code",
   "execution_count": 3,
   "metadata": {
    "colab": {
     "base_uri": "https://localhost:8080/"
    },
    "executionInfo": {
     "elapsed": 1039,
     "status": "ok",
     "timestamp": 1747717479572,
     "user": {
      "displayName": "vimala shekar",
      "userId": "18228284884018306617"
     },
     "user_tz": 420
    },
    "id": "-Bv6aO975WPW",
    "outputId": "21f86cad-6757-4eb7-ab51-b53009fe4dc2"
   },
   "outputs": [
    {
     "name": "stdout",
     "output_type": "stream",
     "text": [
      "EXP_17_M.h5  TABULAR_CSV_ALL_CLASSES.csv\n"
     ]
    }
   ],
   "source": [
    "!ls /content/drive/MyDrive/student-radar/paper/data/real/"
   ]
  },
  {
   "cell_type": "markdown",
   "metadata": {
    "id": "UIPz83Xz3YsX"
   },
   "source": [
    "# Loading"
   ]
  },
  {
   "cell_type": "code",
   "execution_count": 4,
   "metadata": {
    "executionInfo": {
     "elapsed": 1,
     "status": "ok",
     "timestamp": 1747717479575,
     "user": {
      "displayName": "vimala shekar",
      "userId": "18228284884018306617"
     },
     "user_tz": 420
    },
    "id": "3758157a-6422-491d-8166-eb2829b29f3e"
   },
   "outputs": [],
   "source": [
    "def load_exps_and_labels(detections):\n",
    "    all_exps, all_labels = [], []\n",
    "\n",
    "    counter = 0\n",
    "\n",
    "    for exp_name, data in detections.groupby('Exp'):\n",
    "        counter += 1\n",
    "\n",
    "        try:\n",
    "            file = h5py.File(f'/content/drive/MyDrive/student-radar/paper/data/real/{exp_name}.h5', 'r')\n",
    "        except:\n",
    "            print(f'Couldnt load exp {exp_name}')\n",
    "            continue\n",
    "\n",
    "        exp = []\n",
    "\n",
    "        for channel_id in range(1, 17):\n",
    "            channel = file[f'Chn{channel_id}']\n",
    "            exp.append(channel)\n",
    "\n",
    "        exp = np.swapaxes(exp, 1, 0)\n",
    "\n",
    "        chirps_ids = []\n",
    "\n",
    "        for _, (frame_id, depth) in data[['Frame', 'Depth']].iterrows():\n",
    "            chirps_ids = chirps_ids + list(np.linspace(frame_id*127, frame_id*128+127, 128, dtype=np.uint16))\n",
    "            all_labels = all_labels + list(np.repeat(depth, 128))\n",
    "\n",
    "        exp = exp[chirps_ids]\n",
    "\n",
    "        all_exps = all_exps + list(exp)\n",
    "\n",
    "    all_exps = np.array(all_exps)\n",
    "    all_labels = np.array([all_labels]).T\n",
    "    all_exps[:, :, :50] = 0\n",
    "\n",
    "    return all_exps.astype(np.float32), all_labels.astype(np.float32)\n"
   ]
  },
  {
   "cell_type": "code",
   "execution_count": 5,
   "metadata": {
    "executionInfo": {
     "elapsed": 1,
     "status": "ok",
     "timestamp": 1747717479578,
     "user": {
      "displayName": "vimala shekar",
      "userId": "18228284884018306617"
     },
     "user_tz": 420
    },
    "id": "Nh_5jsLv3YsZ"
   },
   "outputs": [],
   "source": [
    "FILE_NAME = 'EXP_17_M'"
   ]
  },
  {
   "cell_type": "code",
   "execution_count": 6,
   "metadata": {
    "colab": {
     "base_uri": "https://localhost:8080/"
    },
    "executionInfo": {
     "elapsed": 21720,
     "status": "ok",
     "timestamp": 1747717501299,
     "user": {
      "displayName": "vimala shekar",
      "userId": "18228284884018306617"
     },
     "user_tz": 420
    },
    "id": "H3UqzD9R4zFa",
    "outputId": "17acc94d-d2cd-4ebd-a0c4-86d184169d0e"
   },
   "outputs": [
    {
     "name": "stdout",
     "output_type": "stream",
     "text": [
      "/content/drive/MyDrive/student-radar/paper/data/real/TABULAR_CSV_ALL_CLASSES.csv\n"
     ]
    }
   ],
   "source": [
    "!find /content/drive/MyDrive -name \"TABULAR_CSV_ALL_CLASSES.csv\""
   ]
  },
  {
   "cell_type": "code",
   "execution_count": 7,
   "metadata": {
    "executionInfo": {
     "elapsed": 1146,
     "status": "ok",
     "timestamp": 1747717502447,
     "user": {
      "displayName": "vimala shekar",
      "userId": "18228284884018306617"
     },
     "user_tz": 420
    },
    "id": "MQpIGo853Ysa"
   },
   "outputs": [],
   "source": [
    "all_detections = pd.read_csv('/content/drive/MyDrive/student-radar/paper/data/real/TABULAR_CSV_ALL_CLASSES.csv')"
   ]
  },
  {
   "cell_type": "code",
   "execution_count": 8,
   "metadata": {
    "executionInfo": {
     "elapsed": 48,
     "status": "ok",
     "timestamp": 1747717502497,
     "user": {
      "displayName": "vimala shekar",
      "userId": "18228284884018306617"
     },
     "user_tz": 420
    },
    "id": "pYRFMM0Z3Ysa"
   },
   "outputs": [],
   "source": [
    "detections = all_detections[all_detections['Exp'].str.contains('EXP_17_M')].query('Class == \"Motorcycle\" and Depth <= 25')"
   ]
  },
  {
   "cell_type": "code",
   "execution_count": 9,
   "metadata": {
    "colab": {
     "base_uri": "https://localhost:8080/"
    },
    "executionInfo": {
     "elapsed": 5,
     "status": "ok",
     "timestamp": 1747717502501,
     "user": {
      "displayName": "vimala shekar",
      "userId": "18228284884018306617"
     },
     "user_tz": 420
    },
    "id": "F5fLjyav3Ysa",
    "outputId": "5eedcd1c-ccc3-4831-8f29-e376852b20bd"
   },
   "outputs": [
    {
     "data": {
      "text/plain": [
       "array(['EXP_17_M'], dtype=object)"
      ]
     },
     "execution_count": 9,
     "metadata": {},
     "output_type": "execute_result"
    }
   ],
   "source": [
    "pd.unique(detections['Exp'])"
   ]
  },
  {
   "cell_type": "code",
   "execution_count": 10,
   "metadata": {
    "executionInfo": {
     "elapsed": 8689,
     "status": "ok",
     "timestamp": 1747717511657,
     "user": {
      "displayName": "vimala shekar",
      "userId": "18228284884018306617"
     },
     "user_tz": 420
    },
    "id": "-e-HmQdC3Ysb"
   },
   "outputs": [],
   "source": [
    "raw_data, labels = load_exps_and_labels(detections)"
   ]
  },
  {
   "cell_type": "code",
   "execution_count": 11,
   "metadata": {
    "colab": {
     "base_uri": "https://localhost:8080/"
    },
    "executionInfo": {
     "elapsed": 5,
     "status": "ok",
     "timestamp": 1747717511665,
     "user": {
      "displayName": "vimala shekar",
      "userId": "18228284884018306617"
     },
     "user_tz": 420
    },
    "id": "F_bhOXte3Ysc",
    "outputId": "bb425809-76fc-428c-e824-911f971365ba"
   },
   "outputs": [
    {
     "data": {
      "text/plain": [
       "(6144, 1)"
      ]
     },
     "execution_count": 11,
     "metadata": {},
     "output_type": "execute_result"
    }
   ],
   "source": [
    "labels.shape"
   ]
  },
  {
   "cell_type": "code",
   "execution_count": 12,
   "metadata": {
    "executionInfo": {
     "elapsed": 23,
     "status": "ok",
     "timestamp": 1747717511689,
     "user": {
      "displayName": "vimala shekar",
      "userId": "18228284884018306617"
     },
     "user_tz": 420
    },
    "id": "ZtL5_EsSru_e"
   },
   "outputs": [],
   "source": [
    "import os"
   ]
  },
  {
   "cell_type": "code",
   "execution_count": 13,
   "metadata": {
    "executionInfo": {
     "elapsed": 2,
     "status": "ok",
     "timestamp": 1747717511691,
     "user": {
      "displayName": "vimala shekar",
      "userId": "18228284884018306617"
     },
     "user_tz": 420
    },
    "id": "nYOB98C_8W7i"
   },
   "outputs": [],
   "source": [
    "os.makedirs('/content/drive/MyDrive/student-radar/paper/data/preprocessed', exist_ok=True)"
   ]
  },
  {
   "cell_type": "code",
   "execution_count": 14,
   "metadata": {
    "executionInfo": {
     "elapsed": 8166,
     "status": "ok",
     "timestamp": 1747717519857,
     "user": {
      "displayName": "vimala shekar",
      "userId": "18228284884018306617"
     },
     "user_tz": 420
    },
    "id": "3rNH5iqU3Ysc"
   },
   "outputs": [],
   "source": [
    "np.save(f'/content/drive/MyDrive/student-radar/paper/data/preprocessed/{FILE_NAME}_chirps.npy', raw_data)"
   ]
  },
  {
   "cell_type": "code",
   "execution_count": 15,
   "metadata": {
    "executionInfo": {
     "elapsed": 1,
     "status": "ok",
     "timestamp": 1747717519861,
     "user": {
      "displayName": "vimala shekar",
      "userId": "18228284884018306617"
     },
     "user_tz": 420
    },
    "id": "g_VXxqFP3Ysc"
   },
   "outputs": [],
   "source": [
    "raw_data = np.swapaxes(raw_data, 2, 1)"
   ]
  },
  {
   "cell_type": "code",
   "execution_count": 16,
   "metadata": {
    "colab": {
     "base_uri": "https://localhost:8080/"
    },
    "executionInfo": {
     "elapsed": 4,
     "status": "ok",
     "timestamp": 1747717519866,
     "user": {
      "displayName": "vimala shekar",
      "userId": "18228284884018306617"
     },
     "user_tz": 420
    },
    "id": "fuHGDXjS3Ysc",
    "outputId": "c9207493-651e-49eb-ca39-06ce0ebb9e6c"
   },
   "outputs": [
    {
     "data": {
      "text/plain": [
       "(6144, 1024, 16)"
      ]
     },
     "execution_count": 16,
     "metadata": {},
     "output_type": "execute_result"
    }
   ],
   "source": [
    "raw_data.shape"
   ]
  },
  {
   "cell_type": "markdown",
   "metadata": {
    "id": "VhRAH2_43Ysd"
   },
   "source": [
    "# Scale"
   ]
  },
  {
   "cell_type": "markdown",
   "metadata": {
    "id": "tasFMhxd3Ysd"
   },
   "source": [
    "## Data Scale"
   ]
  },
  {
   "cell_type": "code",
   "execution_count": 17,
   "metadata": {
    "colab": {
     "base_uri": "https://localhost:8080/"
    },
    "executionInfo": {
     "elapsed": 467,
     "status": "ok",
     "timestamp": 1747717520334,
     "user": {
      "displayName": "vimala shekar",
      "userId": "18228284884018306617"
     },
     "user_tz": 420
    },
    "id": "VAxhFvDB3Ysd",
    "outputId": "3a14d926-f201-46a6-bd29-93dcca582515"
   },
   "outputs": [
    {
     "name": "stdout",
     "output_type": "stream",
     "text": [
      "Mean: 183.6147003173828, Std: 1001.0029907226562\n"
     ]
    }
   ],
   "source": [
    "print(f'Mean: {raw_data.mean()}, Std: {raw_data.std()}')"
   ]
  },
  {
   "cell_type": "code",
   "execution_count": 18,
   "metadata": {
    "executionInfo": {
     "elapsed": 99,
     "status": "ok",
     "timestamp": 1747717520434,
     "user": {
      "displayName": "vimala shekar",
      "userId": "18228284884018306617"
     },
     "user_tz": 420
    },
    "id": "RI2OImNN3Ysd"
   },
   "outputs": [],
   "source": [
    "data_min = raw_data.min()\n",
    "data_max = raw_data.max()"
   ]
  },
  {
   "cell_type": "code",
   "execution_count": 19,
   "metadata": {
    "colab": {
     "base_uri": "https://localhost:8080/"
    },
    "executionInfo": {
     "elapsed": 51,
     "status": "ok",
     "timestamp": 1747717520493,
     "user": {
      "displayName": "vimala shekar",
      "userId": "18228284884018306617"
     },
     "user_tz": 420
    },
    "id": "tn33jo7s3Ysd",
    "outputId": "f9313cfe-671d-4c5e-bb7b-a6510394f6e3"
   },
   "outputs": [
    {
     "name": "stdout",
     "output_type": "stream",
     "text": [
      "Min: -3884.0, Max: 4772.0\n"
     ]
    }
   ],
   "source": [
    "print(f'Min: {data_min}, Max: {data_max}')"
   ]
  },
  {
   "cell_type": "code",
   "execution_count": 20,
   "metadata": {
    "executionInfo": {
     "elapsed": 46,
     "status": "ok",
     "timestamp": 1747717520493,
     "user": {
      "displayName": "vimala shekar",
      "userId": "18228284884018306617"
     },
     "user_tz": 420
    },
    "id": "g-ky1P3c3Ysd"
   },
   "outputs": [],
   "source": [
    "a, b = -1, 1"
   ]
  },
  {
   "cell_type": "code",
   "execution_count": 21,
   "metadata": {
    "executionInfo": {
     "elapsed": 207,
     "status": "ok",
     "timestamp": 1747717520698,
     "user": {
      "displayName": "vimala shekar",
      "userId": "18228284884018306617"
     },
     "user_tz": 420
    },
    "id": "KKGK6uFg3Ysd"
   },
   "outputs": [],
   "source": [
    "np.subtract(raw_data, data_min, out=raw_data)\n",
    "np.multiply(raw_data, (b - a), out=raw_data)\n",
    "np.divide(raw_data, (data_max - data_min), out=raw_data)\n",
    "raw_data = np.add(raw_data, a, out=raw_data)"
   ]
  },
  {
   "cell_type": "code",
   "execution_count": 22,
   "metadata": {
    "executionInfo": {
     "elapsed": 97,
     "status": "ok",
     "timestamp": 1747717520756,
     "user": {
      "displayName": "vimala shekar",
      "userId": "18228284884018306617"
     },
     "user_tz": 420
    },
    "id": "ZvPYdcr93Ysd"
   },
   "outputs": [],
   "source": [
    "normalized_mean = raw_data.mean()"
   ]
  },
  {
   "cell_type": "code",
   "execution_count": 23,
   "metadata": {
    "colab": {
     "base_uri": "https://localhost:8080/"
    },
    "executionInfo": {
     "elapsed": 27,
     "status": "ok",
     "timestamp": 1747717520759,
     "user": {
      "displayName": "vimala shekar",
      "userId": "18228284884018306617"
     },
     "user_tz": 420
    },
    "id": "WPDznPJg3Ysd",
    "outputId": "34630e4d-0230-4ffd-db64-006633e2bad9"
   },
   "outputs": [
    {
     "name": "stdout",
     "output_type": "stream",
     "text": [
      "Mean: -0.060162827372550964\n"
     ]
    }
   ],
   "source": [
    "print(f'Mean: {normalized_mean}')"
   ]
  },
  {
   "cell_type": "markdown",
   "metadata": {
    "id": "BRr9pTwl3Ysd"
   },
   "source": [
    "### Label Generator Scale"
   ]
  },
  {
   "cell_type": "code",
   "execution_count": 24,
   "metadata": {
    "executionInfo": {
     "elapsed": 39,
     "status": "ok",
     "timestamp": 1747717520798,
     "user": {
      "displayName": "vimala shekar",
      "userId": "18228284884018306617"
     },
     "user_tz": 420
    },
    "id": "JonP6HGJ3Ysd"
   },
   "outputs": [],
   "source": [
    "labels_mean = labels.mean()\n",
    "labels_std = labels.std()"
   ]
  },
  {
   "cell_type": "code",
   "execution_count": 25,
   "metadata": {
    "colab": {
     "base_uri": "https://localhost:8080/"
    },
    "executionInfo": {
     "elapsed": 3,
     "status": "ok",
     "timestamp": 1747717520802,
     "user": {
      "displayName": "vimala shekar",
      "userId": "18228284884018306617"
     },
     "user_tz": 420
    },
    "id": "EiucFA-o3Yse",
    "outputId": "e00a20fd-2d21-417d-de33-8ad2c4ad22e7"
   },
   "outputs": [
    {
     "name": "stdout",
     "output_type": "stream",
     "text": [
      "Mean: 10.981254577636719, Std: 7.1911773681640625\n"
     ]
    }
   ],
   "source": [
    "print(f'Mean: {labels_mean}, Std: {labels_std}')"
   ]
  },
  {
   "cell_type": "code",
   "execution_count": 26,
   "metadata": {
    "executionInfo": {
     "elapsed": 2,
     "status": "ok",
     "timestamp": 1747717520804,
     "user": {
      "displayName": "vimala shekar",
      "userId": "18228284884018306617"
     },
     "user_tz": 420
    },
    "id": "v2yuIjNq3Yse"
   },
   "outputs": [],
   "source": [
    "labels_generator = (labels - labels_mean) / labels_std"
   ]
  },
  {
   "cell_type": "markdown",
   "metadata": {
    "id": "dLsOP5P_3Yse"
   },
   "source": [
    "### Label Discriminator Scale"
   ]
  },
  {
   "cell_type": "code",
   "execution_count": 27,
   "metadata": {
    "executionInfo": {
     "elapsed": 2,
     "status": "ok",
     "timestamp": 1747717520805,
     "user": {
      "displayName": "vimala shekar",
      "userId": "18228284884018306617"
     },
     "user_tz": 420
    },
    "id": "U8rhGONY3Yse"
   },
   "outputs": [],
   "source": [
    "labels_min = labels.min()\n",
    "labels_max = labels.max()"
   ]
  },
  {
   "cell_type": "code",
   "execution_count": 28,
   "metadata": {
    "executionInfo": {
     "elapsed": 2,
     "status": "ok",
     "timestamp": 1747717520805,
     "user": {
      "displayName": "vimala shekar",
      "userId": "18228284884018306617"
     },
     "user_tz": 420
    },
    "id": "Zd90fIwR3Yse"
   },
   "outputs": [],
   "source": [
    "labels_discriminator = labels - labels_mean\n",
    "labels_discriminator = a + ((labels_discriminator - labels_min)*(b-a)) / (labels_max - labels_min)"
   ]
  },
  {
   "cell_type": "markdown",
   "metadata": {
    "id": "DCUlXPyy3Yse"
   },
   "source": [
    "# Save"
   ]
  },
  {
   "cell_type": "code",
   "execution_count": 29,
   "metadata": {
    "executionInfo": {
     "elapsed": 27918,
     "status": "ok",
     "timestamp": 1747717548722,
     "user": {
      "displayName": "vimala shekar",
      "userId": "18228284884018306617"
     },
     "user_tz": 420
    },
    "id": "Aar_9m5K3Yse"
   },
   "outputs": [],
   "source": [
    "np.save(f'/content/drive/MyDrive/student-radar/paper/data/preprocessed/{FILE_NAME}_chirps_scaled.npy', raw_data)\n",
    "np.save(f'/content/drive/MyDrive/student-radar/paper/data/preprocessed/{FILE_NAME}_chirps_labels.npy', (labels_generator, labels_discriminator))"
   ]
  },
  {
   "cell_type": "code",
   "execution_count": 29,
   "metadata": {
    "executionInfo": {
     "elapsed": 1,
     "status": "ok",
     "timestamp": 1747717548725,
     "user": {
      "displayName": "vimala shekar",
      "userId": "18228284884018306617"
     },
     "user_tz": 420
    },
    "id": "CXXZzHWcsGhm"
   },
   "outputs": [],
   "source": []
  }
 ],
 "metadata": {
  "colab": {
   "provenance": []
  },
  "kernelspec": {
   "display_name": "base",
   "language": "python",
   "name": "python3"
  },
  "language_info": {
   "codemirror_mode": {
    "name": "ipython",
    "version": 3
   },
   "file_extension": ".py",
   "mimetype": "text/x-python",
   "name": "python",
   "nbconvert_exporter": "python",
   "pygments_lexer": "ipython3",
   "version": "3.12.9"
  },
  "orig_nbformat": 4
 },
 "nbformat": 4,
 "nbformat_minor": 0
}
