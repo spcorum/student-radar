{
 "cells": [
  {
   "cell_type": "code",
   "execution_count": 1,
   "metadata": {},
   "outputs": [
    {
     "name": "stderr",
     "output_type": "stream",
     "text": [
      "2022-10-11 11:54:57.176588: I tensorflow/stream_executor/platform/default/dso_loader.cc:48] Successfully opened dynamic library libcudart.so.10.1\n",
      "2022-10-11 11:54:59.376638: I tensorflow/stream_executor/platform/default/dso_loader.cc:48] Successfully opened dynamic library libcuda.so.1\n",
      "2022-10-11 11:54:59.412968: I tensorflow/stream_executor/cuda/cuda_gpu_executor.cc:982] successful NUMA node read from SysFS had negative value (-1), but there must be at least one NUMA node, so returning NUMA node zero\n",
      "2022-10-11 11:54:59.413697: I tensorflow/core/common_runtime/gpu/gpu_device.cc:1716] Found device 0 with properties: \n",
      "pciBusID: 0000:01:00.0 name: NVIDIA GeForce RTX 2060 computeCapability: 7.5\n",
      "coreClock: 1.2GHz coreCount: 30 deviceMemorySize: 5.79GiB deviceMemoryBandwidth: 245.91GiB/s\n",
      "2022-10-11 11:54:59.413735: I tensorflow/stream_executor/platform/default/dso_loader.cc:48] Successfully opened dynamic library libcudart.so.10.1\n",
      "2022-10-11 11:54:59.437862: I tensorflow/stream_executor/platform/default/dso_loader.cc:48] Successfully opened dynamic library libcublas.so.10\n",
      "2022-10-11 11:54:59.451602: I tensorflow/stream_executor/platform/default/dso_loader.cc:48] Successfully opened dynamic library libcufft.so.10\n",
      "2022-10-11 11:54:59.455220: I tensorflow/stream_executor/platform/default/dso_loader.cc:48] Successfully opened dynamic library libcurand.so.10\n",
      "2022-10-11 11:54:59.479799: I tensorflow/stream_executor/platform/default/dso_loader.cc:48] Successfully opened dynamic library libcusolver.so.10\n",
      "2022-10-11 11:54:59.483568: I tensorflow/stream_executor/platform/default/dso_loader.cc:48] Successfully opened dynamic library libcusparse.so.10\n",
      "2022-10-11 11:54:59.526228: I tensorflow/stream_executor/platform/default/dso_loader.cc:48] Successfully opened dynamic library libcudnn.so.7\n",
      "2022-10-11 11:54:59.526453: I tensorflow/stream_executor/cuda/cuda_gpu_executor.cc:982] successful NUMA node read from SysFS had negative value (-1), but there must be at least one NUMA node, so returning NUMA node zero\n",
      "2022-10-11 11:54:59.527312: I tensorflow/stream_executor/cuda/cuda_gpu_executor.cc:982] successful NUMA node read from SysFS had negative value (-1), but there must be at least one NUMA node, so returning NUMA node zero\n",
      "2022-10-11 11:54:59.527709: I tensorflow/core/common_runtime/gpu/gpu_device.cc:1858] Adding visible gpu devices: 0\n"
     ]
    }
   ],
   "source": [
    "import numpy as np\n",
    "import h5py\n",
    "import pandas as pd\n",
    "from scipy.linalg import sqrtm\n",
    "\n",
    "#import os\n",
    "#os.environ['CUDA_VISIBLE_DEVICES'] = '-1'\n",
    "\n",
    "from sklearn.preprocessing import OneHotEncoder\n",
    "\n",
    "from tensorflow.keras.layers import Conv1D, Dense, MaxPooling1D, AveragePooling1D, Input, Flatten, Dropout, LeakyReLU\n",
    "from tensorflow.keras.metrics import RootMeanSquaredError\n",
    "from tensorflow.keras.models import Sequential\n",
    "from tensorflow.keras.regularizers import L2\n",
    "import tensorflow.keras.backend as K\n",
    "import tensorflow as tf\n",
    "\n",
    "import gc\n",
    "\n",
    "import optuna\n",
    "\n",
    "#tf.random.set_seed(59843)\n",
    "#np.random.seed(59843)\n",
    "\n",
    "tf.random.set_seed(42)\n",
    "np.random.seed(42)\n",
    "\n",
    "physical_devices = tf.config.experimental.list_physical_devices('GPU')\n",
    "tf.config.experimental.set_memory_growth(physical_devices[0], True)"
   ]
  },
  {
   "cell_type": "markdown",
   "metadata": {},
   "source": [
    "# Load data"
   ]
  },
  {
   "cell_type": "code",
   "execution_count": 3,
   "metadata": {},
   "outputs": [],
   "source": [
    "def load_exps_and_labels(detections):\n",
    "    all_exps, all_labels = [], []\n",
    "\n",
    "    counter = 0\n",
    "\n",
    "    for exp_name, data in detections.groupby('Exp'):\n",
    "        counter += 1\n",
    "\n",
    "        try:\n",
    "            file = h5py.File(f'../data/real/{exp_name}.h5', 'r')\n",
    "        except:\n",
    "            print(f'Couldnt load exp {exp_name}')\n",
    "            continue\n",
    "\n",
    "        exp = []\n",
    "        \n",
    "        for channel_id in range(1, 17):\n",
    "            channel = file[f'Chn{channel_id}']\n",
    "            exp.append(channel)\n",
    "        \n",
    "        exp = np.swapaxes(exp, 1, 0)\n",
    "\n",
    "        chirps_ids = []\n",
    "\n",
    "        for _, (frame_id, depth, azi) in data[['Frame', 'Depth', 'Azi']].iterrows():\n",
    "            chirps_ids = chirps_ids + list(np.linspace(frame_id*127, frame_id*128+127, 128, dtype=np.uint16))\n",
    "            all_labels = all_labels + list(np.tile([depth], (128, 1)))\n",
    "            #chirps_ids.append(int(frame_id*127 + 63))\n",
    "            #all_labels.append(depth)\n",
    "\n",
    "        exp = exp[chirps_ids]\n",
    "\n",
    "        all_exps = all_exps + list(exp)\n",
    "\n",
    "        #if counter > 2:\n",
    "        #    break\n",
    "    \n",
    "    all_exps = np.array(all_exps)\n",
    "    all_labels = np.array(all_labels)\n",
    "    #all_exps = np.swapaxes(all_exps, 1, 0)\n",
    "    all_exps[:, :, :50] = 0\n",
    "    \n",
    "    return all_exps.astype(np.float32), all_labels.astype(np.float32)\n",
    "        "
   ]
  },
  {
   "cell_type": "code",
   "execution_count": 4,
   "metadata": {},
   "outputs": [],
   "source": [
    "all_detections = pd.read_csv('../data/real/TABULAR_CSV_ALL_CLASSES.csv')"
   ]
  },
  {
   "cell_type": "code",
   "execution_count": 5,
   "metadata": {},
   "outputs": [],
   "source": [
    "detections = all_detections[all_detections['Exp'].str.contains('EXP_17_')].query('Class == \"Motorcycle\" and Depth <= 25')"
   ]
  },
  {
   "cell_type": "code",
   "execution_count": 6,
   "metadata": {},
   "outputs": [
    {
     "data": {
      "text/plain": [
       "array(['EXP_17_B', 'EXP_17_C', 'EXP_17_D', 'EXP_17_E', 'EXP_17_F',\n",
       "       'EXP_17_G', 'EXP_17_H', 'EXP_17_I'], dtype=object)"
      ]
     },
     "execution_count": 6,
     "metadata": {},
     "output_type": "execute_result"
    }
   ],
   "source": [
    "exps_train = ['EXP_17_A', 'EXP_17_B', 'EXP_17_C', 'EXP_17_D', 'EXP_17_E', 'EXP_17_F', 'EXP_17_G', 'EXP_17_H', 'EXP_17_I']\n",
    "#exps_train = ['EXP_17_B']\n",
    "\n",
    "detections_train = detections.query('Exp in @exps_train')\n",
    "np.unique(detections_train['Exp'])\n"
   ]
  },
  {
   "cell_type": "code",
   "execution_count": 7,
   "metadata": {},
   "outputs": [
    {
     "data": {
      "text/plain": [
       "array(['EXP_17_L', 'EXP_17_M', 'EXP_17_Q'], dtype=object)"
      ]
     },
     "execution_count": 7,
     "metadata": {},
     "output_type": "execute_result"
    }
   ],
   "source": [
    "exps_val = ['EXP_17_M', 'EXP_17_Q', 'EXP_17_L']\n",
    "\n",
    "detections_val = detections.query('Exp in @exps_val')\n",
    "np.unique(detections_val['Exp'])\n"
   ]
  },
  {
   "cell_type": "code",
   "execution_count": 8,
   "metadata": {},
   "outputs": [
    {
     "data": {
      "text/plain": [
       "array(['EXP_17_P', 'EXP_17_R'], dtype=object)"
      ]
     },
     "execution_count": 8,
     "metadata": {},
     "output_type": "execute_result"
    }
   ],
   "source": [
    "exps_val2 = ['EXP_17_N', 'EXP_17_P', 'EXP_17_R']\n",
    "\n",
    "detections_val2 = detections.query('Exp in @exps_val2')\n",
    "np.unique(detections_val2['Exp'])\n"
   ]
  },
  {
   "cell_type": "code",
   "execution_count": 9,
   "metadata": {},
   "outputs": [],
   "source": [
    "X_train, y_train = load_exps_and_labels(detections_train)\n",
    "X_val, y_val = load_exps_and_labels(detections_val)\n",
    "X_val2, y_val2 = load_exps_and_labels(detections_val2)"
   ]
  },
  {
   "cell_type": "code",
   "execution_count": 10,
   "metadata": {},
   "outputs": [
    {
     "data": {
      "text/plain": [
       "(48256, 16, 1024)"
      ]
     },
     "execution_count": 10,
     "metadata": {},
     "output_type": "execute_result"
    }
   ],
   "source": [
    "X_train.shape"
   ]
  },
  {
   "cell_type": "code",
   "execution_count": 11,
   "metadata": {},
   "outputs": [
    {
     "data": {
      "text/plain": [
       "(12416, 16, 1024)"
      ]
     },
     "execution_count": 11,
     "metadata": {},
     "output_type": "execute_result"
    }
   ],
   "source": [
    "X_val.shape"
   ]
  },
  {
   "cell_type": "code",
   "execution_count": 12,
   "metadata": {},
   "outputs": [
    {
     "data": {
      "text/plain": [
       "(15616, 16, 1024)"
      ]
     },
     "execution_count": 12,
     "metadata": {},
     "output_type": "execute_result"
    }
   ],
   "source": [
    "X_val2.shape"
   ]
  },
  {
   "cell_type": "code",
   "execution_count": 13,
   "metadata": {},
   "outputs": [
    {
     "data": {
      "text/plain": [
       "(12416, 1)"
      ]
     },
     "execution_count": 13,
     "metadata": {},
     "output_type": "execute_result"
    }
   ],
   "source": [
    "y_val.shape"
   ]
  },
  {
   "cell_type": "markdown",
   "metadata": {},
   "source": [
    "# Preprocess data"
   ]
  },
  {
   "cell_type": "markdown",
   "metadata": {},
   "source": [
    "## Swap axis"
   ]
  },
  {
   "cell_type": "code",
   "execution_count": 14,
   "metadata": {},
   "outputs": [],
   "source": [
    "X_train = np.swapaxes(X_train, 2, 1)\n",
    "X_val = np.swapaxes(X_val, 2, 1)\n",
    "X_val2 = np.swapaxes(X_val2, 2, 1)"
   ]
  },
  {
   "cell_type": "markdown",
   "metadata": {},
   "source": [
    "## Scale"
   ]
  },
  {
   "cell_type": "code",
   "execution_count": 15,
   "metadata": {},
   "outputs": [],
   "source": [
    "#X_mean = 183.12559509277344\n",
    "#X_std = 973.3739013671875\n",
    "\n",
    "# All\n",
    "X_mean = 185.10327\n",
    "X_std = 979.17725"
   ]
  },
  {
   "cell_type": "code",
   "execution_count": 16,
   "metadata": {},
   "outputs": [],
   "source": [
    "X_train = np.subtract(X_train, X_mean, out=X_train)\n",
    "X_train = np.divide(X_train, X_std, out=X_train)"
   ]
  },
  {
   "cell_type": "code",
   "execution_count": 17,
   "metadata": {},
   "outputs": [],
   "source": [
    "X_val = np.subtract(X_val, X_mean, out=X_val)\n",
    "X_val = np.divide(X_val, X_std, out=X_val)"
   ]
  },
  {
   "cell_type": "code",
   "execution_count": 18,
   "metadata": {},
   "outputs": [],
   "source": [
    "X_val2 = np.subtract(X_val2, X_mean, out=X_val2)\n",
    "X_val2 = np.divide(X_val2, X_std, out=X_val2)"
   ]
  },
  {
   "cell_type": "markdown",
   "metadata": {},
   "source": [
    "## Shuffle"
   ]
  },
  {
   "cell_type": "code",
   "execution_count": 19,
   "metadata": {},
   "outputs": [],
   "source": [
    "random_ids = np.arange(len(X_train))\n",
    "np.random.shuffle(random_ids)\n",
    "\n",
    "X_train[:, :, :] = X_train[random_ids]\n",
    "y_train[:, :] = y_train[random_ids]"
   ]
  },
  {
   "cell_type": "markdown",
   "metadata": {},
   "source": [
    "# Build Model"
   ]
  },
  {
   "cell_type": "code",
   "execution_count": 20,
   "metadata": {},
   "outputs": [],
   "source": [
    "def build_model(trial):\n",
    "    model = Sequential([\n",
    "        Input((1024, 16)),\n",
    "\n",
    "        Conv1D(\n",
    "            filters=32,\n",
    "            kernel_regularizer=L2(trial.suggest_float(\"conv1_lambda\", 0.01, 0.5)),\n",
    "            kernel_size=3, \n",
    "            activation='relu'\n",
    "        ),\n",
    "        AveragePooling1D(\n",
    "            strides=4\n",
    "        ),\n",
    "\n",
    "        Conv1D(\n",
    "            filters=64, \n",
    "            kernel_regularizer=L2(trial.suggest_float(\"conv2_lambda\", 0.01, 0.5)),\n",
    "            kernel_size=3, \n",
    "            activation='relu'\n",
    "        ),\n",
    "        AveragePooling1D(\n",
    "            strides=4\n",
    "        ),\n",
    "\n",
    "        Conv1D(\n",
    "            filters=128, \n",
    "            kernel_regularizer=L2(trial.suggest_float(\"conv3_lambda\", 0.01, 0.5)),\n",
    "            kernel_size=3, \n",
    "            activation='relu'\n",
    "        ),\n",
    "        AveragePooling1D(\n",
    "            strides=4\n",
    "        ),\n",
    "\n",
    "        Flatten(),\n",
    "        \n",
    "        Dense(\n",
    "            units=1,\n",
    "            activation='linear',\n",
    "            kernel_regularizer=L2(trial.suggest_float(\"dense_lambda\", 0.01, 0.5)))\n",
    "    ])\n",
    "\n",
    "    model.compile(optimizer='adam',\n",
    "                  loss='mse',\n",
    "                  metrics=['mean_absolute_error'])\n",
    "\n",
    "    return model"
   ]
  },
  {
   "cell_type": "markdown",
   "metadata": {},
   "source": [
    "# Train Model"
   ]
  },
  {
   "cell_type": "code",
   "execution_count": 20,
   "metadata": {},
   "outputs": [
    {
     "name": "stderr",
     "output_type": "stream",
     "text": [
      "\u001b[32m[I 2022-08-29 11:50:32,098]\u001b[0m A new study created in memory with name: no-name-f45ce251-b779-49f2-9813-ac5f11ff385f\u001b[0m\n",
      "2022-08-29 11:50:32.124113: I tensorflow/core/platform/cpu_feature_guard.cc:142] This TensorFlow binary is optimized with oneAPI Deep Neural Network Library (oneDNN)to use the following CPU instructions in performance-critical operations:  AVX2 FMA\n",
      "To enable them in other operations, rebuild TensorFlow with the appropriate compiler flags.\n",
      "2022-08-29 11:50:32.158642: I tensorflow/core/platform/profile_utils/cpu_utils.cc:104] CPU Frequency: 2599990000 Hz\n",
      "2022-08-29 11:50:32.159335: I tensorflow/compiler/xla/service/service.cc:168] XLA service 0x55557a8cf4e0 initialized for platform Host (this does not guarantee that XLA will be used). Devices:\n",
      "2022-08-29 11:50:32.159361: I tensorflow/compiler/xla/service/service.cc:176]   StreamExecutor device (0): Host, Default Version\n",
      "2022-08-29 11:50:32.227534: I tensorflow/stream_executor/cuda/cuda_gpu_executor.cc:982] successful NUMA node read from SysFS had negative value (-1), but there must be at least one NUMA node, so returning NUMA node zero\n",
      "2022-08-29 11:50:32.227908: I tensorflow/compiler/xla/service/service.cc:168] XLA service 0x55557cc63e90 initialized for platform CUDA (this does not guarantee that XLA will be used). Devices:\n",
      "2022-08-29 11:50:32.227923: I tensorflow/compiler/xla/service/service.cc:176]   StreamExecutor device (0): NVIDIA GeForce RTX 2060, Compute Capability 7.5\n",
      "2022-08-29 11:50:32.228400: I tensorflow/stream_executor/cuda/cuda_gpu_executor.cc:982] successful NUMA node read from SysFS had negative value (-1), but there must be at least one NUMA node, so returning NUMA node zero\n",
      "2022-08-29 11:50:32.228810: I tensorflow/core/common_runtime/gpu/gpu_device.cc:1716] Found device 0 with properties: \n",
      "pciBusID: 0000:01:00.0 name: NVIDIA GeForce RTX 2060 computeCapability: 7.5\n",
      "coreClock: 1.2GHz coreCount: 30 deviceMemorySize: 5.79GiB deviceMemoryBandwidth: 245.91GiB/s\n",
      "2022-08-29 11:50:32.228864: I tensorflow/stream_executor/platform/default/dso_loader.cc:48] Successfully opened dynamic library libcudart.so.10.1\n",
      "2022-08-29 11:50:32.228897: I tensorflow/stream_executor/platform/default/dso_loader.cc:48] Successfully opened dynamic library libcublas.so.10\n",
      "2022-08-29 11:50:32.228926: I tensorflow/stream_executor/platform/default/dso_loader.cc:48] Successfully opened dynamic library libcufft.so.10\n",
      "2022-08-29 11:50:32.228953: I tensorflow/stream_executor/platform/default/dso_loader.cc:48] Successfully opened dynamic library libcurand.so.10\n",
      "2022-08-29 11:50:32.228980: I tensorflow/stream_executor/platform/default/dso_loader.cc:48] Successfully opened dynamic library libcusolver.so.10\n",
      "2022-08-29 11:50:32.229004: I tensorflow/stream_executor/platform/default/dso_loader.cc:48] Successfully opened dynamic library libcusparse.so.10\n",
      "2022-08-29 11:50:32.229032: I tensorflow/stream_executor/platform/default/dso_loader.cc:48] Successfully opened dynamic library libcudnn.so.7\n",
      "2022-08-29 11:50:32.229098: I tensorflow/stream_executor/cuda/cuda_gpu_executor.cc:982] successful NUMA node read from SysFS had negative value (-1), but there must be at least one NUMA node, so returning NUMA node zero\n",
      "2022-08-29 11:50:32.229491: I tensorflow/stream_executor/cuda/cuda_gpu_executor.cc:982] successful NUMA node read from SysFS had negative value (-1), but there must be at least one NUMA node, so returning NUMA node zero\n",
      "2022-08-29 11:50:32.229738: I tensorflow/core/common_runtime/gpu/gpu_device.cc:1858] Adding visible gpu devices: 0\n",
      "2022-08-29 11:50:32.230057: I tensorflow/stream_executor/platform/default/dso_loader.cc:48] Successfully opened dynamic library libcudart.so.10.1\n",
      "2022-08-29 11:50:32.917649: I tensorflow/core/common_runtime/gpu/gpu_device.cc:1257] Device interconnect StreamExecutor with strength 1 edge matrix:\n",
      "2022-08-29 11:50:32.917671: I tensorflow/core/common_runtime/gpu/gpu_device.cc:1263]      0 \n",
      "2022-08-29 11:50:32.917676: I tensorflow/core/common_runtime/gpu/gpu_device.cc:1276] 0:   N \n",
      "2022-08-29 11:50:32.919225: I tensorflow/stream_executor/cuda/cuda_gpu_executor.cc:982] successful NUMA node read from SysFS had negative value (-1), but there must be at least one NUMA node, so returning NUMA node zero\n",
      "2022-08-29 11:50:32.919624: I tensorflow/stream_executor/cuda/cuda_gpu_executor.cc:982] successful NUMA node read from SysFS had negative value (-1), but there must be at least one NUMA node, so returning NUMA node zero\n",
      "2022-08-29 11:50:32.919906: I tensorflow/core/common_runtime/gpu/gpu_device.cc:1402] Created TensorFlow device (/job:localhost/replica:0/task:0/device:GPU:0 with 4938 MB memory) -> physical GPU (device: 0, name: NVIDIA GeForce RTX 2060, pci bus id: 0000:01:00.0, compute capability: 7.5)\n",
      "2022-08-29 11:50:34.498955: W tensorflow/core/framework/cpu_allocator_impl.cc:81] Allocation of 3162505216 exceeds 10% of free system memory.\n"
     ]
    },
    {
     "name": "stdout",
     "output_type": "stream",
     "text": [
      "Epoch 1/6\n"
     ]
    },
    {
     "name": "stderr",
     "output_type": "stream",
     "text": [
      "2022-08-29 11:50:36.282610: I tensorflow/stream_executor/platform/default/dso_loader.cc:48] Successfully opened dynamic library libcublas.so.10\n",
      "2022-08-29 11:50:36.626246: I tensorflow/stream_executor/platform/default/dso_loader.cc:48] Successfully opened dynamic library libcudnn.so.7\n",
      "2022-08-29 11:50:37.955137: W tensorflow/stream_executor/gpu/asm_compiler.cc:81] Running ptxas --version returned 256\n",
      "2022-08-29 11:50:38.066485: W tensorflow/stream_executor/gpu/redzone_allocator.cc:314] Internal: ptxas exited with non-zero error code 256, output: \n",
      "Relying on driver to perform ptx compilation. \n",
      "Modify $PATH to customize ptxas location.\n",
      "This message will be only logged once.\n",
      "2022-08-29 11:50:41.208964: I tensorflow/stream_executor/cuda/cuda_driver.cc:775] failed to allocate 3.70G (3969225728 bytes) from device: CUDA_ERROR_OUT_OF_MEMORY: out of memory\n"
     ]
    },
    {
     "name": "stdout",
     "output_type": "stream",
     "text": [
      "377/377 [==============================] - ETA: 0s - loss: 59.4903 - mean_absolute_error: 5.4594"
     ]
    },
    {
     "name": "stderr",
     "output_type": "stream",
     "text": [
      "2022-08-29 11:50:48.434036: W tensorflow/core/framework/cpu_allocator_impl.cc:81] Allocation of 813694976 exceeds 10% of free system memory.\n"
     ]
    },
    {
     "name": "stdout",
     "output_type": "stream",
     "text": [
      "377/377 [==============================] - 4s 12ms/step - loss: 59.4903 - mean_absolute_error: 5.4594 - val_loss: 47.1857 - val_mean_absolute_error: 5.5279\n",
      "Epoch 2/6\n",
      "377/377 [==============================] - 4s 10ms/step - loss: 37.9970 - mean_absolute_error: 4.5910 - val_loss: 27.6928 - val_mean_absolute_error: 3.5647\n",
      "Epoch 3/6\n",
      "377/377 [==============================] - 4s 10ms/step - loss: 31.2966 - mean_absolute_error: 3.9700 - val_loss: 26.5849 - val_mean_absolute_error: 3.4433\n",
      "Epoch 4/6\n",
      "377/377 [==============================] - 4s 10ms/step - loss: 28.5769 - mean_absolute_error: 3.6563 - val_loss: 25.3445 - val_mean_absolute_error: 3.1756\n",
      "Epoch 5/6\n",
      "377/377 [==============================] - 4s 10ms/step - loss: 27.0796 - mean_absolute_error: 3.4459 - val_loss: 22.5502 - val_mean_absolute_error: 2.8857\n",
      "Epoch 6/6\n",
      "377/377 [==============================] - 4s 10ms/step - loss: 26.0157 - mean_absolute_error: 3.2954 - val_loss: 22.8314 - val_mean_absolute_error: 2.9022\n"
     ]
    },
    {
     "name": "stderr",
     "output_type": "stream",
     "text": [
      "2022-08-29 11:51:08.974670: W tensorflow/core/framework/cpu_allocator_impl.cc:81] Allocation of 813694976 exceeds 10% of free system memory.\n"
     ]
    },
    {
     "name": "stdout",
     "output_type": "stream",
     "text": [
      "388/388 [==============================] - 1s 3ms/step - loss: 22.8314 - mean_absolute_error: 2.9022\n"
     ]
    },
    {
     "name": "stderr",
     "output_type": "stream",
     "text": [
      "\u001b[32m[I 2022-08-29 11:51:15,316]\u001b[0m Trial 0 finished with value: 2.9021849632263184 and parameters: {'conv1_lambda': 0.2102309491220151, 'conv2_lambda': 0.4633343868492437, 'conv3_lambda': 0.36106298763767664, 'dense_lambda': 0.44136714776423863, 'epochs': 6}. Best is trial 0 with value: 2.9021849632263184.\u001b[0m\n",
      "2022-08-29 11:51:16.825855: W tensorflow/core/framework/cpu_allocator_impl.cc:81] Allocation of 3162505216 exceeds 10% of free system memory.\n"
     ]
    },
    {
     "name": "stdout",
     "output_type": "stream",
     "text": [
      "Epoch 1/5\n",
      "372/377 [============================>.] - ETA: 0s - loss: 56.8178 - mean_absolute_error: 5.3566"
     ]
    },
    {
     "name": "stderr",
     "output_type": "stream",
     "text": [
      "2022-08-29 11:51:22.114259: W tensorflow/core/framework/cpu_allocator_impl.cc:81] Allocation of 813694976 exceeds 10% of free system memory.\n"
     ]
    },
    {
     "name": "stdout",
     "output_type": "stream",
     "text": [
      "377/377 [==============================] - 4s 12ms/step - loss: 56.5465 - mean_absolute_error: 5.3436 - val_loss: 34.0313 - val_mean_absolute_error: 4.1594\n",
      "Epoch 2/5\n",
      "377/377 [==============================] - 4s 10ms/step - loss: 34.1267 - mean_absolute_error: 4.2395 - val_loss: 25.1040 - val_mean_absolute_error: 3.4105\n",
      "Epoch 3/5\n",
      "377/377 [==============================] - 4s 10ms/step - loss: 27.1065 - mean_absolute_error: 3.6161 - val_loss: 23.2831 - val_mean_absolute_error: 3.1628\n",
      "Epoch 4/5\n",
      "377/377 [==============================] - 4s 10ms/step - loss: 23.3462 - mean_absolute_error: 3.2068 - val_loss: 24.9982 - val_mean_absolute_error: 3.3748\n",
      "Epoch 5/5\n",
      "377/377 [==============================] - 4s 10ms/step - loss: 20.8662 - mean_absolute_error: 2.9227 - val_loss: 30.8882 - val_mean_absolute_error: 3.9025\n",
      "388/388 [==============================] - 1s 2ms/step - loss: 30.8882 - mean_absolute_error: 3.9025\n"
     ]
    },
    {
     "name": "stderr",
     "output_type": "stream",
     "text": [
      "\u001b[32m[I 2022-08-29 11:51:39,161]\u001b[0m Trial 1 finished with value: 3.9024906158447266 and parameters: {'conv1_lambda': 0.43107750924231397, 'conv2_lambda': 0.11049682151952664, 'conv3_lambda': 0.39933770941266195, 'dense_lambda': 0.03137699851617865, 'epochs': 5}. Best is trial 0 with value: 2.9021849632263184.\u001b[0m\n"
     ]
    },
    {
     "name": "stdout",
     "output_type": "stream",
     "text": [
      "Epoch 1/9\n",
      "  1/377 [..............................] - ETA: 2s - loss: 238.7513 - mean_absolute_error: 12.8390WARNING:tensorflow:Callbacks method `on_train_batch_end` is slow compared to the batch time (batch time: 0.0042s vs `on_train_batch_end` time: 0.0069s). Check your callbacks.\n",
      "377/377 [==============================] - 4s 12ms/step - loss: 53.9215 - mean_absolute_error: 5.3815 - val_loss: 39.8131 - val_mean_absolute_error: 4.8634\n",
      "Epoch 2/9\n",
      "377/377 [==============================] - 4s 10ms/step - loss: 34.1745 - mean_absolute_error: 4.2318 - val_loss: 24.3451 - val_mean_absolute_error: 3.1833\n",
      "Epoch 3/9\n",
      "377/377 [==============================] - 4s 10ms/step - loss: 26.8809 - mean_absolute_error: 3.4731 - val_loss: 22.6520 - val_mean_absolute_error: 2.9626\n",
      "Epoch 4/9\n",
      "377/377 [==============================] - 4s 10ms/step - loss: 24.3495 - mean_absolute_error: 3.1880 - val_loss: 21.8729 - val_mean_absolute_error: 2.8918\n",
      "Epoch 5/9\n",
      "377/377 [==============================] - 4s 10ms/step - loss: 23.1656 - mean_absolute_error: 3.0516 - val_loss: 21.1185 - val_mean_absolute_error: 2.8533\n",
      "Epoch 6/9\n",
      "377/377 [==============================] - 4s 10ms/step - loss: 22.1831 - mean_absolute_error: 2.9395 - val_loss: 21.0119 - val_mean_absolute_error: 2.8267\n",
      "Epoch 7/9\n",
      "377/377 [==============================] - 4s 10ms/step - loss: 21.7100 - mean_absolute_error: 2.8855 - val_loss: 22.9624 - val_mean_absolute_error: 2.9901\n",
      "Epoch 8/9\n",
      "377/377 [==============================] - 4s 10ms/step - loss: 21.1132 - mean_absolute_error: 2.8080 - val_loss: 22.1630 - val_mean_absolute_error: 2.9322\n",
      "Epoch 9/9\n",
      "377/377 [==============================] - 4s 10ms/step - loss: 20.8847 - mean_absolute_error: 2.7808 - val_loss: 23.4539 - val_mean_absolute_error: 3.0445\n",
      "388/388 [==============================] - 1s 2ms/step - loss: 23.4539 - mean_absolute_error: 3.0445\n"
     ]
    },
    {
     "name": "stderr",
     "output_type": "stream",
     "text": [
      "\u001b[32m[I 2022-08-29 11:52:18,691]\u001b[0m Trial 2 finished with value: 3.0445024967193604 and parameters: {'conv1_lambda': 0.22788722324689334, 'conv2_lambda': 0.1528177687859795, 'conv3_lambda': 0.2593116013645763, 'dense_lambda': 0.3750667443765488, 'epochs': 9}. Best is trial 0 with value: 2.9021849632263184.\u001b[0m\n"
     ]
    },
    {
     "name": "stdout",
     "output_type": "stream",
     "text": [
      "Epoch 1/13\n",
      "377/377 [==============================] - 4s 12ms/step - loss: 52.0216 - mean_absolute_error: 5.2948 - val_loss: 30.2011 - val_mean_absolute_error: 3.9068\n",
      "Epoch 2/13\n",
      "377/377 [==============================] - 4s 10ms/step - loss: 30.6161 - mean_absolute_error: 3.9919 - val_loss: 23.9333 - val_mean_absolute_error: 3.1594\n",
      "Epoch 3/13\n",
      "377/377 [==============================] - 4s 10ms/step - loss: 25.0170 - mean_absolute_error: 3.3891 - val_loss: 26.3903 - val_mean_absolute_error: 3.3137\n",
      "Epoch 4/13\n",
      "377/377 [==============================] - 4s 10ms/step - loss: 22.7816 - mean_absolute_error: 3.1155 - val_loss: 30.8059 - val_mean_absolute_error: 3.6617\n",
      "Epoch 5/13\n",
      "377/377 [==============================] - 4s 10ms/step - loss: 21.3916 - mean_absolute_error: 2.9273 - val_loss: 27.9845 - val_mean_absolute_error: 3.4572\n",
      "Epoch 6/13\n",
      "377/377 [==============================] - 4s 10ms/step - loss: 20.1305 - mean_absolute_error: 2.7569 - val_loss: 49.1860 - val_mean_absolute_error: 5.0969\n",
      "Epoch 7/13\n",
      "377/377 [==============================] - 4s 10ms/step - loss: 19.3533 - mean_absolute_error: 2.6494 - val_loss: 42.9409 - val_mean_absolute_error: 4.6735\n",
      "Epoch 8/13\n",
      "377/377 [==============================] - 4s 10ms/step - loss: 18.8187 - mean_absolute_error: 2.5743 - val_loss: 47.1752 - val_mean_absolute_error: 5.0008\n",
      "Epoch 9/13\n",
      "377/377 [==============================] - 4s 10ms/step - loss: 18.1996 - mean_absolute_error: 2.4910 - val_loss: 58.6689 - val_mean_absolute_error: 5.8225\n",
      "Epoch 10/13\n",
      "377/377 [==============================] - 4s 10ms/step - loss: 17.5767 - mean_absolute_error: 2.4046 - val_loss: 86.3935 - val_mean_absolute_error: 7.5325\n",
      "Epoch 11/13\n",
      "377/377 [==============================] - 4s 10ms/step - loss: 16.8282 - mean_absolute_error: 2.3035 - val_loss: 83.6016 - val_mean_absolute_error: 7.3872\n",
      "Epoch 12/13\n",
      "377/377 [==============================] - 4s 10ms/step - loss: 16.3403 - mean_absolute_error: 2.2433 - val_loss: 86.7813 - val_mean_absolute_error: 7.6300\n",
      "Epoch 13/13\n",
      "377/377 [==============================] - 4s 10ms/step - loss: 16.2211 - mean_absolute_error: 2.2393 - val_loss: 101.5773 - val_mean_absolute_error: 8.3961\n",
      "388/388 [==============================] - 1s 2ms/step - loss: 101.5772 - mean_absolute_error: 8.3961\n"
     ]
    },
    {
     "name": "stderr",
     "output_type": "stream",
     "text": [
      "\u001b[32m[I 2022-08-29 11:53:14,004]\u001b[0m Trial 3 finished with value: 8.396099090576172 and parameters: {'conv1_lambda': 0.06670600218577849, 'conv2_lambda': 0.14390980586367688, 'conv3_lambda': 0.37561080184023676, 'dense_lambda': 0.36258678780519366, 'epochs': 13}. Best is trial 0 with value: 2.9021849632263184.\u001b[0m\n"
     ]
    },
    {
     "name": "stdout",
     "output_type": "stream",
     "text": [
      "Epoch 1/15\n",
      "377/377 [==============================] - 5s 12ms/step - loss: 50.9740 - mean_absolute_error: 5.0745 - val_loss: 30.7210 - val_mean_absolute_error: 3.8071\n",
      "Epoch 2/15\n",
      "377/377 [==============================] - 4s 10ms/step - loss: 31.4316 - mean_absolute_error: 3.8926 - val_loss: 24.4469 - val_mean_absolute_error: 3.0658\n",
      "Epoch 3/15\n",
      "377/377 [==============================] - 4s 10ms/step - loss: 26.7469 - mean_absolute_error: 3.4294 - val_loss: 23.4668 - val_mean_absolute_error: 3.0260\n",
      "Epoch 4/15\n",
      "377/377 [==============================] - 4s 10ms/step - loss: 25.0294 - mean_absolute_error: 3.2592 - val_loss: 22.9553 - val_mean_absolute_error: 2.9922\n",
      "Epoch 5/15\n",
      "377/377 [==============================] - 4s 10ms/step - loss: 24.0731 - mean_absolute_error: 3.1760 - val_loss: 22.5805 - val_mean_absolute_error: 2.9590\n",
      "Epoch 6/15\n",
      "377/377 [==============================] - 4s 10ms/step - loss: 23.0940 - mean_absolute_error: 3.0615 - val_loss: 22.9378 - val_mean_absolute_error: 3.0043\n",
      "Epoch 7/15\n",
      "377/377 [==============================] - 4s 10ms/step - loss: 22.2634 - mean_absolute_error: 2.9789 - val_loss: 22.3716 - val_mean_absolute_error: 2.9063\n",
      "Epoch 8/15\n",
      "377/377 [==============================] - 4s 10ms/step - loss: 21.6970 - mean_absolute_error: 2.9042 - val_loss: 22.1628 - val_mean_absolute_error: 2.8807\n",
      "Epoch 9/15\n",
      "377/377 [==============================] - 4s 10ms/step - loss: 21.5227 - mean_absolute_error: 2.8744 - val_loss: 25.1923 - val_mean_absolute_error: 3.1359\n",
      "Epoch 10/15\n",
      "377/377 [==============================] - 4s 10ms/step - loss: 21.1253 - mean_absolute_error: 2.8071 - val_loss: 26.5861 - val_mean_absolute_error: 3.2734\n",
      "Epoch 11/15\n",
      "377/377 [==============================] - 4s 10ms/step - loss: 20.8250 - mean_absolute_error: 2.7686 - val_loss: 24.6969 - val_mean_absolute_error: 3.0879\n",
      "Epoch 12/15\n",
      "377/377 [==============================] - 4s 10ms/step - loss: 20.2747 - mean_absolute_error: 2.6888 - val_loss: 28.0454 - val_mean_absolute_error: 3.3852\n",
      "Epoch 13/15\n",
      "377/377 [==============================] - 4s 10ms/step - loss: 19.9716 - mean_absolute_error: 2.6328 - val_loss: 31.4797 - val_mean_absolute_error: 3.6844\n",
      "Epoch 14/15\n",
      "377/377 [==============================] - 4s 10ms/step - loss: 19.6535 - mean_absolute_error: 2.5895 - val_loss: 37.6022 - val_mean_absolute_error: 4.1956\n",
      "Epoch 15/15\n",
      "377/377 [==============================] - 4s 10ms/step - loss: 19.5091 - mean_absolute_error: 2.5631 - val_loss: 33.0614 - val_mean_absolute_error: 3.8027\n",
      "388/388 [==============================] - 1s 2ms/step - loss: 33.0614 - mean_absolute_error: 3.8027\n"
     ]
    },
    {
     "name": "stderr",
     "output_type": "stream",
     "text": [
      "\u001b[32m[I 2022-08-29 11:54:17,414]\u001b[0m Trial 4 finished with value: 3.802746534347534 and parameters: {'conv1_lambda': 0.12478932843333769, 'conv2_lambda': 0.2256767084892524, 'conv3_lambda': 0.3030438842870876, 'dense_lambda': 0.4172184755740456, 'epochs': 15}. Best is trial 0 with value: 2.9021849632263184.\u001b[0m\n"
     ]
    },
    {
     "name": "stdout",
     "output_type": "stream",
     "text": [
      "Epoch 1/2\n",
      "377/377 [==============================] - 5s 12ms/step - loss: 55.7417 - mean_absolute_error: 5.3879 - val_loss: 35.0354 - val_mean_absolute_error: 4.3663\n",
      "Epoch 2/2\n",
      "377/377 [==============================] - 4s 10ms/step - loss: 33.9038 - mean_absolute_error: 4.2837 - val_loss: 25.1595 - val_mean_absolute_error: 3.3772\n",
      "388/388 [==============================] - 1s 2ms/step - loss: 25.1595 - mean_absolute_error: 3.3772\n"
     ]
    },
    {
     "name": "stderr",
     "output_type": "stream",
     "text": [
      "\u001b[32m[I 2022-08-29 11:54:30,399]\u001b[0m Trial 5 finished with value: 3.3771965503692627 and parameters: {'conv1_lambda': 0.10436442333241594, 'conv2_lambda': 0.3630034272156611, 'conv3_lambda': 0.45921934609597953, 'dense_lambda': 0.3313742767203051, 'epochs': 2}. Best is trial 0 with value: 2.9021849632263184.\u001b[0m\n"
     ]
    },
    {
     "name": "stdout",
     "output_type": "stream",
     "text": [
      "Epoch 1/10\n",
      "  1/377 [..............................] - ETA: 1s - loss: 278.2650 - mean_absolute_error: 13.5197WARNING:tensorflow:Callbacks method `on_train_batch_end` is slow compared to the batch time (batch time: 0.0041s vs `on_train_batch_end` time: 0.0062s). Check your callbacks.\n",
      "377/377 [==============================] - 4s 12ms/step - loss: 59.6148 - mean_absolute_error: 5.3975 - val_loss: 41.3022 - val_mean_absolute_error: 4.8217\n",
      "Epoch 2/10\n",
      "377/377 [==============================] - 4s 10ms/step - loss: 36.1259 - mean_absolute_error: 4.3445 - val_loss: 25.6637 - val_mean_absolute_error: 3.3763\n",
      "Epoch 3/10\n",
      "377/377 [==============================] - 4s 10ms/step - loss: 30.0473 - mean_absolute_error: 3.8277 - val_loss: 22.9165 - val_mean_absolute_error: 2.9886\n",
      "Epoch 4/10\n",
      "377/377 [==============================] - 4s 10ms/step - loss: 27.4374 - mean_absolute_error: 3.5195 - val_loss: 21.5842 - val_mean_absolute_error: 2.7919\n",
      "Epoch 5/10\n",
      "377/377 [==============================] - 4s 10ms/step - loss: 26.4203 - mean_absolute_error: 3.3961 - val_loss: 20.9443 - val_mean_absolute_error: 2.7094\n",
      "Epoch 6/10\n",
      "377/377 [==============================] - 4s 10ms/step - loss: 25.4825 - mean_absolute_error: 3.2695 - val_loss: 21.1824 - val_mean_absolute_error: 2.7212\n",
      "Epoch 7/10\n",
      "377/377 [==============================] - 4s 11ms/step - loss: 24.6766 - mean_absolute_error: 3.1698 - val_loss: 20.7480 - val_mean_absolute_error: 2.6011\n",
      "Epoch 8/10\n",
      "377/377 [==============================] - 4s 10ms/step - loss: 23.9865 - mean_absolute_error: 3.0483 - val_loss: 20.9120 - val_mean_absolute_error: 2.6054\n",
      "Epoch 9/10\n",
      "377/377 [==============================] - 4s 11ms/step - loss: 23.8116 - mean_absolute_error: 3.0196 - val_loss: 21.0428 - val_mean_absolute_error: 2.5934\n",
      "Epoch 10/10\n",
      "377/377 [==============================] - 4s 10ms/step - loss: 23.6590 - mean_absolute_error: 2.9909 - val_loss: 25.0998 - val_mean_absolute_error: 2.9983\n",
      "388/388 [==============================] - 1s 2ms/step - loss: 25.0998 - mean_absolute_error: 2.9983\n"
     ]
    },
    {
     "name": "stderr",
     "output_type": "stream",
     "text": [
      "\u001b[32m[I 2022-08-29 11:55:14,362]\u001b[0m Trial 6 finished with value: 2.9983296394348145 and parameters: {'conv1_lambda': 0.34475665741187383, 'conv2_lambda': 0.3213367914016382, 'conv3_lambda': 0.3958429953832429, 'dense_lambda': 0.28763837290148797, 'epochs': 10}. Best is trial 0 with value: 2.9021849632263184.\u001b[0m\n"
     ]
    },
    {
     "name": "stdout",
     "output_type": "stream",
     "text": [
      "Epoch 1/14\n",
      "377/377 [==============================] - 4s 12ms/step - loss: 59.0865 - mean_absolute_error: 5.4841 - val_loss: 42.1760 - val_mean_absolute_error: 5.0805\n",
      "Epoch 2/14\n",
      "377/377 [==============================] - 4s 10ms/step - loss: 35.7397 - mean_absolute_error: 4.4181 - val_loss: 25.3005 - val_mean_absolute_error: 3.2501\n",
      "Epoch 3/14\n",
      "377/377 [==============================] - 4s 10ms/step - loss: 28.1577 - mean_absolute_error: 3.6855 - val_loss: 23.3518 - val_mean_absolute_error: 3.1129\n",
      "Epoch 4/14\n",
      "377/377 [==============================] - 4s 10ms/step - loss: 25.4813 - mean_absolute_error: 3.4222 - val_loss: 22.1423 - val_mean_absolute_error: 3.0283\n",
      "Epoch 5/14\n",
      "377/377 [==============================] - 4s 10ms/step - loss: 24.5430 - mean_absolute_error: 3.3409 - val_loss: 21.9529 - val_mean_absolute_error: 3.0219\n",
      "Epoch 6/14\n",
      "377/377 [==============================] - 4s 10ms/step - loss: 23.4654 - mean_absolute_error: 3.2217 - val_loss: 22.9636 - val_mean_absolute_error: 3.1150\n",
      "Epoch 7/14\n",
      "377/377 [==============================] - 4s 10ms/step - loss: 23.0462 - mean_absolute_error: 3.1818 - val_loss: 22.4084 - val_mean_absolute_error: 3.0393\n",
      "Epoch 8/14\n",
      "377/377 [==============================] - 4s 10ms/step - loss: 22.1579 - mean_absolute_error: 3.0653 - val_loss: 23.3886 - val_mean_absolute_error: 3.1135\n",
      "Epoch 9/14\n",
      "377/377 [==============================] - 4s 11ms/step - loss: 22.0311 - mean_absolute_error: 3.0290 - val_loss: 23.7512 - val_mean_absolute_error: 3.1371\n",
      "Epoch 10/14\n",
      "377/377 [==============================] - 4s 10ms/step - loss: 21.6791 - mean_absolute_error: 2.9689 - val_loss: 24.9843 - val_mean_absolute_error: 3.2490\n",
      "Epoch 11/14\n",
      "377/377 [==============================] - 4s 10ms/step - loss: 21.2944 - mean_absolute_error: 2.9091 - val_loss: 27.7352 - val_mean_absolute_error: 3.3905\n",
      "Epoch 12/14\n",
      "377/377 [==============================] - 4s 10ms/step - loss: 20.8437 - mean_absolute_error: 2.8333 - val_loss: 26.5260 - val_mean_absolute_error: 3.2959\n",
      "Epoch 13/14\n",
      "377/377 [==============================] - 4s 10ms/step - loss: 20.6209 - mean_absolute_error: 2.7875 - val_loss: 27.4419 - val_mean_absolute_error: 3.3673\n",
      "Epoch 14/14\n",
      "377/377 [==============================] - 4s 10ms/step - loss: 20.3799 - mean_absolute_error: 2.7445 - val_loss: 27.9565 - val_mean_absolute_error: 3.4458\n",
      "388/388 [==============================] - 1s 2ms/step - loss: 27.9566 - mean_absolute_error: 3.4458\n"
     ]
    },
    {
     "name": "stderr",
     "output_type": "stream",
     "text": [
      "\u001b[32m[I 2022-08-29 11:56:13,994]\u001b[0m Trial 7 finished with value: 3.4458296298980713 and parameters: {'conv1_lambda': 0.46139339444363087, 'conv2_lambda': 0.42758699001802375, 'conv3_lambda': 0.24161659231569355, 'dense_lambda': 0.08818123562723493, 'epochs': 14}. Best is trial 0 with value: 2.9021849632263184.\u001b[0m\n"
     ]
    },
    {
     "name": "stdout",
     "output_type": "stream",
     "text": [
      "Epoch 1/2\n",
      "  1/377 [..............................] - ETA: 2s - loss: 258.0096 - mean_absolute_error: 12.6097WARNING:tensorflow:Callbacks method `on_train_batch_end` is slow compared to the batch time (batch time: 0.0041s vs `on_train_batch_end` time: 0.0065s). Check your callbacks.\n",
      "377/377 [==============================] - 4s 12ms/step - loss: 56.8787 - mean_absolute_error: 5.2582 - val_loss: 31.9576 - val_mean_absolute_error: 3.8434\n",
      "Epoch 2/2\n",
      "377/377 [==============================] - 4s 10ms/step - loss: 33.3219 - mean_absolute_error: 4.0964 - val_loss: 23.7983 - val_mean_absolute_error: 3.0710\n",
      "388/388 [==============================] - 1s 2ms/step - loss: 23.7983 - mean_absolute_error: 3.0710\n"
     ]
    },
    {
     "name": "stderr",
     "output_type": "stream",
     "text": [
      "\u001b[32m[I 2022-08-29 11:56:26,863]\u001b[0m Trial 8 finished with value: 3.0709879398345947 and parameters: {'conv1_lambda': 0.20434362123143388, 'conv2_lambda': 0.3148374198597422, 'conv3_lambda': 0.4852691323756259, 'dense_lambda': 0.10280334518841829, 'epochs': 2}. Best is trial 0 with value: 2.9021849632263184.\u001b[0m\n"
     ]
    },
    {
     "name": "stdout",
     "output_type": "stream",
     "text": [
      "Epoch 1/4\n",
      "377/377 [==============================] - 5s 12ms/step - loss: 52.7878 - mean_absolute_error: 5.1768 - val_loss: 29.9226 - val_mean_absolute_error: 3.7139\n",
      "Epoch 2/4\n",
      "377/377 [==============================] - 4s 9ms/step - loss: 31.5209 - mean_absolute_error: 3.9153 - val_loss: 23.5607 - val_mean_absolute_error: 3.0193\n",
      "Epoch 3/4\n",
      "377/377 [==============================] - 4s 9ms/step - loss: 26.0712 - mean_absolute_error: 3.4211 - val_loss: 22.2107 - val_mean_absolute_error: 2.9590\n",
      "Epoch 4/4\n",
      "377/377 [==============================] - 4s 9ms/step - loss: 24.3380 - mean_absolute_error: 3.2639 - val_loss: 21.3283 - val_mean_absolute_error: 2.8762\n",
      "388/388 [==============================] - 1s 2ms/step - loss: 21.3283 - mean_absolute_error: 2.8762\n"
     ]
    },
    {
     "name": "stderr",
     "output_type": "stream",
     "text": [
      "\u001b[32m[I 2022-08-29 11:56:46,485]\u001b[0m Trial 9 finished with value: 2.876227617263794 and parameters: {'conv1_lambda': 0.1396216636557074, 'conv2_lambda': 0.26947348729466225, 'conv3_lambda': 0.2740565502995077, 'dense_lambda': 0.20680071450236187, 'epochs': 4}. Best is trial 9 with value: 2.876227617263794.\u001b[0m\n"
     ]
    },
    {
     "name": "stdout",
     "output_type": "stream",
     "text": [
      "Epoch 1/5\n",
      "377/377 [==============================] - 4s 11ms/step - loss: 38.9927 - mean_absolute_error: 4.7807 - val_loss: 23.8933 - val_mean_absolute_error: 3.5917\n",
      "Epoch 2/5\n",
      "377/377 [==============================] - 4s 10ms/step - loss: 21.5277 - mean_absolute_error: 3.3455 - val_loss: 27.2707 - val_mean_absolute_error: 3.8154\n",
      "Epoch 3/5\n",
      "377/377 [==============================] - 4s 10ms/step - loss: 16.4423 - mean_absolute_error: 2.7091 - val_loss: 56.7616 - val_mean_absolute_error: 5.8159\n",
      "Epoch 4/5\n",
      "377/377 [==============================] - 4s 10ms/step - loss: 13.4785 - mean_absolute_error: 2.3166 - val_loss: 62.5748 - val_mean_absolute_error: 6.1271\n",
      "Epoch 5/5\n",
      "377/377 [==============================] - 4s 10ms/step - loss: 12.0139 - mean_absolute_error: 2.1351 - val_loss: 60.0008 - val_mean_absolute_error: 6.0166\n",
      "388/388 [==============================] - 1s 2ms/step - loss: 60.0007 - mean_absolute_error: 6.0166\n"
     ]
    },
    {
     "name": "stderr",
     "output_type": "stream",
     "text": [
      "\u001b[32m[I 2022-08-29 11:57:10,395]\u001b[0m Trial 10 finished with value: 6.016573429107666 and parameters: {'conv1_lambda': 0.01412783786678587, 'conv2_lambda': 0.014794849114318664, 'conv3_lambda': 0.11560903167034378, 'dense_lambda': 0.2029830768828908, 'epochs': 5}. Best is trial 9 with value: 2.876227617263794.\u001b[0m\n"
     ]
    },
    {
     "name": "stdout",
     "output_type": "stream",
     "text": [
      "Epoch 1/5\n",
      "377/377 [==============================] - 5s 12ms/step - loss: 57.2471 - mean_absolute_error: 5.3378 - val_loss: 34.1130 - val_mean_absolute_error: 3.9944\n",
      "Epoch 2/5\n",
      "377/377 [==============================] - 4s 10ms/step - loss: 34.4622 - mean_absolute_error: 4.1053 - val_loss: 26.2469 - val_mean_absolute_error: 3.2595\n",
      "Epoch 3/5\n",
      "377/377 [==============================] - 4s 10ms/step - loss: 29.4136 - mean_absolute_error: 3.6941 - val_loss: 27.9097 - val_mean_absolute_error: 3.4030\n",
      "Epoch 4/5\n",
      "377/377 [==============================] - 4s 10ms/step - loss: 27.3401 - mean_absolute_error: 3.5095 - val_loss: 25.5023 - val_mean_absolute_error: 3.1760\n",
      "Epoch 5/5\n",
      "377/377 [==============================] - 4s 10ms/step - loss: 26.3015 - mean_absolute_error: 3.4085 - val_loss: 23.4380 - val_mean_absolute_error: 3.0129\n",
      "388/388 [==============================] - 1s 2ms/step - loss: 23.4380 - mean_absolute_error: 3.0129\n"
     ]
    },
    {
     "name": "stderr",
     "output_type": "stream",
     "text": [
      "\u001b[32m[I 2022-08-29 11:57:35,144]\u001b[0m Trial 11 finished with value: 3.0128540992736816 and parameters: {'conv1_lambda': 0.304905313335897, 'conv2_lambda': 0.4972720961431216, 'conv3_lambda': 0.1454016168029771, 'dense_lambda': 0.4894959331651619, 'epochs': 5}. Best is trial 9 with value: 2.876227617263794.\u001b[0m\n"
     ]
    },
    {
     "name": "stdout",
     "output_type": "stream",
     "text": [
      "Epoch 1/7\n",
      "377/377 [==============================] - 5s 12ms/step - loss: 51.0552 - mean_absolute_error: 5.2469 - val_loss: 33.7229 - val_mean_absolute_error: 4.1564\n",
      "Epoch 2/7\n",
      "377/377 [==============================] - 4s 10ms/step - loss: 30.7104 - mean_absolute_error: 3.9174 - val_loss: 24.7341 - val_mean_absolute_error: 3.3222\n",
      "Epoch 3/7\n",
      "377/377 [==============================] - 4s 10ms/step - loss: 24.8414 - mean_absolute_error: 3.3492 - val_loss: 24.4890 - val_mean_absolute_error: 3.2175\n",
      "Epoch 4/7\n",
      "377/377 [==============================] - 4s 10ms/step - loss: 22.5210 - mean_absolute_error: 3.1120 - val_loss: 24.0781 - val_mean_absolute_error: 3.2063\n",
      "Epoch 5/7\n",
      "377/377 [==============================] - 4s 10ms/step - loss: 20.4695 - mean_absolute_error: 2.8733 - val_loss: 25.5076 - val_mean_absolute_error: 3.3401\n",
      "Epoch 6/7\n",
      "377/377 [==============================] - 4s 10ms/step - loss: 19.2003 - mean_absolute_error: 2.7175 - val_loss: 37.5384 - val_mean_absolute_error: 4.3864\n",
      "Epoch 7/7\n",
      "377/377 [==============================] - 4s 10ms/step - loss: 18.5028 - mean_absolute_error: 2.5927 - val_loss: 30.2093 - val_mean_absolute_error: 3.7657\n",
      "388/388 [==============================] - 1s 2ms/step - loss: 30.2093 - mean_absolute_error: 3.7657\n"
     ]
    },
    {
     "name": "stderr",
     "output_type": "stream",
     "text": [
      "\u001b[32m[I 2022-08-29 11:58:07,460]\u001b[0m Trial 12 finished with value: 3.765728712081909 and parameters: {'conv1_lambda': 0.180852198018363, 'conv2_lambda': 0.4974326962848804, 'conv3_lambda': 0.030883005380855255, 'dense_lambda': 0.19922298951244236, 'epochs': 7}. Best is trial 9 with value: 2.876227617263794.\u001b[0m\n"
     ]
    },
    {
     "name": "stdout",
     "output_type": "stream",
     "text": [
      "377/377 [==============================] - 5s 12ms/step - loss: 57.5172 - mean_absolute_error: 5.4490 - val_loss: 42.9659 - val_mean_absolute_error: 5.0770\n",
      "388/388 [==============================] - 1s 2ms/step - loss: 42.9659 - mean_absolute_error: 5.0770\n"
     ]
    },
    {
     "name": "stderr",
     "output_type": "stream",
     "text": [
      "\u001b[32m[I 2022-08-29 11:58:16,631]\u001b[0m Trial 13 finished with value: 5.076996326446533 and parameters: {'conv1_lambda': 0.30137967320475256, 'conv2_lambda': 0.23681530201989906, 'conv3_lambda': 0.31264139656056644, 'dense_lambda': 0.2166059857810478, 'epochs': 1}. Best is trial 9 with value: 2.876227617263794.\u001b[0m\n"
     ]
    },
    {
     "name": "stdout",
     "output_type": "stream",
     "text": [
      "Epoch 1/7\n",
      "377/377 [==============================] - 5s 12ms/step - loss: 54.0984 - mean_absolute_error: 5.2898 - val_loss: 33.4348 - val_mean_absolute_error: 4.0617\n",
      "Epoch 2/7\n",
      "377/377 [==============================] - 4s 10ms/step - loss: 34.0104 - mean_absolute_error: 4.1791 - val_loss: 24.8781 - val_mean_absolute_error: 3.2161\n",
      "Epoch 3/7\n",
      "377/377 [==============================] - 4s 10ms/step - loss: 28.6613 - mean_absolute_error: 3.6928 - val_loss: 24.0683 - val_mean_absolute_error: 3.1907\n",
      "Epoch 4/7\n",
      "377/377 [==============================] - 4s 10ms/step - loss: 26.4769 - mean_absolute_error: 3.4761 - val_loss: 22.4225 - val_mean_absolute_error: 3.0350\n",
      "Epoch 5/7\n",
      "377/377 [==============================] - 4s 10ms/step - loss: 25.2261 - mean_absolute_error: 3.3335 - val_loss: 24.6369 - val_mean_absolute_error: 3.1413\n",
      "Epoch 6/7\n",
      "377/377 [==============================] - 4s 10ms/step - loss: 24.0924 - mean_absolute_error: 3.1801 - val_loss: 29.7189 - val_mean_absolute_error: 3.5428\n",
      "Epoch 7/7\n",
      "377/377 [==============================] - 4s 10ms/step - loss: 23.2515 - mean_absolute_error: 3.0774 - val_loss: 31.2238 - val_mean_absolute_error: 3.6653\n",
      "388/388 [==============================] - 1s 2ms/step - loss: 31.2238 - mean_absolute_error: 3.6653\n"
     ]
    },
    {
     "name": "stderr",
     "output_type": "stream",
     "text": [
      "\u001b[32m[I 2022-08-29 11:58:48,866]\u001b[0m Trial 14 finished with value: 3.6652722358703613 and parameters: {'conv1_lambda': 0.15620568124981055, 'conv2_lambda': 0.3893319871612847, 'conv3_lambda': 0.21064570892603635, 'dense_lambda': 0.48313106763954194, 'epochs': 7}. Best is trial 9 with value: 2.876227617263794.\u001b[0m\n"
     ]
    },
    {
     "name": "stdout",
     "output_type": "stream",
     "text": [
      "Epoch 1/4\n",
      "377/377 [==============================] - 5s 12ms/step - loss: 56.3921 - mean_absolute_error: 5.3763 - val_loss: 41.0376 - val_mean_absolute_error: 4.8629\n",
      "Epoch 2/4\n",
      "377/377 [==============================] - 4s 10ms/step - loss: 35.6561 - mean_absolute_error: 4.3833 - val_loss: 27.7255 - val_mean_absolute_error: 3.4642\n",
      "Epoch 3/4\n",
      "377/377 [==============================] - 4s 10ms/step - loss: 29.7625 - mean_absolute_error: 3.8573 - val_loss: 25.5782 - val_mean_absolute_error: 3.3717\n",
      "Epoch 4/4\n",
      "377/377 [==============================] - 4s 10ms/step - loss: 27.4293 - mean_absolute_error: 3.6181 - val_loss: 24.8871 - val_mean_absolute_error: 3.2963\n",
      "388/388 [==============================] - 1s 2ms/step - loss: 24.8871 - mean_absolute_error: 3.2963\n"
     ]
    },
    {
     "name": "stderr",
     "output_type": "stream",
     "text": [
      "\u001b[32m[I 2022-08-29 11:59:09,730]\u001b[0m Trial 15 finished with value: 3.296269416809082 and parameters: {'conv1_lambda': 0.275118821004492, 'conv2_lambda': 0.2869547935055981, 'conv3_lambda': 0.3425453831905678, 'dense_lambda': 0.2682565332654872, 'epochs': 4}. Best is trial 9 with value: 2.876227617263794.\u001b[0m\n"
     ]
    },
    {
     "name": "stdout",
     "output_type": "stream",
     "text": [
      "Epoch 1/11\n",
      "377/377 [==============================] - 5s 12ms/step - loss: 55.0017 - mean_absolute_error: 5.3394 - val_loss: 33.3559 - val_mean_absolute_error: 4.0662\n",
      "Epoch 2/11\n",
      "377/377 [==============================] - 4s 10ms/step - loss: 34.4249 - mean_absolute_error: 4.2172 - val_loss: 25.4537 - val_mean_absolute_error: 3.3494\n",
      "Epoch 3/11\n",
      "377/377 [==============================] - 4s 10ms/step - loss: 28.7493 - mean_absolute_error: 3.7070 - val_loss: 27.3477 - val_mean_absolute_error: 3.5114\n",
      "Epoch 4/11\n",
      "377/377 [==============================] - 4s 10ms/step - loss: 25.3967 - mean_absolute_error: 3.3626 - val_loss: 23.0983 - val_mean_absolute_error: 3.0359\n",
      "Epoch 5/11\n",
      "377/377 [==============================] - 4s 10ms/step - loss: 23.6417 - mean_absolute_error: 3.1425 - val_loss: 22.8105 - val_mean_absolute_error: 2.9937\n",
      "Epoch 6/11\n",
      "377/377 [==============================] - 4s 10ms/step - loss: 22.0830 - mean_absolute_error: 2.9453 - val_loss: 22.1105 - val_mean_absolute_error: 2.9090\n",
      "Epoch 7/11\n",
      "377/377 [==============================] - 4s 10ms/step - loss: 21.3691 - mean_absolute_error: 2.8500 - val_loss: 21.5508 - val_mean_absolute_error: 2.8367\n",
      "Epoch 8/11\n",
      "377/377 [==============================] - 4s 11ms/step - loss: 20.5675 - mean_absolute_error: 2.7408 - val_loss: 21.3179 - val_mean_absolute_error: 2.8066\n",
      "Epoch 9/11\n",
      "377/377 [==============================] - 4s 11ms/step - loss: 20.3137 - mean_absolute_error: 2.6946 - val_loss: 21.1890 - val_mean_absolute_error: 2.7922\n",
      "Epoch 10/11\n",
      "377/377 [==============================] - 4s 10ms/step - loss: 20.0489 - mean_absolute_error: 2.6595 - val_loss: 27.6916 - val_mean_absolute_error: 3.3746\n",
      "Epoch 11/11\n",
      "377/377 [==============================] - 4s 10ms/step - loss: 19.5444 - mean_absolute_error: 2.5797 - val_loss: 21.0463 - val_mean_absolute_error: 2.7768\n",
      "388/388 [==============================] - 1s 2ms/step - loss: 21.0463 - mean_absolute_error: 2.7768\n"
     ]
    },
    {
     "name": "stderr",
     "output_type": "stream",
     "text": [
      "\u001b[32m[I 2022-08-29 11:59:57,691]\u001b[0m Trial 16 finished with value: 2.776770830154419 and parameters: {'conv1_lambda': 0.3640657184941216, 'conv2_lambda': 0.43120380767556027, 'conv3_lambda': 0.1850290362769564, 'dense_lambda': 0.1348157361445224, 'epochs': 11}. Best is trial 16 with value: 2.776770830154419.\u001b[0m\n"
     ]
    },
    {
     "name": "stdout",
     "output_type": "stream",
     "text": [
      "Epoch 1/11\n",
      "  1/377 [..............................] - ETA: 2s - loss: 247.7855 - mean_absolute_error: 13.0080WARNING:tensorflow:Callbacks method `on_train_batch_end` is slow compared to the batch time (batch time: 0.0041s vs `on_train_batch_end` time: 0.0068s). Check your callbacks.\n",
      "377/377 [==============================] - 5s 12ms/step - loss: 57.2611 - mean_absolute_error: 5.4103 - val_loss: 43.4247 - val_mean_absolute_error: 4.9672\n",
      "Epoch 2/11\n",
      "377/377 [==============================] - 4s 10ms/step - loss: 35.9951 - mean_absolute_error: 4.3423 - val_loss: 28.1193 - val_mean_absolute_error: 3.5265\n",
      "Epoch 3/11\n",
      "377/377 [==============================] - 4s 10ms/step - loss: 29.2285 - mean_absolute_error: 3.7476 - val_loss: 30.9440 - val_mean_absolute_error: 3.7310\n",
      "Epoch 4/11\n",
      "377/377 [==============================] - 4s 10ms/step - loss: 26.0923 - mean_absolute_error: 3.4504 - val_loss: 32.2659 - val_mean_absolute_error: 3.7485\n",
      "Epoch 5/11\n",
      "377/377 [==============================] - 4s 10ms/step - loss: 24.8927 - mean_absolute_error: 3.3225 - val_loss: 30.6588 - val_mean_absolute_error: 3.6266\n",
      "Epoch 6/11\n",
      "377/377 [==============================] - 4s 10ms/step - loss: 23.3747 - mean_absolute_error: 3.1436 - val_loss: 33.9457 - val_mean_absolute_error: 3.8602\n",
      "Epoch 7/11\n",
      "377/377 [==============================] - 4s 10ms/step - loss: 22.3316 - mean_absolute_error: 3.0236 - val_loss: 35.1946 - val_mean_absolute_error: 3.9794\n",
      "Epoch 8/11\n",
      "377/377 [==============================] - 4s 10ms/step - loss: 21.4914 - mean_absolute_error: 2.9042 - val_loss: 36.1830 - val_mean_absolute_error: 4.0998\n",
      "Epoch 9/11\n",
      "377/377 [==============================] - 4s 10ms/step - loss: 20.9681 - mean_absolute_error: 2.8295 - val_loss: 37.9400 - val_mean_absolute_error: 4.2626\n",
      "Epoch 10/11\n",
      "377/377 [==============================] - 4s 10ms/step - loss: 20.4513 - mean_absolute_error: 2.7575 - val_loss: 40.1543 - val_mean_absolute_error: 4.4767\n",
      "Epoch 11/11\n",
      "377/377 [==============================] - 4s 11ms/step - loss: 19.6025 - mean_absolute_error: 2.6366 - val_loss: 40.6257 - val_mean_absolute_error: 4.5226\n",
      "388/388 [==============================] - 1s 2ms/step - loss: 40.6257 - mean_absolute_error: 4.5226\n"
     ]
    },
    {
     "name": "stderr",
     "output_type": "stream",
     "text": [
      "\u001b[32m[I 2022-08-29 12:00:45,741]\u001b[0m Trial 17 finished with value: 4.522624969482422 and parameters: {'conv1_lambda': 0.36754992201115805, 'conv2_lambda': 0.3821122424385721, 'conv3_lambda': 0.16899191510010814, 'dense_lambda': 0.13018043417013994, 'epochs': 11}. Best is trial 16 with value: 2.776770830154419.\u001b[0m\n"
     ]
    },
    {
     "name": "stdout",
     "output_type": "stream",
     "text": [
      "Epoch 1/12\n",
      "377/377 [==============================] - 5s 12ms/step - loss: 46.7495 - mean_absolute_error: 5.0781 - val_loss: 28.4274 - val_mean_absolute_error: 3.6607\n",
      "Epoch 2/12\n",
      "377/377 [==============================] - 4s 10ms/step - loss: 30.3048 - mean_absolute_error: 3.8393 - val_loss: 32.5394 - val_mean_absolute_error: 3.9493\n",
      "Epoch 3/12\n",
      "377/377 [==============================] - 4s 10ms/step - loss: 22.8867 - mean_absolute_error: 3.0427 - val_loss: 50.5552 - val_mean_absolute_error: 5.4410\n",
      "Epoch 4/12\n",
      "377/377 [==============================] - 4s 10ms/step - loss: 19.6596 - mean_absolute_error: 2.6561 - val_loss: 47.9813 - val_mean_absolute_error: 5.3443\n",
      "Epoch 5/12\n",
      "377/377 [==============================] - 4s 10ms/step - loss: 17.8901 - mean_absolute_error: 2.4662 - val_loss: 71.3365 - val_mean_absolute_error: 6.8460\n",
      "Epoch 6/12\n",
      "377/377 [==============================] - 4s 10ms/step - loss: 16.6330 - mean_absolute_error: 2.3394 - val_loss: 80.8799 - val_mean_absolute_error: 7.3789\n",
      "Epoch 7/12\n",
      "377/377 [==============================] - 4s 10ms/step - loss: 15.9567 - mean_absolute_error: 2.2840 - val_loss: 70.0184 - val_mean_absolute_error: 6.8328\n",
      "Epoch 8/12\n",
      "377/377 [==============================] - 4s 11ms/step - loss: 15.3589 - mean_absolute_error: 2.2331 - val_loss: 79.5467 - val_mean_absolute_error: 7.3249\n",
      "Epoch 9/12\n",
      "377/377 [==============================] - 4s 10ms/step - loss: 14.6583 - mean_absolute_error: 2.1577 - val_loss: 95.1390 - val_mean_absolute_error: 8.1146\n",
      "Epoch 10/12\n",
      "377/377 [==============================] - 4s 11ms/step - loss: 14.4687 - mean_absolute_error: 2.1542 - val_loss: 114.4649 - val_mean_absolute_error: 8.9338\n",
      "Epoch 11/12\n",
      "377/377 [==============================] - 4s 11ms/step - loss: 14.1684 - mean_absolute_error: 2.1286 - val_loss: 87.0018 - val_mean_absolute_error: 7.7206\n",
      "Epoch 12/12\n",
      "377/377 [==============================] - 4s 10ms/step - loss: 13.4247 - mean_absolute_error: 2.0282 - val_loss: 124.4204 - val_mean_absolute_error: 9.2584\n",
      "388/388 [==============================] - 1s 2ms/step - loss: 124.4204 - mean_absolute_error: 9.2584\n"
     ]
    },
    {
     "name": "stderr",
     "output_type": "stream",
     "text": [
      "\u001b[32m[I 2022-08-29 12:01:37,975]\u001b[0m Trial 18 finished with value: 9.258382797241211 and parameters: {'conv1_lambda': 0.3819720093376457, 'conv2_lambda': 0.06352007588027206, 'conv3_lambda': 0.0735801495902676, 'dense_lambda': 0.15270557754257874, 'epochs': 12}. Best is trial 16 with value: 2.776770830154419.\u001b[0m\n"
     ]
    },
    {
     "name": "stdout",
     "output_type": "stream",
     "text": [
      "Epoch 1/9\n",
      "377/377 [==============================] - 5s 12ms/step - loss: 55.2430 - mean_absolute_error: 5.3609 - val_loss: 36.6180 - val_mean_absolute_error: 4.4045\n",
      "Epoch 2/9\n",
      "377/377 [==============================] - 4s 10ms/step - loss: 33.4429 - mean_absolute_error: 4.1114 - val_loss: 23.7167 - val_mean_absolute_error: 3.0961\n",
      "Epoch 3/9\n",
      "377/377 [==============================] - 4s 10ms/step - loss: 27.0765 - mean_absolute_error: 3.5152 - val_loss: 22.3593 - val_mean_absolute_error: 2.9949\n",
      "Epoch 4/9\n",
      "377/377 [==============================] - 4s 10ms/step - loss: 24.4083 - mean_absolute_error: 3.2771 - val_loss: 22.2411 - val_mean_absolute_error: 2.9990\n",
      "Epoch 5/9\n",
      "377/377 [==============================] - 4s 10ms/step - loss: 22.8664 - mean_absolute_error: 3.1284 - val_loss: 22.0918 - val_mean_absolute_error: 3.0187\n",
      "Epoch 6/9\n",
      "377/377 [==============================] - 4s 10ms/step - loss: 21.9176 - mean_absolute_error: 3.0379 - val_loss: 22.6121 - val_mean_absolute_error: 3.0902\n",
      "Epoch 7/9\n",
      "377/377 [==============================] - 4s 10ms/step - loss: 21.3156 - mean_absolute_error: 2.9846 - val_loss: 22.7852 - val_mean_absolute_error: 3.1268\n",
      "Epoch 8/9\n",
      "377/377 [==============================] - 4s 10ms/step - loss: 20.2125 - mean_absolute_error: 2.8635 - val_loss: 23.2345 - val_mean_absolute_error: 3.1647\n",
      "Epoch 9/9\n",
      "377/377 [==============================] - 4s 10ms/step - loss: 20.0563 - mean_absolute_error: 2.8364 - val_loss: 25.9072 - val_mean_absolute_error: 3.4312\n",
      "388/388 [==============================] - 1s 2ms/step - loss: 25.9073 - mean_absolute_error: 3.4312\n"
     ]
    },
    {
     "name": "stderr",
     "output_type": "stream",
     "text": [
      "\u001b[32m[I 2022-08-29 12:02:18,165]\u001b[0m Trial 19 finished with value: 3.431211233139038 and parameters: {'conv1_lambda': 0.4267879544038218, 'conv2_lambda': 0.2042526740351699, 'conv3_lambda': 0.19564719290846677, 'dense_lambda': 0.050929744484293965, 'epochs': 9}. Best is trial 16 with value: 2.776770830154419.\u001b[0m\n"
     ]
    },
    {
     "name": "stdout",
     "output_type": "stream",
     "text": [
      "Epoch 1/3\n",
      "377/377 [==============================] - 5s 12ms/step - loss: 61.8729 - mean_absolute_error: 5.5618 - val_loss: 57.6767 - val_mean_absolute_error: 6.2099\n",
      "Epoch 2/3\n",
      "377/377 [==============================] - 4s 10ms/step - loss: 40.3164 - mean_absolute_error: 4.8641 - val_loss: 26.2672 - val_mean_absolute_error: 3.4786\n",
      "Epoch 3/3\n",
      "377/377 [==============================] - 4s 10ms/step - loss: 30.1991 - mean_absolute_error: 3.9135 - val_loss: 21.5110 - val_mean_absolute_error: 2.8900\n",
      "388/388 [==============================] - 1s 2ms/step - loss: 21.5110 - mean_absolute_error: 2.8900\n"
     ]
    },
    {
     "name": "stderr",
     "output_type": "stream",
     "text": [
      "\u001b[32m[I 2022-08-29 12:02:35,115]\u001b[0m Trial 20 finished with value: 2.889956474304199 and parameters: {'conv1_lambda': 0.48862210133946504, 'conv2_lambda': 0.42601204597561654, 'conv3_lambda': 0.2644350092158089, 'dense_lambda': 0.1626762996152142, 'epochs': 3}. Best is trial 16 with value: 2.776770830154419.\u001b[0m\n"
     ]
    },
    {
     "name": "stdout",
     "output_type": "stream",
     "text": [
      "Epoch 1/3\n",
      "377/377 [==============================] - 4s 12ms/step - loss: 61.8625 - mean_absolute_error: 5.5145 - val_loss: 58.9574 - val_mean_absolute_error: 6.2646\n",
      "Epoch 2/3\n",
      "377/377 [==============================] - 4s 10ms/step - loss: 41.7864 - mean_absolute_error: 4.9961 - val_loss: 31.5140 - val_mean_absolute_error: 4.0323\n",
      "Epoch 3/3\n",
      "377/377 [==============================] - 4s 10ms/step - loss: 31.7896 - mean_absolute_error: 4.0957 - val_loss: 27.4240 - val_mean_absolute_error: 3.5826\n",
      "388/388 [==============================] - 1s 2ms/step - loss: 27.4240 - mean_absolute_error: 3.5826\n"
     ]
    },
    {
     "name": "stderr",
     "output_type": "stream",
     "text": [
      "\u001b[32m[I 2022-08-29 12:02:51,763]\u001b[0m Trial 21 finished with value: 3.5825605392456055 and parameters: {'conv1_lambda': 0.49660611239034747, 'conv2_lambda': 0.4203897455487843, 'conv3_lambda': 0.27801739844963236, 'dense_lambda': 0.15871215942781472, 'epochs': 3}. Best is trial 16 with value: 2.776770830154419.\u001b[0m\n"
     ]
    },
    {
     "name": "stdout",
     "output_type": "stream",
     "text": [
      "Epoch 1/3\n",
      "377/377 [==============================] - 5s 12ms/step - loss: 57.6527 - mean_absolute_error: 5.4119 - val_loss: 37.3390 - val_mean_absolute_error: 4.3679\n",
      "Epoch 2/3\n",
      "377/377 [==============================] - 4s 10ms/step - loss: 35.4035 - mean_absolute_error: 4.2294 - val_loss: 26.3521 - val_mean_absolute_error: 3.3059\n",
      "Epoch 3/3\n",
      "377/377 [==============================] - 4s 9ms/step - loss: 29.1274 - mean_absolute_error: 3.6536 - val_loss: 24.6423 - val_mean_absolute_error: 3.1697\n",
      "388/388 [==============================] - 1s 2ms/step - loss: 24.6424 - mean_absolute_error: 3.1697\n"
     ]
    },
    {
     "name": "stderr",
     "output_type": "stream",
     "text": [
      "\u001b[32m[I 2022-08-29 12:03:08,030]\u001b[0m Trial 22 finished with value: 3.169728994369507 and parameters: {'conv1_lambda': 0.49957333433818824, 'conv2_lambda': 0.3380355154689043, 'conv3_lambda': 0.21641915524874505, 'dense_lambda': 0.2477678461293341, 'epochs': 3}. Best is trial 16 with value: 2.776770830154419.\u001b[0m\n"
     ]
    },
    {
     "name": "stdout",
     "output_type": "stream",
     "text": [
      "Epoch 1/8\n",
      "377/377 [==============================] - 4s 11ms/step - loss: 54.1642 - mean_absolute_error: 5.3491 - val_loss: 39.0906 - val_mean_absolute_error: 4.6524\n",
      "Epoch 2/8\n",
      "377/377 [==============================] - 4s 9ms/step - loss: 35.9133 - mean_absolute_error: 4.3289 - val_loss: 26.7729 - val_mean_absolute_error: 3.3498\n",
      "Epoch 3/8\n",
      "377/377 [==============================] - 4s 9ms/step - loss: 27.9972 - mean_absolute_error: 3.5775 - val_loss: 23.6735 - val_mean_absolute_error: 3.0258\n",
      "Epoch 4/8\n",
      "377/377 [==============================] - 4s 10ms/step - loss: 24.4092 - mean_absolute_error: 3.1657 - val_loss: 29.1090 - val_mean_absolute_error: 3.4884\n",
      "Epoch 5/8\n",
      "377/377 [==============================] - 4s 9ms/step - loss: 22.2274 - mean_absolute_error: 2.9096 - val_loss: 24.9374 - val_mean_absolute_error: 3.1216\n",
      "Epoch 6/8\n",
      "377/377 [==============================] - 4s 9ms/step - loss: 21.4092 - mean_absolute_error: 2.8178 - val_loss: 32.3557 - val_mean_absolute_error: 3.8072\n",
      "Epoch 7/8\n",
      "377/377 [==============================] - 4s 9ms/step - loss: 20.3578 - mean_absolute_error: 2.6987 - val_loss: 27.7258 - val_mean_absolute_error: 3.3993\n",
      "Epoch 8/8\n",
      "377/377 [==============================] - 4s 9ms/step - loss: 19.5356 - mean_absolute_error: 2.5933 - val_loss: 36.5528 - val_mean_absolute_error: 4.1461\n",
      "388/388 [==============================] - 1s 2ms/step - loss: 36.5528 - mean_absolute_error: 4.1461\n"
     ]
    },
    {
     "name": "stderr",
     "output_type": "stream",
     "text": [
      "\u001b[32m[I 2022-08-29 12:03:41,550]\u001b[0m Trial 23 finished with value: 4.146132469177246 and parameters: {'conv1_lambda': 0.41079088468180347, 'conv2_lambda': 0.276753033596648, 'conv3_lambda': 0.1256431134545198, 'dense_lambda': 0.17041356981465894, 'epochs': 8}. Best is trial 16 with value: 2.776770830154419.\u001b[0m\n"
     ]
    },
    {
     "name": "stdout",
     "output_type": "stream",
     "text": [
      "377/377 [==============================] - 4s 11ms/step - loss: 59.7219 - mean_absolute_error: 5.4877 - val_loss: 47.2905 - val_mean_absolute_error: 5.5220\n",
      "388/388 [==============================] - 1s 2ms/step - loss: 47.2905 - mean_absolute_error: 5.5220\n"
     ]
    },
    {
     "name": "stderr",
     "output_type": "stream",
     "text": [
      "\u001b[32m[I 2022-08-29 12:03:50,166]\u001b[0m Trial 24 finished with value: 5.521961212158203 and parameters: {'conv1_lambda': 0.3287863771135835, 'conv2_lambda': 0.44128298549399053, 'conv3_lambda': 0.28265128093168557, 'dense_lambda': 0.07107889621906635, 'epochs': 1}. Best is trial 16 with value: 2.776770830154419.\u001b[0m\n"
     ]
    },
    {
     "name": "stdout",
     "output_type": "stream",
     "text": [
      "Epoch 1/11\n",
      "377/377 [==============================] - 4s 11ms/step - loss: 54.5903 - mean_absolute_error: 5.2968 - val_loss: 34.7177 - val_mean_absolute_error: 4.1977\n",
      "Epoch 2/11\n",
      "377/377 [==============================] - 4s 10ms/step - loss: 33.6802 - mean_absolute_error: 4.1484 - val_loss: 26.1807 - val_mean_absolute_error: 3.2940\n",
      "Epoch 3/11\n",
      "377/377 [==============================] - 4s 10ms/step - loss: 27.0874 - mean_absolute_error: 3.5099 - val_loss: 23.9023 - val_mean_absolute_error: 3.1241\n",
      "Epoch 4/11\n",
      "377/377 [==============================] - 4s 10ms/step - loss: 24.0643 - mean_absolute_error: 3.1476 - val_loss: 26.3294 - val_mean_absolute_error: 3.2765\n",
      "Epoch 5/11\n",
      "377/377 [==============================] - 4s 10ms/step - loss: 22.2482 - mean_absolute_error: 2.9105 - val_loss: 28.8750 - val_mean_absolute_error: 3.5196\n",
      "Epoch 6/11\n",
      "377/377 [==============================] - 4s 10ms/step - loss: 20.8201 - mean_absolute_error: 2.7272 - val_loss: 41.3376 - val_mean_absolute_error: 4.6206\n",
      "Epoch 7/11\n",
      "377/377 [==============================] - 4s 10ms/step - loss: 20.3171 - mean_absolute_error: 2.6548 - val_loss: 34.2397 - val_mean_absolute_error: 4.0620\n",
      "Epoch 8/11\n",
      "377/377 [==============================] - 4s 10ms/step - loss: 19.3090 - mean_absolute_error: 2.5218 - val_loss: 44.9531 - val_mean_absolute_error: 4.9338\n",
      "Epoch 9/11\n",
      "377/377 [==============================] - 4s 10ms/step - loss: 18.8524 - mean_absolute_error: 2.4648 - val_loss: 62.2260 - val_mean_absolute_error: 6.1342\n",
      "Epoch 10/11\n",
      "377/377 [==============================] - 4s 10ms/step - loss: 18.4842 - mean_absolute_error: 2.4232 - val_loss: 79.5910 - val_mean_absolute_error: 7.1770\n",
      "Epoch 11/11\n",
      "377/377 [==============================] - 4s 11ms/step - loss: 17.8701 - mean_absolute_error: 2.3340 - val_loss: 79.1779 - val_mean_absolute_error: 7.1503\n",
      "388/388 [==============================] - 1s 2ms/step - loss: 79.1779 - mean_absolute_error: 7.1503\n"
     ]
    },
    {
     "name": "stderr",
     "output_type": "stream",
     "text": [
      "\u001b[32m[I 2022-08-29 12:04:37,630]\u001b[0m Trial 25 finished with value: 7.150275707244873 and parameters: {'conv1_lambda': 0.26217264386309624, 'conv2_lambda': 0.4080998408903703, 'conv3_lambda': 0.17109771509634875, 'dense_lambda': 0.23429371841590305, 'epochs': 11}. Best is trial 16 with value: 2.776770830154419.\u001b[0m\n"
     ]
    },
    {
     "name": "stdout",
     "output_type": "stream",
     "text": [
      "Epoch 1/4\n",
      "377/377 [==============================] - 5s 12ms/step - loss: 57.7689 - mean_absolute_error: 5.4137 - val_loss: 43.4585 - val_mean_absolute_error: 5.1720\n",
      "Epoch 2/4\n",
      "377/377 [==============================] - 4s 10ms/step - loss: 36.1089 - mean_absolute_error: 4.3573 - val_loss: 25.6953 - val_mean_absolute_error: 3.4013\n",
      "Epoch 3/4\n",
      "377/377 [==============================] - 4s 11ms/step - loss: 29.6394 - mean_absolute_error: 3.7727 - val_loss: 23.0955 - val_mean_absolute_error: 3.0881\n",
      "Epoch 4/4\n",
      "377/377 [==============================] - 4s 10ms/step - loss: 26.7140 - mean_absolute_error: 3.4589 - val_loss: 22.6310 - val_mean_absolute_error: 2.9845\n",
      "388/388 [==============================] - 1s 2ms/step - loss: 22.6310 - mean_absolute_error: 2.9845\n"
     ]
    },
    {
     "name": "stderr",
     "output_type": "stream",
     "text": [
      "\u001b[32m[I 2022-08-29 12:04:58,589]\u001b[0m Trial 26 finished with value: 2.9844677448272705 and parameters: {'conv1_lambda': 0.4604818490972849, 'conv2_lambda': 0.35353274062612267, 'conv3_lambda': 0.23508125379144307, 'dense_lambda': 0.29952696093373815, 'epochs': 4}. Best is trial 16 with value: 2.776770830154419.\u001b[0m\n"
     ]
    },
    {
     "name": "stdout",
     "output_type": "stream",
     "text": [
      "Epoch 1/7\n",
      "377/377 [==============================] - 4s 12ms/step - loss: 53.3479 - mean_absolute_error: 5.1926 - val_loss: 33.8751 - val_mean_absolute_error: 4.0788\n",
      "Epoch 2/7\n",
      "377/377 [==============================] - 4s 10ms/step - loss: 33.5079 - mean_absolute_error: 4.0498 - val_loss: 26.0325 - val_mean_absolute_error: 3.3113\n",
      "Epoch 3/7\n",
      "377/377 [==============================] - 4s 10ms/step - loss: 27.7406 - mean_absolute_error: 3.5226 - val_loss: 26.0482 - val_mean_absolute_error: 3.2564\n",
      "Epoch 4/7\n",
      "377/377 [==============================] - 4s 10ms/step - loss: 24.6804 - mean_absolute_error: 3.2287 - val_loss: 32.9268 - val_mean_absolute_error: 3.9148\n",
      "Epoch 5/7\n",
      "377/377 [==============================] - 4s 10ms/step - loss: 22.7095 - mean_absolute_error: 3.0225 - val_loss: 22.4060 - val_mean_absolute_error: 2.9090\n",
      "Epoch 6/7\n",
      "377/377 [==============================] - 4s 10ms/step - loss: 21.4200 - mean_absolute_error: 2.8853 - val_loss: 47.4237 - val_mean_absolute_error: 5.0968\n",
      "Epoch 7/7\n",
      "377/377 [==============================] - 4s 10ms/step - loss: 20.3058 - mean_absolute_error: 2.7708 - val_loss: 31.9930 - val_mean_absolute_error: 3.9096\n",
      "388/388 [==============================] - 1s 2ms/step - loss: 31.9930 - mean_absolute_error: 3.9096\n"
     ]
    },
    {
     "name": "stderr",
     "output_type": "stream",
     "text": [
      "\u001b[32m[I 2022-08-29 12:05:30,943]\u001b[0m Trial 27 finished with value: 3.909576177597046 and parameters: {'conv1_lambda': 0.3860602107124208, 'conv2_lambda': 0.46879171933614205, 'conv3_lambda': 0.08175210509465228, 'dense_lambda': 0.11556104849318481, 'epochs': 7}. Best is trial 16 with value: 2.776770830154419.\u001b[0m\n"
     ]
    },
    {
     "name": "stdout",
     "output_type": "stream",
     "text": [
      "Epoch 1/3\n",
      "377/377 [==============================] - 5s 12ms/step - loss: 52.9681 - mean_absolute_error: 5.2002 - val_loss: 31.6103 - val_mean_absolute_error: 3.9999\n",
      "Epoch 2/3\n",
      "377/377 [==============================] - 4s 10ms/step - loss: 30.2218 - mean_absolute_error: 3.9270 - val_loss: 29.1057 - val_mean_absolute_error: 3.7394\n",
      "Epoch 3/3\n",
      "377/377 [==============================] - 4s 10ms/step - loss: 23.0562 - mean_absolute_error: 3.2516 - val_loss: 30.0221 - val_mean_absolute_error: 3.9362\n",
      "388/388 [==============================] - 1s 2ms/step - loss: 30.0220 - mean_absolute_error: 3.9362\n"
     ]
    },
    {
     "name": "stderr",
     "output_type": "stream",
     "text": [
      "\u001b[32m[I 2022-08-29 12:05:47,782]\u001b[0m Trial 28 finished with value: 3.93617582321167 and parameters: {'conv1_lambda': 0.04909760542863088, 'conv2_lambda': 0.28612240497710684, 'conv3_lambda': 0.33027608174305206, 'dense_lambda': 0.015101980896861267, 'epochs': 3}. Best is trial 16 with value: 2.776770830154419.\u001b[0m\n"
     ]
    },
    {
     "name": "stdout",
     "output_type": "stream",
     "text": [
      "Epoch 1/6\n",
      "377/377 [==============================] - 5s 12ms/step - loss: 59.4125 - mean_absolute_error: 5.3540 - val_loss: 36.4348 - val_mean_absolute_error: 4.2571\n",
      "Epoch 2/6\n",
      "377/377 [==============================] - 4s 10ms/step - loss: 35.5259 - mean_absolute_error: 4.2867 - val_loss: 27.4456 - val_mean_absolute_error: 3.4766\n",
      "Epoch 3/6\n",
      "377/377 [==============================] - 4s 10ms/step - loss: 29.5138 - mean_absolute_error: 3.7665 - val_loss: 26.5613 - val_mean_absolute_error: 3.3353\n",
      "Epoch 4/6\n",
      "377/377 [==============================] - 4s 10ms/step - loss: 26.8673 - mean_absolute_error: 3.5023 - val_loss: 26.8075 - val_mean_absolute_error: 3.3501\n",
      "Epoch 5/6\n",
      "377/377 [==============================] - 4s 10ms/step - loss: 25.4929 - mean_absolute_error: 3.3707 - val_loss: 22.9431 - val_mean_absolute_error: 2.9908\n",
      "Epoch 6/6\n",
      "377/377 [==============================] - 4s 10ms/step - loss: 24.5095 - mean_absolute_error: 3.2518 - val_loss: 22.7719 - val_mean_absolute_error: 2.9567\n",
      "388/388 [==============================] - 1s 2ms/step - loss: 22.7719 - mean_absolute_error: 2.9567\n"
     ]
    },
    {
     "name": "stderr",
     "output_type": "stream",
     "text": [
      "\u001b[32m[I 2022-08-29 12:06:16,388]\u001b[0m Trial 29 finished with value: 2.9567313194274902 and parameters: {'conv1_lambda': 0.22306782178715684, 'conv2_lambda': 0.4589065516768963, 'conv3_lambda': 0.43286538921623186, 'dense_lambda': 0.13819952268112362, 'epochs': 6}. Best is trial 16 with value: 2.776770830154419.\u001b[0m\n"
     ]
    },
    {
     "name": "stdout",
     "output_type": "stream",
     "text": [
      "Epoch 1/9\n",
      "  1/377 [..............................] - ETA: 2s - loss: 226.4929 - mean_absolute_error: 12.6938WARNING:tensorflow:Callbacks method `on_train_batch_end` is slow compared to the batch time (batch time: 0.0041s vs `on_train_batch_end` time: 0.0062s). Check your callbacks.\n",
      "377/377 [==============================] - 5s 12ms/step - loss: 48.9361 - mean_absolute_error: 5.1591 - val_loss: 31.1416 - val_mean_absolute_error: 3.8933\n",
      "Epoch 2/9\n",
      "377/377 [==============================] - 4s 10ms/step - loss: 29.7836 - mean_absolute_error: 3.8216 - val_loss: 27.4552 - val_mean_absolute_error: 3.5181\n",
      "Epoch 3/9\n",
      "377/377 [==============================] - 4s 10ms/step - loss: 24.7193 - mean_absolute_error: 3.3267 - val_loss: 28.3107 - val_mean_absolute_error: 3.6183\n",
      "Epoch 4/9\n",
      "377/377 [==============================] - 4s 10ms/step - loss: 22.9309 - mean_absolute_error: 3.1575 - val_loss: 29.2029 - val_mean_absolute_error: 3.6990\n",
      "Epoch 5/9\n",
      "377/377 [==============================] - 4s 10ms/step - loss: 21.4502 - mean_absolute_error: 3.0092 - val_loss: 30.5303 - val_mean_absolute_error: 3.8557\n",
      "Epoch 6/9\n",
      "377/377 [==============================] - 4s 10ms/step - loss: 20.6278 - mean_absolute_error: 2.9142 - val_loss: 31.4109 - val_mean_absolute_error: 3.9415\n",
      "Epoch 7/9\n",
      "377/377 [==============================] - 4s 10ms/step - loss: 19.8204 - mean_absolute_error: 2.8276 - val_loss: 34.1278 - val_mean_absolute_error: 4.1647\n",
      "Epoch 8/9\n",
      "377/377 [==============================] - 4s 10ms/step - loss: 19.0649 - mean_absolute_error: 2.7259 - val_loss: 36.9665 - val_mean_absolute_error: 4.3263\n",
      "Epoch 9/9\n",
      "377/377 [==============================] - 4s 10ms/step - loss: 18.1555 - mean_absolute_error: 2.5956 - val_loss: 45.9986 - val_mean_absolute_error: 4.8965\n",
      "388/388 [==============================] - 1s 2ms/step - loss: 45.9986 - mean_absolute_error: 4.8965\n"
     ]
    },
    {
     "name": "stderr",
     "output_type": "stream",
     "text": [
      "\u001b[32m[I 2022-08-29 12:06:56,838]\u001b[0m Trial 30 finished with value: 4.896466255187988 and parameters: {'conv1_lambda': 0.13863097805593555, 'conv2_lambda': 0.16955328831068678, 'conv3_lambda': 0.17883050731805, 'dense_lambda': 0.18377857971684372, 'epochs': 9}. Best is trial 16 with value: 2.776770830154419.\u001b[0m\n"
     ]
    },
    {
     "name": "stdout",
     "output_type": "stream",
     "text": [
      "Epoch 1/6\n",
      "377/377 [==============================] - 5s 12ms/step - loss: 59.1762 - mean_absolute_error: 5.4206 - val_loss: 41.4948 - val_mean_absolute_error: 4.9345\n",
      "Epoch 2/6\n",
      "377/377 [==============================] - 4s 10ms/step - loss: 36.7144 - mean_absolute_error: 4.4221 - val_loss: 26.0967 - val_mean_absolute_error: 3.3696\n",
      "Epoch 3/6\n",
      "377/377 [==============================] - 4s 10ms/step - loss: 29.8661 - mean_absolute_error: 3.7659 - val_loss: 24.7651 - val_mean_absolute_error: 3.1302\n",
      "Epoch 4/6\n",
      "377/377 [==============================] - 4s 10ms/step - loss: 27.4191 - mean_absolute_error: 3.4771 - val_loss: 23.1701 - val_mean_absolute_error: 2.9284\n",
      "Epoch 5/6\n",
      "377/377 [==============================] - 4s 10ms/step - loss: 26.5987 - mean_absolute_error: 3.3770 - val_loss: 22.8878 - val_mean_absolute_error: 2.9010\n",
      "Epoch 6/6\n",
      "377/377 [==============================] - 4s 10ms/step - loss: 25.7465 - mean_absolute_error: 3.2703 - val_loss: 25.2111 - val_mean_absolute_error: 3.0433\n",
      "388/388 [==============================] - 1s 2ms/step - loss: 25.2111 - mean_absolute_error: 3.0433\n"
     ]
    },
    {
     "name": "stderr",
     "output_type": "stream",
     "text": [
      "\u001b[32m[I 2022-08-29 12:07:25,516]\u001b[0m Trial 31 finished with value: 3.0432839393615723 and parameters: {'conv1_lambda': 0.17504618933638721, 'conv2_lambda': 0.46418239072919915, 'conv3_lambda': 0.35335258522740004, 'dense_lambda': 0.45236636303516264, 'epochs': 6}. Best is trial 16 with value: 2.776770830154419.\u001b[0m\n"
     ]
    },
    {
     "name": "stdout",
     "output_type": "stream",
     "text": [
      "Epoch 1/4\n",
      "  1/377 [..............................] - ETA: 1s - loss: 260.3445 - mean_absolute_error: 13.2628WARNING:tensorflow:Callbacks method `on_train_batch_end` is slow compared to the batch time (batch time: 0.0040s vs `on_train_batch_end` time: 0.0060s). Check your callbacks.\n",
      "377/377 [==============================] - 5s 12ms/step - loss: 58.0589 - mean_absolute_error: 5.4132 - val_loss: 44.6700 - val_mean_absolute_error: 5.2293\n",
      "Epoch 2/4\n",
      "377/377 [==============================] - 4s 10ms/step - loss: 36.3189 - mean_absolute_error: 4.3875 - val_loss: 30.2342 - val_mean_absolute_error: 3.6297\n",
      "Epoch 3/4\n",
      "377/377 [==============================] - 4s 10ms/step - loss: 29.5051 - mean_absolute_error: 3.7595 - val_loss: 26.2213 - val_mean_absolute_error: 3.2652\n",
      "Epoch 4/4\n",
      "377/377 [==============================] - 4s 10ms/step - loss: 26.3767 - mean_absolute_error: 3.3808 - val_loss: 25.4188 - val_mean_absolute_error: 3.1801\n",
      "388/388 [==============================] - 1s 2ms/step - loss: 25.4188 - mean_absolute_error: 3.1801\n"
     ]
    },
    {
     "name": "stderr",
     "output_type": "stream",
     "text": [
      "\u001b[32m[I 2022-08-29 12:07:46,152]\u001b[0m Trial 32 finished with value: 3.180100202560425 and parameters: {'conv1_lambda': 0.23341273569213233, 'conv2_lambda': 0.4086436179534745, 'conv3_lambda': 0.26215699699942463, 'dense_lambda': 0.4055738041848389, 'epochs': 4}. Best is trial 16 with value: 2.776770830154419.\u001b[0m\n"
     ]
    },
    {
     "name": "stdout",
     "output_type": "stream",
     "text": [
      "Epoch 1/6\n",
      "377/377 [==============================] - 5s 12ms/step - loss: 54.8615 - mean_absolute_error: 5.3339 - val_loss: 35.9890 - val_mean_absolute_error: 4.4247\n",
      "Epoch 2/6\n",
      "377/377 [==============================] - 4s 10ms/step - loss: 34.0814 - mean_absolute_error: 4.2701 - val_loss: 26.1256 - val_mean_absolute_error: 3.3920\n",
      "Epoch 3/6\n",
      "377/377 [==============================] - 4s 10ms/step - loss: 28.4849 - mean_absolute_error: 3.7582 - val_loss: 24.6251 - val_mean_absolute_error: 3.3232\n",
      "Epoch 4/6\n",
      "377/377 [==============================] - 4s 10ms/step - loss: 25.9415 - mean_absolute_error: 3.4885 - val_loss: 22.6944 - val_mean_absolute_error: 3.1071\n",
      "Epoch 5/6\n",
      "377/377 [==============================] - 4s 10ms/step - loss: 24.4138 - mean_absolute_error: 3.3028 - val_loss: 23.4097 - val_mean_absolute_error: 3.1045\n",
      "Epoch 6/6\n",
      "377/377 [==============================] - 4s 10ms/step - loss: 23.2607 - mean_absolute_error: 3.1482 - val_loss: 24.3452 - val_mean_absolute_error: 3.1684\n",
      "388/388 [==============================] - 1s 2ms/step - loss: 24.3452 - mean_absolute_error: 3.1684\n"
     ]
    },
    {
     "name": "stderr",
     "output_type": "stream",
     "text": [
      "\u001b[32m[I 2022-08-29 12:08:14,854]\u001b[0m Trial 33 finished with value: 3.168423891067505 and parameters: {'conv1_lambda': 0.1073976930886658, 'conv2_lambda': 0.38410974258328345, 'conv3_lambda': 0.37610875994172843, 'dense_lambda': 0.230799149972646, 'epochs': 6}. Best is trial 16 with value: 2.776770830154419.\u001b[0m\n"
     ]
    },
    {
     "name": "stdout",
     "output_type": "stream",
     "text": [
      "Epoch 1/8\n",
      "377/377 [==============================] - 5s 12ms/step - loss: 56.9393 - mean_absolute_error: 5.4660 - val_loss: 50.3676 - val_mean_absolute_error: 5.7717\n",
      "Epoch 2/8\n",
      "377/377 [==============================] - 4s 10ms/step - loss: 37.1600 - mean_absolute_error: 4.5480 - val_loss: 33.2871 - val_mean_absolute_error: 4.0214\n",
      "Epoch 3/8\n",
      "377/377 [==============================] - 4s 10ms/step - loss: 28.9552 - mean_absolute_error: 3.7490 - val_loss: 32.6396 - val_mean_absolute_error: 3.9911\n",
      "Epoch 4/8\n",
      "377/377 [==============================] - 4s 10ms/step - loss: 25.6026 - mean_absolute_error: 3.3505 - val_loss: 35.3267 - val_mean_absolute_error: 4.1416\n",
      "Epoch 5/8\n",
      "377/377 [==============================] - 4s 10ms/step - loss: 23.8853 - mean_absolute_error: 3.1353 - val_loss: 40.9101 - val_mean_absolute_error: 4.5528\n",
      "Epoch 6/8\n",
      "377/377 [==============================] - 4s 10ms/step - loss: 22.8069 - mean_absolute_error: 2.9859 - val_loss: 37.6275 - val_mean_absolute_error: 4.2941\n",
      "Epoch 7/8\n",
      "377/377 [==============================] - 4s 10ms/step - loss: 22.1065 - mean_absolute_error: 2.9062 - val_loss: 40.2258 - val_mean_absolute_error: 4.4658\n",
      "Epoch 8/8\n",
      "377/377 [==============================] - 4s 10ms/step - loss: 21.3362 - mean_absolute_error: 2.7930 - val_loss: 44.1554 - val_mean_absolute_error: 4.7037\n",
      "388/388 [==============================] - 1s 2ms/step - loss: 44.1554 - mean_absolute_error: 4.7037\n"
     ]
    },
    {
     "name": "stderr",
     "output_type": "stream",
     "text": [
      "\u001b[32m[I 2022-08-29 12:08:51,310]\u001b[0m Trial 34 finished with value: 4.703692436218262 and parameters: {'conv1_lambda': 0.4569724702818502, 'conv2_lambda': 0.11436285577058711, 'conv3_lambda': 0.29287334438401663, 'dense_lambda': 0.31879033170050974, 'epochs': 8}. Best is trial 16 with value: 2.776770830154419.\u001b[0m\n"
     ]
    },
    {
     "name": "stdout",
     "output_type": "stream",
     "text": [
      "Epoch 1/13\n",
      "377/377 [==============================] - 5s 12ms/step - loss: 58.7868 - mean_absolute_error: 5.4584 - val_loss: 41.1601 - val_mean_absolute_error: 4.9604\n",
      "Epoch 2/13\n",
      "377/377 [==============================] - 4s 10ms/step - loss: 33.9267 - mean_absolute_error: 4.2823 - val_loss: 25.3429 - val_mean_absolute_error: 3.4123\n",
      "Epoch 3/13\n",
      "377/377 [==============================] - 4s 10ms/step - loss: 28.2224 - mean_absolute_error: 3.7434 - val_loss: 23.7528 - val_mean_absolute_error: 3.0947\n",
      "Epoch 4/13\n",
      "377/377 [==============================] - 4s 10ms/step - loss: 26.2931 - mean_absolute_error: 3.4942 - val_loss: 22.8548 - val_mean_absolute_error: 3.0047\n",
      "Epoch 5/13\n",
      "377/377 [==============================] - 4s 10ms/step - loss: 25.4914 - mean_absolute_error: 3.3942 - val_loss: 22.6780 - val_mean_absolute_error: 2.9780\n",
      "Epoch 6/13\n",
      "377/377 [==============================] - 4s 10ms/step - loss: 24.5200 - mean_absolute_error: 3.2629 - val_loss: 22.6376 - val_mean_absolute_error: 2.9721\n",
      "Epoch 7/13\n",
      "377/377 [==============================] - 4s 10ms/step - loss: 23.6171 - mean_absolute_error: 3.1547 - val_loss: 23.2219 - val_mean_absolute_error: 2.9807\n",
      "Epoch 8/13\n",
      "377/377 [==============================] - 4s 10ms/step - loss: 23.0474 - mean_absolute_error: 3.0548 - val_loss: 24.6718 - val_mean_absolute_error: 3.1128\n",
      "Epoch 9/13\n",
      "377/377 [==============================] - 4s 11ms/step - loss: 22.9477 - mean_absolute_error: 3.0364 - val_loss: 27.3803 - val_mean_absolute_error: 3.3284\n",
      "Epoch 10/13\n",
      "377/377 [==============================] - 4s 11ms/step - loss: 22.7237 - mean_absolute_error: 2.9955 - val_loss: 30.0017 - val_mean_absolute_error: 3.5718\n",
      "Epoch 11/13\n",
      "377/377 [==============================] - 4s 11ms/step - loss: 22.1556 - mean_absolute_error: 2.9289 - val_loss: 28.2034 - val_mean_absolute_error: 3.4366\n",
      "Epoch 12/13\n",
      "377/377 [==============================] - 4s 11ms/step - loss: 21.7793 - mean_absolute_error: 2.8675 - val_loss: 30.1996 - val_mean_absolute_error: 3.6099\n",
      "Epoch 13/13\n",
      "377/377 [==============================] - 4s 11ms/step - loss: 21.4523 - mean_absolute_error: 2.8092 - val_loss: 34.1866 - val_mean_absolute_error: 3.9552\n",
      "388/388 [==============================] - 1s 2ms/step - loss: 34.1866 - mean_absolute_error: 3.9552\n"
     ]
    },
    {
     "name": "stderr",
     "output_type": "stream",
     "text": [
      "\u001b[32m[I 2022-08-29 12:09:47,582]\u001b[0m Trial 35 finished with value: 3.9552226066589355 and parameters: {'conv1_lambda': 0.07398079411475117, 'conv2_lambda': 0.45779603781298356, 'conv3_lambda': 0.4226556123014801, 'dense_lambda': 0.3461634830712078, 'epochs': 13}. Best is trial 16 with value: 2.776770830154419.\u001b[0m\n"
     ]
    },
    {
     "name": "stdout",
     "output_type": "stream",
     "text": [
      "Epoch 1/2\n",
      "377/377 [==============================] - 4s 12ms/step - loss: 56.4838 - mean_absolute_error: 5.4098 - val_loss: 45.8055 - val_mean_absolute_error: 5.3697\n",
      "Epoch 2/2\n",
      "377/377 [==============================] - 4s 10ms/step - loss: 36.7900 - mean_absolute_error: 4.4400 - val_loss: 27.0670 - val_mean_absolute_error: 3.4664\n",
      "388/388 [==============================] - 1s 2ms/step - loss: 27.0669 - mean_absolute_error: 3.4664\n"
     ]
    },
    {
     "name": "stderr",
     "output_type": "stream",
     "text": [
      "\u001b[32m[I 2022-08-29 12:10:00,458]\u001b[0m Trial 36 finished with value: 3.466418504714966 and parameters: {'conv1_lambda': 0.21178546107964474, 'conv2_lambda': 0.3607035584373027, 'conv3_lambda': 0.2548639643804846, 'dense_lambda': 0.38124891168463076, 'epochs': 2}. Best is trial 16 with value: 2.776770830154419.\u001b[0m\n"
     ]
    },
    {
     "name": "stdout",
     "output_type": "stream",
     "text": [
      "Epoch 1/5\n",
      "377/377 [==============================] - 4s 12ms/step - loss: 53.1797 - mean_absolute_error: 5.1868 - val_loss: 32.7090 - val_mean_absolute_error: 3.9820\n",
      "Epoch 2/5\n",
      "377/377 [==============================] - 4s 10ms/step - loss: 34.1069 - mean_absolute_error: 4.1780 - val_loss: 24.5366 - val_mean_absolute_error: 3.2068\n",
      "Epoch 3/5\n",
      "377/377 [==============================] - 4s 10ms/step - loss: 28.2191 - mean_absolute_error: 3.6268 - val_loss: 23.4382 - val_mean_absolute_error: 3.0586\n",
      "Epoch 4/5\n",
      "377/377 [==============================] - 4s 10ms/step - loss: 26.0818 - mean_absolute_error: 3.3993 - val_loss: 22.1421 - val_mean_absolute_error: 2.9781\n",
      "Epoch 5/5\n",
      "377/377 [==============================] - 4s 10ms/step - loss: 25.2531 - mean_absolute_error: 3.3149 - val_loss: 21.9511 - val_mean_absolute_error: 2.9621\n",
      "388/388 [==============================] - 1s 2ms/step - loss: 21.9511 - mean_absolute_error: 2.9621\n"
     ]
    },
    {
     "name": "stderr",
     "output_type": "stream",
     "text": [
      "\u001b[32m[I 2022-08-29 12:10:25,132]\u001b[0m Trial 37 finished with value: 2.962113857269287 and parameters: {'conv1_lambda': 0.2447608039475887, 'conv2_lambda': 0.20565524522970963, 'conv3_lambda': 0.32032904355433817, 'dense_lambda': 0.27114563237189737, 'epochs': 5}. Best is trial 16 with value: 2.776770830154419.\u001b[0m\n"
     ]
    },
    {
     "name": "stdout",
     "output_type": "stream",
     "text": [
      "Epoch 1/15\n",
      "  1/377 [..............................] - ETA: 2s - loss: 261.2827 - mean_absolute_error: 12.9376WARNING:tensorflow:Callbacks method `on_train_batch_end` is slow compared to the batch time (batch time: 0.0041s vs `on_train_batch_end` time: 0.0069s). Check your callbacks.\n",
      "377/377 [==============================] - 5s 12ms/step - loss: 57.7624 - mean_absolute_error: 5.3257 - val_loss: 33.3277 - val_mean_absolute_error: 4.0289\n",
      "Epoch 2/15\n",
      "377/377 [==============================] - 4s 10ms/step - loss: 34.6681 - mean_absolute_error: 4.2467 - val_loss: 24.5480 - val_mean_absolute_error: 3.2318\n",
      "Epoch 3/15\n",
      "377/377 [==============================] - 4s 10ms/step - loss: 28.0821 - mean_absolute_error: 3.6585 - val_loss: 23.9564 - val_mean_absolute_error: 3.1182\n",
      "Epoch 4/15\n",
      "377/377 [==============================] - 4s 10ms/step - loss: 24.4267 - mean_absolute_error: 3.2510 - val_loss: 26.1339 - val_mean_absolute_error: 3.3127\n",
      "Epoch 5/15\n",
      "377/377 [==============================] - 4s 10ms/step - loss: 21.9874 - mean_absolute_error: 2.9493 - val_loss: 30.1611 - val_mean_absolute_error: 3.6539\n",
      "Epoch 6/15\n",
      "377/377 [==============================] - 4s 10ms/step - loss: 20.3550 - mean_absolute_error: 2.7506 - val_loss: 43.0990 - val_mean_absolute_error: 4.6542\n",
      "Epoch 7/15\n",
      "377/377 [==============================] - 4s 10ms/step - loss: 19.4754 - mean_absolute_error: 2.6342 - val_loss: 36.0466 - val_mean_absolute_error: 4.1502\n",
      "Epoch 8/15\n",
      "377/377 [==============================] - 4s 10ms/step - loss: 18.5339 - mean_absolute_error: 2.5007 - val_loss: 42.0073 - val_mean_absolute_error: 4.6320\n",
      "Epoch 9/15\n",
      "377/377 [==============================] - 4s 10ms/step - loss: 17.6895 - mean_absolute_error: 2.3806 - val_loss: 58.3639 - val_mean_absolute_error: 5.7291\n",
      "Epoch 10/15\n",
      "377/377 [==============================] - 4s 11ms/step - loss: 17.7511 - mean_absolute_error: 2.3939 - val_loss: 73.9198 - val_mean_absolute_error: 6.7052\n",
      "Epoch 11/15\n",
      "377/377 [==============================] - 4s 10ms/step - loss: 16.9851 - mean_absolute_error: 2.2830 - val_loss: 65.6592 - val_mean_absolute_error: 6.2488\n",
      "Epoch 12/15\n",
      "377/377 [==============================] - 4s 10ms/step - loss: 16.6323 - mean_absolute_error: 2.2361 - val_loss: 81.0981 - val_mean_absolute_error: 7.1237\n",
      "Epoch 13/15\n",
      "377/377 [==============================] - 4s 11ms/step - loss: 16.6806 - mean_absolute_error: 2.2457 - val_loss: 81.6873 - val_mean_absolute_error: 7.1757\n",
      "Epoch 14/15\n",
      "377/377 [==============================] - 4s 11ms/step - loss: 15.9498 - mean_absolute_error: 2.1334 - val_loss: 83.4379 - val_mean_absolute_error: 7.2757\n",
      "Epoch 15/15\n",
      "377/377 [==============================] - 4s 10ms/step - loss: 15.8921 - mean_absolute_error: 2.1310 - val_loss: 82.1855 - val_mean_absolute_error: 7.2203\n",
      "388/388 [==============================] - 1s 2ms/step - loss: 82.1855 - mean_absolute_error: 7.2203\n"
     ]
    },
    {
     "name": "stderr",
     "output_type": "stream",
     "text": [
      "\u001b[32m[I 2022-08-29 12:11:29,193]\u001b[0m Trial 38 finished with value: 7.220339298248291 and parameters: {'conv1_lambda': 0.190177613563032, 'conv2_lambda': 0.4363787886532474, 'conv3_lambda': 0.3704772188252552, 'dense_lambda': 0.08708897720179541, 'epochs': 15}. Best is trial 16 with value: 2.776770830154419.\u001b[0m\n"
     ]
    },
    {
     "name": "stdout",
     "output_type": "stream",
     "text": [
      "Epoch 1/10\n",
      "  1/377 [..............................] - ETA: 2s - loss: 250.8999 - mean_absolute_error: 12.9776WARNING:tensorflow:Callbacks method `on_train_batch_end` is slow compared to the batch time (batch time: 0.0043s vs `on_train_batch_end` time: 0.0067s). Check your callbacks.\n",
      "377/377 [==============================] - 5s 12ms/step - loss: 57.1012 - mean_absolute_error: 5.4204 - val_loss: 42.9806 - val_mean_absolute_error: 5.0324\n",
      "Epoch 2/10\n",
      "377/377 [==============================] - 4s 10ms/step - loss: 35.8613 - mean_absolute_error: 4.3586 - val_loss: 27.3077 - val_mean_absolute_error: 3.4297\n",
      "Epoch 3/10\n",
      "377/377 [==============================] - 4s 10ms/step - loss: 28.6630 - mean_absolute_error: 3.7098 - val_loss: 25.2290 - val_mean_absolute_error: 3.3072\n",
      "Epoch 4/10\n",
      "377/377 [==============================] - 4s 10ms/step - loss: 26.2282 - mean_absolute_error: 3.4928 - val_loss: 23.1254 - val_mean_absolute_error: 3.0868\n",
      "Epoch 5/10\n",
      "377/377 [==============================] - 4s 11ms/step - loss: 25.2942 - mean_absolute_error: 3.4091 - val_loss: 22.0926 - val_mean_absolute_error: 2.9823\n",
      "Epoch 6/10\n",
      "377/377 [==============================] - 4s 11ms/step - loss: 24.4067 - mean_absolute_error: 3.3201 - val_loss: 22.7354 - val_mean_absolute_error: 3.0005\n",
      "Epoch 7/10\n",
      "377/377 [==============================] - 4s 10ms/step - loss: 23.7266 - mean_absolute_error: 3.2607 - val_loss: 21.5627 - val_mean_absolute_error: 2.9465\n",
      "Epoch 8/10\n",
      "377/377 [==============================] - 4s 11ms/step - loss: 23.0507 - mean_absolute_error: 3.1770 - val_loss: 21.3284 - val_mean_absolute_error: 2.9054\n",
      "Epoch 9/10\n",
      "377/377 [==============================] - 4s 10ms/step - loss: 23.0780 - mean_absolute_error: 3.1742 - val_loss: 22.0080 - val_mean_absolute_error: 2.9136\n",
      "Epoch 10/10\n",
      "377/377 [==============================] - 4s 10ms/step - loss: 22.9956 - mean_absolute_error: 3.1632 - val_loss: 21.8043 - val_mean_absolute_error: 2.9000\n",
      "388/388 [==============================] - 1s 2ms/step - loss: 21.8043 - mean_absolute_error: 2.9000\n"
     ]
    },
    {
     "name": "stderr",
     "output_type": "stream",
     "text": [
      "\u001b[32m[I 2022-08-29 12:12:13,836]\u001b[0m Trial 39 finished with value: 2.900028705596924 and parameters: {'conv1_lambda': 0.34385340774329604, 'conv2_lambda': 0.3303304326750351, 'conv3_lambda': 0.24739445939824192, 'dense_lambda': 0.18135789885029668, 'epochs': 10}. Best is trial 16 with value: 2.776770830154419.\u001b[0m\n"
     ]
    },
    {
     "name": "stdout",
     "output_type": "stream",
     "text": [
      "Epoch 1/10\n",
      "377/377 [==============================] - 4s 12ms/step - loss: 57.6726 - mean_absolute_error: 5.4341 - val_loss: 37.1222 - val_mean_absolute_error: 4.3751\n",
      "Epoch 2/10\n",
      "377/377 [==============================] - 4s 10ms/step - loss: 36.3279 - mean_absolute_error: 4.3432 - val_loss: 26.0388 - val_mean_absolute_error: 3.3612\n",
      "Epoch 3/10\n",
      "377/377 [==============================] - 4s 10ms/step - loss: 29.2985 - mean_absolute_error: 3.7133 - val_loss: 22.3204 - val_mean_absolute_error: 2.9857\n",
      "Epoch 4/10\n",
      "377/377 [==============================] - 4s 10ms/step - loss: 25.9091 - mean_absolute_error: 3.3375 - val_loss: 22.0225 - val_mean_absolute_error: 2.8674\n",
      "Epoch 5/10\n",
      "377/377 [==============================] - 4s 11ms/step - loss: 24.0395 - mean_absolute_error: 3.1387 - val_loss: 20.8151 - val_mean_absolute_error: 2.7997\n",
      "Epoch 6/10\n",
      "377/377 [==============================] - 4s 11ms/step - loss: 22.8053 - mean_absolute_error: 3.0061 - val_loss: 24.8243 - val_mean_absolute_error: 3.0772\n",
      "Epoch 7/10\n",
      "377/377 [==============================] - 4s 11ms/step - loss: 22.5957 - mean_absolute_error: 2.9818 - val_loss: 20.1474 - val_mean_absolute_error: 2.6712\n",
      "Epoch 8/10\n",
      "377/377 [==============================] - 4s 11ms/step - loss: 21.6795 - mean_absolute_error: 2.8569 - val_loss: 20.2121 - val_mean_absolute_error: 2.6816\n",
      "Epoch 9/10\n",
      "377/377 [==============================] - 4s 11ms/step - loss: 21.6530 - mean_absolute_error: 2.8545 - val_loss: 19.9435 - val_mean_absolute_error: 2.6368\n",
      "Epoch 10/10\n",
      "377/377 [==============================] - 4s 10ms/step - loss: 21.3277 - mean_absolute_error: 2.8064 - val_loss: 23.7280 - val_mean_absolute_error: 2.9748\n",
      "388/388 [==============================] - 1s 2ms/step - loss: 23.7280 - mean_absolute_error: 2.9748\n"
     ]
    },
    {
     "name": "stderr",
     "output_type": "stream",
     "text": [
      "\u001b[32m[I 2022-08-29 12:12:58,280]\u001b[0m Trial 40 finished with value: 2.9748454093933105 and parameters: {'conv1_lambda': 0.3438228171231741, 'conv2_lambda': 0.3137051861576433, 'conv3_lambda': 0.2263848358892915, 'dense_lambda': 0.18322484634675607, 'epochs': 10}. Best is trial 16 with value: 2.776770830154419.\u001b[0m\n"
     ]
    },
    {
     "name": "stdout",
     "output_type": "stream",
     "text": [
      "Epoch 1/11\n",
      "377/377 [==============================] - 5s 12ms/step - loss: 54.5654 - mean_absolute_error: 5.2542 - val_loss: 32.8708 - val_mean_absolute_error: 3.9814\n",
      "Epoch 2/11\n",
      "377/377 [==============================] - 4s 10ms/step - loss: 33.5360 - mean_absolute_error: 4.1042 - val_loss: 23.6533 - val_mean_absolute_error: 3.1174\n",
      "Epoch 3/11\n",
      "377/377 [==============================] - 4s 10ms/step - loss: 27.4151 - mean_absolute_error: 3.5852 - val_loss: 21.9205 - val_mean_absolute_error: 3.0116\n",
      "Epoch 4/11\n",
      "377/377 [==============================] - 4s 10ms/step - loss: 25.1172 - mean_absolute_error: 3.3972 - val_loss: 21.3589 - val_mean_absolute_error: 2.9855\n",
      "Epoch 5/11\n",
      "377/377 [==============================] - 4s 10ms/step - loss: 23.8987 - mean_absolute_error: 3.2934 - val_loss: 20.1869 - val_mean_absolute_error: 2.8876\n",
      "Epoch 6/11\n",
      "377/377 [==============================] - 4s 10ms/step - loss: 22.6253 - mean_absolute_error: 3.1611 - val_loss: 19.7994 - val_mean_absolute_error: 2.8411\n",
      "Epoch 7/11\n",
      "377/377 [==============================] - 4s 10ms/step - loss: 21.9732 - mean_absolute_error: 3.0957 - val_loss: 19.7587 - val_mean_absolute_error: 2.8108\n",
      "Epoch 8/11\n",
      "377/377 [==============================] - 4s 10ms/step - loss: 21.4527 - mean_absolute_error: 3.0303 - val_loss: 19.5401 - val_mean_absolute_error: 2.8106\n",
      "Epoch 9/11\n",
      "377/377 [==============================] - 4s 11ms/step - loss: 21.3415 - mean_absolute_error: 3.0170 - val_loss: 19.3166 - val_mean_absolute_error: 2.7772\n",
      "Epoch 10/11\n",
      "377/377 [==============================] - 4s 10ms/step - loss: 21.1220 - mean_absolute_error: 2.9897 - val_loss: 20.8239 - val_mean_absolute_error: 2.8539\n",
      "Epoch 11/11\n",
      "377/377 [==============================] - 4s 10ms/step - loss: 20.5207 - mean_absolute_error: 2.9159 - val_loss: 19.6830 - val_mean_absolute_error: 2.7866\n",
      "388/388 [==============================] - 1s 2ms/step - loss: 19.6830 - mean_absolute_error: 2.7866\n"
     ]
    },
    {
     "name": "stderr",
     "output_type": "stream",
     "text": [
      "\u001b[32m[I 2022-08-29 12:13:46,526]\u001b[0m Trial 41 finished with value: 2.786632537841797 and parameters: {'conv1_lambda': 0.2812120913309217, 'conv2_lambda': 0.2641186562781099, 'conv3_lambda': 0.25931407119184835, 'dense_lambda': 0.13614211512494015, 'epochs': 11}. Best is trial 16 with value: 2.776770830154419.\u001b[0m\n"
     ]
    },
    {
     "name": "stdout",
     "output_type": "stream",
     "text": [
      "Epoch 1/11\n",
      "377/377 [==============================] - 5s 12ms/step - loss: 55.5782 - mean_absolute_error: 5.2805 - val_loss: 35.5331 - val_mean_absolute_error: 4.1846\n",
      "Epoch 2/11\n",
      "377/377 [==============================] - 4s 10ms/step - loss: 33.8244 - mean_absolute_error: 4.0821 - val_loss: 26.0934 - val_mean_absolute_error: 3.2047\n",
      "Epoch 3/11\n",
      "377/377 [==============================] - 4s 10ms/step - loss: 27.7558 - mean_absolute_error: 3.5351 - val_loss: 24.0678 - val_mean_absolute_error: 3.1072\n",
      "Epoch 4/11\n",
      "377/377 [==============================] - 4s 10ms/step - loss: 25.1741 - mean_absolute_error: 3.3103 - val_loss: 23.4423 - val_mean_absolute_error: 3.0432\n",
      "Epoch 5/11\n",
      "377/377 [==============================] - 4s 10ms/step - loss: 24.1648 - mean_absolute_error: 3.2293 - val_loss: 23.0069 - val_mean_absolute_error: 3.0254\n",
      "Epoch 6/11\n",
      "377/377 [==============================] - 4s 11ms/step - loss: 22.8991 - mean_absolute_error: 3.0956 - val_loss: 23.8361 - val_mean_absolute_error: 3.0806\n",
      "Epoch 7/11\n",
      "377/377 [==============================] - 4s 10ms/step - loss: 22.1475 - mean_absolute_error: 3.0135 - val_loss: 22.1522 - val_mean_absolute_error: 2.9140\n",
      "Epoch 8/11\n",
      "377/377 [==============================] - 4s 11ms/step - loss: 21.5593 - mean_absolute_error: 2.9281 - val_loss: 22.5179 - val_mean_absolute_error: 2.9550\n",
      "Epoch 9/11\n",
      "377/377 [==============================] - 4s 11ms/step - loss: 21.1332 - mean_absolute_error: 2.8741 - val_loss: 21.9435 - val_mean_absolute_error: 2.8944\n",
      "Epoch 10/11\n",
      "377/377 [==============================] - 4s 10ms/step - loss: 20.6088 - mean_absolute_error: 2.7989 - val_loss: 22.7739 - val_mean_absolute_error: 2.9819\n",
      "Epoch 11/11\n",
      "377/377 [==============================] - 4s 11ms/step - loss: 20.1074 - mean_absolute_error: 2.7314 - val_loss: 21.0546 - val_mean_absolute_error: 2.8226\n",
      "388/388 [==============================] - 1s 2ms/step - loss: 21.0546 - mean_absolute_error: 2.8226\n"
     ]
    },
    {
     "name": "stderr",
     "output_type": "stream",
     "text": [
      "\u001b[32m[I 2022-08-29 12:14:34,993]\u001b[0m Trial 42 finished with value: 2.822617292404175 and parameters: {'conv1_lambda': 0.3041100735192086, 'conv2_lambda': 0.27084897170527356, 'conv3_lambda': 0.2580282722499548, 'dense_lambda': 0.14019157216542597, 'epochs': 11}. Best is trial 16 with value: 2.776770830154419.\u001b[0m\n"
     ]
    },
    {
     "name": "stdout",
     "output_type": "stream",
     "text": [
      "Epoch 1/12\n",
      "377/377 [==============================] - 5s 12ms/step - loss: 57.5809 - mean_absolute_error: 5.4318 - val_loss: 44.7637 - val_mean_absolute_error: 5.1797\n",
      "Epoch 2/12\n",
      "377/377 [==============================] - 4s 10ms/step - loss: 36.1532 - mean_absolute_error: 4.3609 - val_loss: 26.4322 - val_mean_absolute_error: 3.3630\n",
      "Epoch 3/12\n",
      "377/377 [==============================] - 4s 10ms/step - loss: 28.4198 - mean_absolute_error: 3.6490 - val_loss: 24.9630 - val_mean_absolute_error: 3.1821\n",
      "Epoch 4/12\n",
      "377/377 [==============================] - 4s 10ms/step - loss: 24.4009 - mean_absolute_error: 3.1879 - val_loss: 33.6582 - val_mean_absolute_error: 3.8736\n",
      "Epoch 5/12\n",
      "377/377 [==============================] - 4s 10ms/step - loss: 21.7938 - mean_absolute_error: 2.8662 - val_loss: 28.7537 - val_mean_absolute_error: 3.5005\n",
      "Epoch 6/12\n",
      "377/377 [==============================] - 4s 10ms/step - loss: 20.2675 - mean_absolute_error: 2.6685 - val_loss: 53.4994 - val_mean_absolute_error: 5.3568\n",
      "Epoch 7/12\n",
      "377/377 [==============================] - 4s 10ms/step - loss: 19.7516 - mean_absolute_error: 2.6033 - val_loss: 46.8056 - val_mean_absolute_error: 4.9597\n",
      "Epoch 8/12\n",
      "377/377 [==============================] - 4s 10ms/step - loss: 18.5746 - mean_absolute_error: 2.4479 - val_loss: 71.1950 - val_mean_absolute_error: 6.4788\n",
      "Epoch 9/12\n",
      "377/377 [==============================] - 4s 11ms/step - loss: 18.3127 - mean_absolute_error: 2.4161 - val_loss: 67.3906 - val_mean_absolute_error: 6.2745\n",
      "Epoch 10/12\n",
      "377/377 [==============================] - 4s 10ms/step - loss: 18.3759 - mean_absolute_error: 2.4411 - val_loss: 83.9737 - val_mean_absolute_error: 7.1984\n",
      "Epoch 11/12\n",
      "377/377 [==============================] - 4s 10ms/step - loss: 17.5890 - mean_absolute_error: 2.3428 - val_loss: 82.3000 - val_mean_absolute_error: 7.1339\n",
      "Epoch 12/12\n",
      "377/377 [==============================] - 4s 10ms/step - loss: 17.4447 - mean_absolute_error: 2.3279 - val_loss: 81.7872 - val_mean_absolute_error: 7.0987\n",
      "388/388 [==============================] - 1s 2ms/step - loss: 81.7872 - mean_absolute_error: 7.0987\n"
     ]
    },
    {
     "name": "stderr",
     "output_type": "stream",
     "text": [
      "\u001b[32m[I 2022-08-29 12:15:27,196]\u001b[0m Trial 43 finished with value: 7.098685264587402 and parameters: {'conv1_lambda': 0.29000568399792237, 'conv2_lambda': 0.2547870415783399, 'conv3_lambda': 0.26914179398262333, 'dense_lambda': 0.13094766960623644, 'epochs': 12}. Best is trial 16 with value: 2.776770830154419.\u001b[0m\n"
     ]
    },
    {
     "name": "stdout",
     "output_type": "stream",
     "text": [
      "Epoch 1/11\n",
      "377/377 [==============================] - 5s 12ms/step - loss: 53.9168 - mean_absolute_error: 5.1657 - val_loss: 35.2092 - val_mean_absolute_error: 4.1943\n",
      "Epoch 2/11\n",
      "377/377 [==============================] - 4s 10ms/step - loss: 32.8589 - mean_absolute_error: 3.9908 - val_loss: 27.1090 - val_mean_absolute_error: 3.3733\n",
      "Epoch 3/11\n",
      "377/377 [==============================] - 4s 10ms/step - loss: 25.8506 - mean_absolute_error: 3.3060 - val_loss: 26.3332 - val_mean_absolute_error: 3.3062\n",
      "Epoch 4/11\n",
      "377/377 [==============================] - 4s 10ms/step - loss: 22.9624 - mean_absolute_error: 2.9823 - val_loss: 29.6695 - val_mean_absolute_error: 3.6522\n",
      "Epoch 5/11\n",
      "377/377 [==============================] - 4s 11ms/step - loss: 20.6658 - mean_absolute_error: 2.7229 - val_loss: 28.7124 - val_mean_absolute_error: 3.5559\n",
      "Epoch 6/11\n",
      "377/377 [==============================] - 4s 11ms/step - loss: 19.4091 - mean_absolute_error: 2.5720 - val_loss: 43.1304 - val_mean_absolute_error: 4.7806\n",
      "Epoch 7/11\n",
      "377/377 [==============================] - 4s 11ms/step - loss: 18.8251 - mean_absolute_error: 2.4912 - val_loss: 40.9144 - val_mean_absolute_error: 4.6485\n",
      "Epoch 8/11\n",
      "377/377 [==============================] - 4s 11ms/step - loss: 17.5015 - mean_absolute_error: 2.3138 - val_loss: 46.9660 - val_mean_absolute_error: 5.0684\n",
      "Epoch 9/11\n",
      "377/377 [==============================] - 4s 11ms/step - loss: 17.1709 - mean_absolute_error: 2.2748 - val_loss: 58.4273 - val_mean_absolute_error: 5.8511\n",
      "Epoch 10/11\n",
      "377/377 [==============================] - 4s 11ms/step - loss: 17.0195 - mean_absolute_error: 2.2790 - val_loss: 59.7487 - val_mean_absolute_error: 5.9420\n",
      "Epoch 11/11\n",
      "377/377 [==============================] - 4s 11ms/step - loss: 16.6071 - mean_absolute_error: 2.2260 - val_loss: 50.5396 - val_mean_absolute_error: 5.3150\n",
      "388/388 [==============================] - 1s 2ms/step - loss: 50.5396 - mean_absolute_error: 5.3150\n"
     ]
    },
    {
     "name": "stderr",
     "output_type": "stream",
     "text": [
      "\u001b[32m[I 2022-08-29 12:16:15,774]\u001b[0m Trial 44 finished with value: 5.315009593963623 and parameters: {'conv1_lambda': 0.3176471450781979, 'conv2_lambda': 0.16563172823046857, 'conv3_lambda': 0.296353717117937, 'dense_lambda': 0.10452150639953187, 'epochs': 11}. Best is trial 16 with value: 2.776770830154419.\u001b[0m\n"
     ]
    },
    {
     "name": "stdout",
     "output_type": "stream",
     "text": [
      "Epoch 1/13\n",
      "377/377 [==============================] - 4s 12ms/step - loss: 53.4184 - mean_absolute_error: 5.2085 - val_loss: 32.3914 - val_mean_absolute_error: 3.9460\n",
      "Epoch 2/13\n",
      "377/377 [==============================] - 4s 10ms/step - loss: 31.4967 - mean_absolute_error: 3.8489 - val_loss: 23.7968 - val_mean_absolute_error: 3.1008\n",
      "Epoch 3/13\n",
      "377/377 [==============================] - 4s 10ms/step - loss: 24.9688 - mean_absolute_error: 3.2523 - val_loss: 20.6383 - val_mean_absolute_error: 2.7749\n",
      "Epoch 4/13\n",
      "377/377 [==============================] - 4s 10ms/step - loss: 22.1915 - mean_absolute_error: 2.9892 - val_loss: 20.0401 - val_mean_absolute_error: 2.7452\n",
      "Epoch 5/13\n",
      "377/377 [==============================] - 4s 10ms/step - loss: 20.0193 - mean_absolute_error: 2.7562 - val_loss: 20.4606 - val_mean_absolute_error: 2.7846\n",
      "Epoch 6/13\n",
      "377/377 [==============================] - 4s 10ms/step - loss: 18.9701 - mean_absolute_error: 2.6346 - val_loss: 33.3919 - val_mean_absolute_error: 4.0104\n",
      "Epoch 7/13\n",
      "377/377 [==============================] - 4s 10ms/step - loss: 17.9583 - mean_absolute_error: 2.5177 - val_loss: 25.7806 - val_mean_absolute_error: 3.3457\n",
      "Epoch 8/13\n",
      "377/377 [==============================] - 4s 11ms/step - loss: 16.6739 - mean_absolute_error: 2.3402 - val_loss: 38.6826 - val_mean_absolute_error: 4.4612\n",
      "Epoch 9/13\n",
      "377/377 [==============================] - 4s 10ms/step - loss: 16.3161 - mean_absolute_error: 2.2894 - val_loss: 31.0481 - val_mean_absolute_error: 3.8303\n",
      "Epoch 10/13\n",
      "377/377 [==============================] - 4s 10ms/step - loss: 15.6608 - mean_absolute_error: 2.1987 - val_loss: 51.5684 - val_mean_absolute_error: 5.4819\n",
      "Epoch 11/13\n",
      "377/377 [==============================] - 4s 10ms/step - loss: 15.1871 - mean_absolute_error: 2.1244 - val_loss: 46.2584 - val_mean_absolute_error: 5.0787\n",
      "Epoch 12/13\n",
      "377/377 [==============================] - 4s 10ms/step - loss: 14.6317 - mean_absolute_error: 2.0449 - val_loss: 61.6438 - val_mean_absolute_error: 6.1150\n",
      "Epoch 13/13\n",
      "377/377 [==============================] - 4s 10ms/step - loss: 15.2068 - mean_absolute_error: 2.1551 - val_loss: 58.7111 - val_mean_absolute_error: 5.9377\n",
      "388/388 [==============================] - 1s 2ms/step - loss: 58.7111 - mean_absolute_error: 5.9377\n"
     ]
    },
    {
     "name": "stderr",
     "output_type": "stream",
     "text": [
      "\u001b[32m[I 2022-08-29 12:17:11,841]\u001b[0m Trial 45 finished with value: 5.937729835510254 and parameters: {'conv1_lambda': 0.2607506901695894, 'conv2_lambda': 0.2600083629217, 'conv3_lambda': 0.1955550445289634, 'dense_lambda': 0.046530270165052345, 'epochs': 13}. Best is trial 16 with value: 2.776770830154419.\u001b[0m\n"
     ]
    },
    {
     "name": "stdout",
     "output_type": "stream",
     "text": [
      "Epoch 1/14\n",
      "377/377 [==============================] - 5s 12ms/step - loss: 52.6108 - mean_absolute_error: 5.2995 - val_loss: 32.3772 - val_mean_absolute_error: 4.0053\n",
      "Epoch 2/14\n",
      "377/377 [==============================] - 4s 10ms/step - loss: 32.1975 - mean_absolute_error: 3.9786 - val_loss: 24.6962 - val_mean_absolute_error: 3.1848\n",
      "Epoch 3/14\n",
      "377/377 [==============================] - 4s 10ms/step - loss: 25.9794 - mean_absolute_error: 3.3737 - val_loss: 24.6542 - val_mean_absolute_error: 3.2072\n",
      "Epoch 4/14\n",
      "377/377 [==============================] - 4s 11ms/step - loss: 23.8995 - mean_absolute_error: 3.1818 - val_loss: 24.6860 - val_mean_absolute_error: 3.2468\n",
      "Epoch 5/14\n",
      "377/377 [==============================] - 4s 11ms/step - loss: 23.0441 - mean_absolute_error: 3.0968 - val_loss: 24.2944 - val_mean_absolute_error: 3.2595\n",
      "Epoch 6/14\n",
      "377/377 [==============================] - 4s 11ms/step - loss: 21.7420 - mean_absolute_error: 2.9499 - val_loss: 28.6353 - val_mean_absolute_error: 3.6316\n",
      "Epoch 7/14\n",
      "377/377 [==============================] - 4s 11ms/step - loss: 21.0918 - mean_absolute_error: 2.8665 - val_loss: 27.6595 - val_mean_absolute_error: 3.5749\n",
      "Epoch 8/14\n",
      "377/377 [==============================] - 4s 10ms/step - loss: 20.3742 - mean_absolute_error: 2.7720 - val_loss: 27.2981 - val_mean_absolute_error: 3.5515\n",
      "Epoch 9/14\n",
      "377/377 [==============================] - 4s 10ms/step - loss: 20.0679 - mean_absolute_error: 2.7282 - val_loss: 29.2333 - val_mean_absolute_error: 3.7223\n",
      "Epoch 10/14\n",
      "377/377 [==============================] - 4s 10ms/step - loss: 19.8953 - mean_absolute_error: 2.6984 - val_loss: 33.6892 - val_mean_absolute_error: 4.1001\n",
      "Epoch 11/14\n",
      "377/377 [==============================] - 4s 10ms/step - loss: 19.1935 - mean_absolute_error: 2.5956 - val_loss: 30.8642 - val_mean_absolute_error: 3.8414\n",
      "Epoch 12/14\n",
      "377/377 [==============================] - 4s 10ms/step - loss: 18.7275 - mean_absolute_error: 2.5232 - val_loss: 35.9881 - val_mean_absolute_error: 4.2761\n",
      "Epoch 13/14\n",
      "377/377 [==============================] - 4s 10ms/step - loss: 18.6415 - mean_absolute_error: 2.5081 - val_loss: 39.4108 - val_mean_absolute_error: 4.5498\n",
      "Epoch 14/14\n",
      "377/377 [==============================] - 4s 10ms/step - loss: 18.1923 - mean_absolute_error: 2.4451 - val_loss: 40.6059 - val_mean_absolute_error: 4.6403\n",
      "388/388 [==============================] - 1s 2ms/step - loss: 40.6060 - mean_absolute_error: 4.6403\n"
     ]
    },
    {
     "name": "stderr",
     "output_type": "stream",
     "text": [
      "\u001b[32m[I 2022-08-29 12:18:12,100]\u001b[0m Trial 46 finished with value: 4.640305995941162 and parameters: {'conv1_lambda': 0.28329054523465846, 'conv2_lambda': 0.2150222257389451, 'conv3_lambda': 0.156363111192467, 'dense_lambda': 0.20188128949682005, 'epochs': 14}. Best is trial 16 with value: 2.776770830154419.\u001b[0m\n"
     ]
    },
    {
     "name": "stdout",
     "output_type": "stream",
     "text": [
      "Epoch 1/12\n",
      "377/377 [==============================] - 5s 12ms/step - loss: 56.9079 - mean_absolute_error: 5.4735 - val_loss: 54.8382 - val_mean_absolute_error: 6.0309\n",
      "Epoch 2/12\n",
      "377/377 [==============================] - 4s 10ms/step - loss: 38.8079 - mean_absolute_error: 4.7021 - val_loss: 27.8405 - val_mean_absolute_error: 3.6034\n",
      "Epoch 3/12\n",
      "377/377 [==============================] - 4s 11ms/step - loss: 28.9593 - mean_absolute_error: 3.7550 - val_loss: 24.8586 - val_mean_absolute_error: 3.2913\n",
      "Epoch 4/12\n",
      "377/377 [==============================] - 4s 10ms/step - loss: 25.6888 - mean_absolute_error: 3.4185 - val_loss: 23.3553 - val_mean_absolute_error: 3.0842\n",
      "Epoch 5/12\n",
      "377/377 [==============================] - 4s 10ms/step - loss: 24.0240 - mean_absolute_error: 3.2428 - val_loss: 22.8445 - val_mean_absolute_error: 3.0537\n",
      "Epoch 6/12\n",
      "377/377 [==============================] - 4s 10ms/step - loss: 22.7703 - mean_absolute_error: 3.0928 - val_loss: 22.7600 - val_mean_absolute_error: 3.0560\n",
      "Epoch 7/12\n",
      "377/377 [==============================] - 4s 10ms/step - loss: 21.7774 - mean_absolute_error: 2.9819 - val_loss: 23.3664 - val_mean_absolute_error: 3.1051\n",
      "Epoch 8/12\n",
      "377/377 [==============================] - 4s 10ms/step - loss: 21.2447 - mean_absolute_error: 2.9058 - val_loss: 23.2433 - val_mean_absolute_error: 3.0946\n",
      "Epoch 9/12\n",
      "377/377 [==============================] - 4s 10ms/step - loss: 21.1372 - mean_absolute_error: 2.8908 - val_loss: 24.6332 - val_mean_absolute_error: 3.2404\n",
      "Epoch 10/12\n",
      "377/377 [==============================] - 4s 10ms/step - loss: 20.9725 - mean_absolute_error: 2.8737 - val_loss: 28.5895 - val_mean_absolute_error: 3.6151\n",
      "Epoch 11/12\n",
      "377/377 [==============================] - 4s 10ms/step - loss: 20.4322 - mean_absolute_error: 2.8099 - val_loss: 23.2949 - val_mean_absolute_error: 3.1077\n",
      "Epoch 12/12\n",
      "377/377 [==============================] - 4s 10ms/step - loss: 19.9381 - mean_absolute_error: 2.7461 - val_loss: 26.7195 - val_mean_absolute_error: 3.4416\n",
      "388/388 [==============================] - 1s 2ms/step - loss: 26.7195 - mean_absolute_error: 3.4416\n"
     ]
    },
    {
     "name": "stderr",
     "output_type": "stream",
     "text": [
      "\u001b[32m[I 2022-08-29 12:19:04,367]\u001b[0m Trial 47 finished with value: 3.44155216217041 and parameters: {'conv1_lambda': 0.41734915483374513, 'conv2_lambda': 0.18767948992443276, 'conv3_lambda': 0.20017005070838417, 'dense_lambda': 0.15413176419633579, 'epochs': 12}. Best is trial 16 with value: 2.776770830154419.\u001b[0m\n"
     ]
    },
    {
     "name": "stdout",
     "output_type": "stream",
     "text": [
      "Epoch 1/10\n",
      "377/377 [==============================] - 5s 12ms/step - loss: 53.4701 - mean_absolute_error: 5.1850 - val_loss: 34.2360 - val_mean_absolute_error: 4.0605\n",
      "Epoch 2/10\n",
      "377/377 [==============================] - 4s 10ms/step - loss: 32.2574 - mean_absolute_error: 3.9556 - val_loss: 26.8158 - val_mean_absolute_error: 3.3731\n",
      "Epoch 3/10\n",
      "377/377 [==============================] - 4s 9ms/step - loss: 26.9157 - mean_absolute_error: 3.5089 - val_loss: 26.1357 - val_mean_absolute_error: 3.2858\n",
      "Epoch 4/10\n",
      "377/377 [==============================] - 4s 10ms/step - loss: 24.4821 - mean_absolute_error: 3.2718 - val_loss: 24.7867 - val_mean_absolute_error: 3.1404\n",
      "Epoch 5/10\n",
      "377/377 [==============================] - 4s 9ms/step - loss: 22.8143 - mean_absolute_error: 3.0928 - val_loss: 25.3867 - val_mean_absolute_error: 3.1870\n",
      "Epoch 6/10\n",
      "377/377 [==============================] - 4s 10ms/step - loss: 22.0663 - mean_absolute_error: 3.0136 - val_loss: 28.1919 - val_mean_absolute_error: 3.3779\n",
      "Epoch 7/10\n",
      "377/377 [==============================] - 4s 10ms/step - loss: 21.0631 - mean_absolute_error: 2.9026 - val_loss: 26.4285 - val_mean_absolute_error: 3.2138\n",
      "Epoch 8/10\n",
      "377/377 [==============================] - 4s 10ms/step - loss: 20.4356 - mean_absolute_error: 2.8253 - val_loss: 30.1220 - val_mean_absolute_error: 3.5275\n",
      "Epoch 9/10\n",
      "377/377 [==============================] - 4s 10ms/step - loss: 20.0204 - mean_absolute_error: 2.7678 - val_loss: 32.7573 - val_mean_absolute_error: 3.7577\n",
      "Epoch 10/10\n",
      "377/377 [==============================] - 4s 9ms/step - loss: 19.9276 - mean_absolute_error: 2.7633 - val_loss: 27.3398 - val_mean_absolute_error: 3.3884\n",
      "388/388 [==============================] - 1s 2ms/step - loss: 27.3398 - mean_absolute_error: 3.3884\n"
     ]
    },
    {
     "name": "stderr",
     "output_type": "stream",
     "text": [
      "\u001b[32m[I 2022-08-29 12:19:46,096]\u001b[0m Trial 48 finished with value: 3.388417959213257 and parameters: {'conv1_lambda': 0.36599401892491434, 'conv2_lambda': 0.24449778005148912, 'conv3_lambda': 0.22947309798430943, 'dense_lambda': 0.0737274698996099, 'epochs': 10}. Best is trial 16 with value: 2.776770830154419.\u001b[0m\n"
     ]
    },
    {
     "name": "stdout",
     "output_type": "stream",
     "text": [
      "Epoch 1/14\n",
      "377/377 [==============================] - 4s 11ms/step - loss: 58.1060 - mean_absolute_error: 5.4401 - val_loss: 43.1280 - val_mean_absolute_error: 5.1573\n",
      "Epoch 2/14\n",
      "377/377 [==============================] - 4s 9ms/step - loss: 35.8666 - mean_absolute_error: 4.3748 - val_loss: 26.5883 - val_mean_absolute_error: 3.5243\n",
      "Epoch 3/14\n",
      "377/377 [==============================] - 4s 9ms/step - loss: 28.9770 - mean_absolute_error: 3.7698 - val_loss: 24.7240 - val_mean_absolute_error: 3.3072\n",
      "Epoch 4/14\n",
      "377/377 [==============================] - 4s 9ms/step - loss: 25.7555 - mean_absolute_error: 3.4188 - val_loss: 23.5243 - val_mean_absolute_error: 3.1273\n",
      "Epoch 5/14\n",
      "377/377 [==============================] - 4s 9ms/step - loss: 23.6663 - mean_absolute_error: 3.1586 - val_loss: 23.6912 - val_mean_absolute_error: 3.1133\n",
      "Epoch 6/14\n",
      "377/377 [==============================] - 4s 10ms/step - loss: 22.0815 - mean_absolute_error: 2.9603 - val_loss: 30.5813 - val_mean_absolute_error: 3.7365\n",
      "Epoch 7/14\n",
      "377/377 [==============================] - 4s 10ms/step - loss: 21.2017 - mean_absolute_error: 2.8296 - val_loss: 26.4103 - val_mean_absolute_error: 3.3212\n",
      "Epoch 8/14\n",
      "377/377 [==============================] - 4s 9ms/step - loss: 20.1027 - mean_absolute_error: 2.6617 - val_loss: 30.6497 - val_mean_absolute_error: 3.7359\n",
      "Epoch 9/14\n",
      "377/377 [==============================] - 4s 9ms/step - loss: 19.5347 - mean_absolute_error: 2.5732 - val_loss: 32.4999 - val_mean_absolute_error: 3.8900\n",
      "Epoch 10/14\n",
      "377/377 [==============================] - 4s 9ms/step - loss: 19.3553 - mean_absolute_error: 2.5492 - val_loss: 43.7514 - val_mean_absolute_error: 4.7957\n",
      "Epoch 11/14\n",
      "377/377 [==============================] - 4s 9ms/step - loss: 18.7503 - mean_absolute_error: 2.4534 - val_loss: 38.1476 - val_mean_absolute_error: 4.3981\n",
      "Epoch 12/14\n",
      "377/377 [==============================] - 4s 9ms/step - loss: 18.2796 - mean_absolute_error: 2.3881 - val_loss: 43.1766 - val_mean_absolute_error: 4.7698\n",
      "Epoch 13/14\n",
      "377/377 [==============================] - 4s 9ms/step - loss: 18.4662 - mean_absolute_error: 2.4111 - val_loss: 49.5569 - val_mean_absolute_error: 5.2441\n",
      "Epoch 14/14\n",
      "377/377 [==============================] - 4s 9ms/step - loss: 17.4774 - mean_absolute_error: 2.2609 - val_loss: 43.8315 - val_mean_absolute_error: 4.8340\n",
      "388/388 [==============================] - 1s 2ms/step - loss: 43.8316 - mean_absolute_error: 4.8340\n"
     ]
    },
    {
     "name": "stderr",
     "output_type": "stream",
     "text": [
      "\u001b[32m[I 2022-08-29 12:20:41,017]\u001b[0m Trial 49 finished with value: 4.83403205871582 and parameters: {'conv1_lambda': 0.3106308566063466, 'conv2_lambda': 0.297045711919343, 'conv3_lambda': 0.3075712767792245, 'dense_lambda': 0.12571715293473557, 'epochs': 14}. Best is trial 16 with value: 2.776770830154419.\u001b[0m\n"
     ]
    },
    {
     "name": "stdout",
     "output_type": "stream",
     "text": [
      "Epoch 1/9\n",
      "377/377 [==============================] - 4s 11ms/step - loss: 51.4326 - mean_absolute_error: 5.3120 - val_loss: 33.1773 - val_mean_absolute_error: 4.1496\n",
      "Epoch 2/9\n",
      "377/377 [==============================] - 4s 10ms/step - loss: 33.3711 - mean_absolute_error: 4.1319 - val_loss: 27.5804 - val_mean_absolute_error: 3.4845\n",
      "Epoch 3/9\n",
      "377/377 [==============================] - 4s 9ms/step - loss: 27.1419 - mean_absolute_error: 3.5186 - val_loss: 25.1963 - val_mean_absolute_error: 3.2073\n",
      "Epoch 4/9\n",
      "377/377 [==============================] - 4s 9ms/step - loss: 24.7176 - mean_absolute_error: 3.2581 - val_loss: 25.5808 - val_mean_absolute_error: 3.3123\n",
      "Epoch 5/9\n",
      "377/377 [==============================] - 4s 9ms/step - loss: 23.1838 - mean_absolute_error: 3.0874 - val_loss: 25.0103 - val_mean_absolute_error: 3.2497\n",
      "Epoch 6/9\n",
      "377/377 [==============================] - 4s 9ms/step - loss: 22.0650 - mean_absolute_error: 2.9644 - val_loss: 25.3893 - val_mean_absolute_error: 3.3336\n",
      "Epoch 7/9\n",
      "377/377 [==============================] - 4s 9ms/step - loss: 21.4896 - mean_absolute_error: 2.9051 - val_loss: 24.6734 - val_mean_absolute_error: 3.2650\n",
      "Epoch 8/9\n",
      "377/377 [==============================] - 4s 9ms/step - loss: 20.5600 - mean_absolute_error: 2.8051 - val_loss: 25.3786 - val_mean_absolute_error: 3.3557\n",
      "Epoch 9/9\n",
      "377/377 [==============================] - 4s 9ms/step - loss: 20.5042 - mean_absolute_error: 2.7946 - val_loss: 23.9042 - val_mean_absolute_error: 3.1743\n",
      "388/388 [==============================] - 1s 2ms/step - loss: 23.9042 - mean_absolute_error: 3.1743\n"
     ]
    },
    {
     "name": "stderr",
     "output_type": "stream",
     "text": [
      "\u001b[32m[I 2022-08-29 12:21:18,345]\u001b[0m Trial 50 finished with value: 3.17429780960083 and parameters: {'conv1_lambda': 0.40383190403586267, 'conv2_lambda': 0.12814383188356482, 'conv3_lambda': 0.1277843173085143, 'dense_lambda': 0.22219103987959365, 'epochs': 9}. Best is trial 16 with value: 2.776770830154419.\u001b[0m\n"
     ]
    },
    {
     "name": "stdout",
     "output_type": "stream",
     "text": [
      "Epoch 1/11\n",
      "377/377 [==============================] - 4s 11ms/step - loss: 58.9258 - mean_absolute_error: 5.4911 - val_loss: 54.6876 - val_mean_absolute_error: 6.0217\n",
      "Epoch 2/11\n",
      "377/377 [==============================] - 4s 9ms/step - loss: 39.1659 - mean_absolute_error: 4.7347 - val_loss: 37.2103 - val_mean_absolute_error: 4.2768\n",
      "Epoch 3/11\n",
      "377/377 [==============================] - 4s 9ms/step - loss: 26.4054 - mean_absolute_error: 3.3365 - val_loss: 104.7378 - val_mean_absolute_error: 7.8360\n",
      "Epoch 4/11\n",
      "377/377 [==============================] - 4s 10ms/step - loss: 22.4549 - mean_absolute_error: 2.7756 - val_loss: 120.9271 - val_mean_absolute_error: 8.3936\n",
      "Epoch 5/11\n",
      "377/377 [==============================] - 4s 10ms/step - loss: 20.8524 - mean_absolute_error: 2.5699 - val_loss: 137.9715 - val_mean_absolute_error: 8.9676\n",
      "Epoch 6/11\n",
      "377/377 [==============================] - 4s 9ms/step - loss: 19.8838 - mean_absolute_error: 2.4422 - val_loss: 136.0372 - val_mean_absolute_error: 8.8079\n",
      "Epoch 7/11\n",
      "377/377 [==============================] - 4s 9ms/step - loss: 19.1711 - mean_absolute_error: 2.3398 - val_loss: 157.9607 - val_mean_absolute_error: 9.5851\n",
      "Epoch 8/11\n",
      "377/377 [==============================] - 4s 9ms/step - loss: 18.6635 - mean_absolute_error: 2.2608 - val_loss: 170.7133 - val_mean_absolute_error: 10.1408\n",
      "Epoch 9/11\n",
      "377/377 [==============================] - 4s 10ms/step - loss: 18.2985 - mean_absolute_error: 2.2200 - val_loss: 173.4644 - val_mean_absolute_error: 10.2101\n",
      "Epoch 10/11\n",
      "377/377 [==============================] - 4s 9ms/step - loss: 17.8952 - mean_absolute_error: 2.1601 - val_loss: 185.3499 - val_mean_absolute_error: 10.7534\n",
      "Epoch 11/11\n",
      "377/377 [==============================] - 4s 9ms/step - loss: 17.6053 - mean_absolute_error: 2.1151 - val_loss: 188.3309 - val_mean_absolute_error: 10.9886\n",
      "388/388 [==============================] - 1s 2ms/step - loss: 188.3308 - mean_absolute_error: 10.9886\n"
     ]
    },
    {
     "name": "stderr",
     "output_type": "stream",
     "text": [
      "\u001b[32m[I 2022-08-29 12:22:02,597]\u001b[0m Trial 51 finished with value: 10.988556861877441 and parameters: {'conv1_lambda': 0.33942277242030816, 'conv2_lambda': 0.3056680763930489, 'conv3_lambda': 0.247077173099391, 'dense_lambda': 0.18633549876140532, 'epochs': 11}. Best is trial 16 with value: 2.776770830154419.\u001b[0m\n"
     ]
    },
    {
     "name": "stdout",
     "output_type": "stream",
     "text": [
      "Epoch 1/10\n",
      "377/377 [==============================] - 4s 11ms/step - loss: 58.2769 - mean_absolute_error: 5.4920 - val_loss: 52.6822 - val_mean_absolute_error: 5.9359\n",
      "Epoch 2/10\n",
      "377/377 [==============================] - 4s 9ms/step - loss: 37.4253 - mean_absolute_error: 4.5813 - val_loss: 40.4770 - val_mean_absolute_error: 4.5063\n",
      "Epoch 3/10\n",
      "377/377 [==============================] - 4s 9ms/step - loss: 28.2687 - mean_absolute_error: 3.6508 - val_loss: 48.0123 - val_mean_absolute_error: 4.9225\n",
      "Epoch 4/10\n",
      "377/377 [==============================] - 4s 9ms/step - loss: 24.9277 - mean_absolute_error: 3.2443 - val_loss: 55.1392 - val_mean_absolute_error: 5.2707\n",
      "Epoch 5/10\n",
      "377/377 [==============================] - 4s 10ms/step - loss: 23.6350 - mean_absolute_error: 3.0798 - val_loss: 92.7478 - val_mean_absolute_error: 7.7089\n",
      "Epoch 6/10\n",
      "377/377 [==============================] - 4s 9ms/step - loss: 21.5852 - mean_absolute_error: 2.7879 - val_loss: 110.4864 - val_mean_absolute_error: 8.7891\n",
      "Epoch 7/10\n",
      "377/377 [==============================] - 4s 10ms/step - loss: 20.7339 - mean_absolute_error: 2.6604 - val_loss: 149.7110 - val_mean_absolute_error: 10.7308\n",
      "Epoch 8/10\n",
      "377/377 [==============================] - 4s 9ms/step - loss: 19.6702 - mean_absolute_error: 2.5012 - val_loss: 184.8572 - val_mean_absolute_error: 12.2058\n",
      "Epoch 9/10\n",
      "377/377 [==============================] - 4s 10ms/step - loss: 19.0663 - mean_absolute_error: 2.4227 - val_loss: 220.6996 - val_mean_absolute_error: 13.5240\n",
      "Epoch 10/10\n",
      "377/377 [==============================] - 4s 9ms/step - loss: 18.9234 - mean_absolute_error: 2.4085 - val_loss: 180.3808 - val_mean_absolute_error: 12.0535\n",
      "388/388 [==============================] - 1s 2ms/step - loss: 180.3808 - mean_absolute_error: 12.0534\n"
     ]
    },
    {
     "name": "stderr",
     "output_type": "stream",
     "text": [
      "\u001b[32m[I 2022-08-29 12:22:43,460]\u001b[0m Trial 52 finished with value: 12.053443908691406 and parameters: {'conv1_lambda': 0.3635734926981239, 'conv2_lambda': 0.33013771452649543, 'conv3_lambda': 0.2527609524685473, 'dense_lambda': 0.14738106828198022, 'epochs': 10}. Best is trial 16 with value: 2.776770830154419.\u001b[0m\n"
     ]
    },
    {
     "name": "stdout",
     "output_type": "stream",
     "text": [
      "Epoch 1/12\n",
      "377/377 [==============================] - 4s 11ms/step - loss: 53.8513 - mean_absolute_error: 5.1475 - val_loss: 32.5900 - val_mean_absolute_error: 3.9014\n",
      "Epoch 2/12\n",
      "377/377 [==============================] - 3s 9ms/step - loss: 32.0866 - mean_absolute_error: 3.8831 - val_loss: 24.0084 - val_mean_absolute_error: 3.0546\n",
      "Epoch 3/12\n",
      "377/377 [==============================] - 4s 9ms/step - loss: 26.2072 - mean_absolute_error: 3.3294 - val_loss: 22.6231 - val_mean_absolute_error: 2.9402\n",
      "Epoch 4/12\n",
      "377/377 [==============================] - 4s 9ms/step - loss: 23.9708 - mean_absolute_error: 3.1353 - val_loss: 21.9342 - val_mean_absolute_error: 2.8618\n",
      "Epoch 5/12\n",
      "377/377 [==============================] - 4s 9ms/step - loss: 22.4242 - mean_absolute_error: 2.9830 - val_loss: 21.6214 - val_mean_absolute_error: 2.8392\n",
      "Epoch 6/12\n",
      "377/377 [==============================] - 4s 10ms/step - loss: 21.5927 - mean_absolute_error: 2.8898 - val_loss: 21.4171 - val_mean_absolute_error: 2.8289\n",
      "Epoch 7/12\n",
      "377/377 [==============================] - 4s 10ms/step - loss: 20.9702 - mean_absolute_error: 2.8191 - val_loss: 21.2305 - val_mean_absolute_error: 2.7883\n",
      "Epoch 8/12\n",
      "377/377 [==============================] - 4s 9ms/step - loss: 20.4606 - mean_absolute_error: 2.7526 - val_loss: 21.5708 - val_mean_absolute_error: 2.8187\n",
      "Epoch 9/12\n",
      "377/377 [==============================] - 4s 9ms/step - loss: 19.9028 - mean_absolute_error: 2.6680 - val_loss: 21.5388 - val_mean_absolute_error: 2.8000\n",
      "Epoch 10/12\n",
      "377/377 [==============================] - 4s 9ms/step - loss: 19.5430 - mean_absolute_error: 2.6128 - val_loss: 27.4809 - val_mean_absolute_error: 3.3780\n",
      "Epoch 11/12\n",
      "377/377 [==============================] - 4s 9ms/step - loss: 19.0854 - mean_absolute_error: 2.5403 - val_loss: 23.7168 - val_mean_absolute_error: 3.0063\n",
      "Epoch 12/12\n",
      "377/377 [==============================] - 4s 9ms/step - loss: 18.4918 - mean_absolute_error: 2.4487 - val_loss: 25.6864 - val_mean_absolute_error: 3.2040\n",
      "388/388 [==============================] - 1s 2ms/step - loss: 25.6864 - mean_absolute_error: 3.2040\n"
     ]
    },
    {
     "name": "stderr",
     "output_type": "stream",
     "text": [
      "\u001b[32m[I 2022-08-29 12:23:31,097]\u001b[0m Trial 53 finished with value: 3.2039525508880615 and parameters: {'conv1_lambda': 0.2923835839829946, 'conv2_lambda': 0.26928119967095054, 'conv3_lambda': 0.2752024388146536, 'dense_lambda': 0.10631227279542696, 'epochs': 12}. Best is trial 16 with value: 2.776770830154419.\u001b[0m\n"
     ]
    },
    {
     "name": "stdout",
     "output_type": "stream",
     "text": [
      "Epoch 1/10\n",
      "377/377 [==============================] - 4s 11ms/step - loss: 57.1575 - mean_absolute_error: 5.4905 - val_loss: 51.6094 - val_mean_absolute_error: 5.8586\n",
      "Epoch 2/10\n",
      "377/377 [==============================] - 4s 9ms/step - loss: 36.7816 - mean_absolute_error: 4.5087 - val_loss: 24.5162 - val_mean_absolute_error: 3.2460\n",
      "Epoch 3/10\n",
      "377/377 [==============================] - 4s 9ms/step - loss: 27.8962 - mean_absolute_error: 3.6288 - val_loss: 21.7828 - val_mean_absolute_error: 2.8946\n",
      "Epoch 4/10\n",
      "377/377 [==============================] - 4s 9ms/step - loss: 24.6571 - mean_absolute_error: 3.2555 - val_loss: 22.8578 - val_mean_absolute_error: 2.9026\n",
      "Epoch 5/10\n",
      "377/377 [==============================] - 4s 9ms/step - loss: 22.7533 - mean_absolute_error: 3.0161 - val_loss: 22.9368 - val_mean_absolute_error: 2.8991\n",
      "Epoch 6/10\n",
      "377/377 [==============================] - 4s 9ms/step - loss: 21.4305 - mean_absolute_error: 2.8456 - val_loss: 27.2311 - val_mean_absolute_error: 3.2672\n",
      "Epoch 7/10\n",
      "377/377 [==============================] - 4s 10ms/step - loss: 20.8480 - mean_absolute_error: 2.7539 - val_loss: 22.8433 - val_mean_absolute_error: 2.8695\n",
      "Epoch 8/10\n",
      "377/377 [==============================] - 4s 9ms/step - loss: 20.1877 - mean_absolute_error: 2.6509 - val_loss: 24.9467 - val_mean_absolute_error: 3.0804\n",
      "Epoch 9/10\n",
      "377/377 [==============================] - 4s 9ms/step - loss: 19.7009 - mean_absolute_error: 2.5641 - val_loss: 24.3820 - val_mean_absolute_error: 3.0324\n",
      "Epoch 10/10\n",
      "377/377 [==============================] - 4s 9ms/step - loss: 19.5278 - mean_absolute_error: 2.5335 - val_loss: 36.0012 - val_mean_absolute_error: 4.0408\n",
      "388/388 [==============================] - 1s 2ms/step - loss: 36.0012 - mean_absolute_error: 4.0408\n"
     ]
    },
    {
     "name": "stderr",
     "output_type": "stream",
     "text": [
      "\u001b[32m[I 2022-08-29 12:24:11,866]\u001b[0m Trial 54 finished with value: 4.040797710418701 and parameters: {'conv1_lambda': 0.44319094180700663, 'conv2_lambda': 0.23482239118544232, 'conv3_lambda': 0.21218584605520674, 'dense_lambda': 0.20619430240710052, 'epochs': 10}. Best is trial 16 with value: 2.776770830154419.\u001b[0m\n"
     ]
    },
    {
     "name": "stdout",
     "output_type": "stream",
     "text": [
      "Epoch 1/11\n",
      "377/377 [==============================] - 4s 11ms/step - loss: 59.8863 - mean_absolute_error: 5.3986 - val_loss: 45.4850 - val_mean_absolute_error: 5.1492\n",
      "Epoch 2/11\n",
      "377/377 [==============================] - 4s 9ms/step - loss: 36.8847 - mean_absolute_error: 4.3707 - val_loss: 28.4472 - val_mean_absolute_error: 3.6035\n",
      "Epoch 3/11\n",
      "377/377 [==============================] - 4s 9ms/step - loss: 30.3316 - mean_absolute_error: 3.8657 - val_loss: 26.5040 - val_mean_absolute_error: 3.5051\n",
      "Epoch 4/11\n",
      "377/377 [==============================] - 4s 9ms/step - loss: 27.1170 - mean_absolute_error: 3.5439 - val_loss: 24.4436 - val_mean_absolute_error: 3.2823\n",
      "Epoch 5/11\n",
      "377/377 [==============================] - 4s 9ms/step - loss: 25.4401 - mean_absolute_error: 3.3491 - val_loss: 23.8171 - val_mean_absolute_error: 3.1921\n",
      "Epoch 6/11\n",
      "377/377 [==============================] - 4s 9ms/step - loss: 24.0219 - mean_absolute_error: 3.1571 - val_loss: 23.6051 - val_mean_absolute_error: 3.0850\n",
      "Epoch 7/11\n",
      "377/377 [==============================] - 4s 9ms/step - loss: 22.9289 - mean_absolute_error: 2.9899 - val_loss: 24.3885 - val_mean_absolute_error: 3.0876\n",
      "Epoch 8/11\n",
      "377/377 [==============================] - 4s 9ms/step - loss: 22.0239 - mean_absolute_error: 2.8301 - val_loss: 25.7444 - val_mean_absolute_error: 3.1374\n",
      "Epoch 9/11\n",
      "377/377 [==============================] - 4s 9ms/step - loss: 21.7259 - mean_absolute_error: 2.7621 - val_loss: 29.5418 - val_mean_absolute_error: 3.4411\n",
      "Epoch 10/11\n",
      "377/377 [==============================] - 4s 9ms/step - loss: 21.4137 - mean_absolute_error: 2.7134 - val_loss: 35.3363 - val_mean_absolute_error: 3.9125\n",
      "Epoch 11/11\n",
      "377/377 [==============================] - 4s 9ms/step - loss: 20.6491 - mean_absolute_error: 2.6006 - val_loss: 32.0152 - val_mean_absolute_error: 3.6463\n",
      "388/388 [==============================] - 1s 2ms/step - loss: 32.0152 - mean_absolute_error: 3.6463\n"
     ]
    },
    {
     "name": "stderr",
     "output_type": "stream",
     "text": [
      "\u001b[32m[I 2022-08-29 12:24:56,142]\u001b[0m Trial 55 finished with value: 3.6462912559509277 and parameters: {'conv1_lambda': 0.48010374817858925, 'conv2_lambda': 0.3484765282431506, 'conv3_lambda': 0.2413053366222691, 'dense_lambda': 0.16612810192624405, 'epochs': 11}. Best is trial 16 with value: 2.776770830154419.\u001b[0m\n"
     ]
    },
    {
     "name": "stdout",
     "output_type": "stream",
     "text": [
      "Epoch 1/9\n",
      "377/377 [==============================] - 4s 11ms/step - loss: 60.7616 - mean_absolute_error: 5.4249 - val_loss: 45.5550 - val_mean_absolute_error: 5.1395\n",
      "Epoch 2/9\n",
      "377/377 [==============================] - 4s 9ms/step - loss: 36.6743 - mean_absolute_error: 4.3349 - val_loss: 26.2746 - val_mean_absolute_error: 3.3269\n",
      "Epoch 3/9\n",
      "377/377 [==============================] - 4s 9ms/step - loss: 29.4121 - mean_absolute_error: 3.6711 - val_loss: 23.3307 - val_mean_absolute_error: 2.9062\n",
      "Epoch 4/9\n",
      "377/377 [==============================] - 4s 9ms/step - loss: 26.4514 - mean_absolute_error: 3.2969 - val_loss: 22.1195 - val_mean_absolute_error: 2.7313\n",
      "Epoch 5/9\n",
      "377/377 [==============================] - 4s 9ms/step - loss: 24.7554 - mean_absolute_error: 3.1056 - val_loss: 22.1021 - val_mean_absolute_error: 2.7198\n",
      "Epoch 6/9\n",
      "377/377 [==============================] - 4s 9ms/step - loss: 23.7587 - mean_absolute_error: 2.9758 - val_loss: 22.2069 - val_mean_absolute_error: 2.7161\n",
      "Epoch 7/9\n",
      "377/377 [==============================] - 4s 9ms/step - loss: 23.2060 - mean_absolute_error: 2.9131 - val_loss: 22.6151 - val_mean_absolute_error: 2.7236\n",
      "Epoch 8/9\n",
      "377/377 [==============================] - 4s 9ms/step - loss: 22.7160 - mean_absolute_error: 2.8371 - val_loss: 22.7218 - val_mean_absolute_error: 2.7432\n",
      "Epoch 9/9\n",
      "377/377 [==============================] - 4s 10ms/step - loss: 22.5499 - mean_absolute_error: 2.8086 - val_loss: 21.6487 - val_mean_absolute_error: 2.6268\n",
      "388/388 [==============================] - 1s 2ms/step - loss: 21.6487 - mean_absolute_error: 2.6268\n"
     ]
    },
    {
     "name": "stderr",
     "output_type": "stream",
     "text": [
      "\u001b[32m[I 2022-08-29 12:25:33,286]\u001b[0m Trial 56 finished with value: 2.6267848014831543 and parameters: {'conv1_lambda': 0.3878131023621359, 'conv2_lambda': 0.3935271249551644, 'conv3_lambda': 0.3334213140372575, 'dense_lambda': 0.1731798968241403, 'epochs': 9}. Best is trial 56 with value: 2.6267848014831543.\u001b[0m\n"
     ]
    },
    {
     "name": "stdout",
     "output_type": "stream",
     "text": [
      "Epoch 1/9\n",
      "377/377 [==============================] - 4s 11ms/step - loss: 59.0801 - mean_absolute_error: 5.4252 - val_loss: 41.8667 - val_mean_absolute_error: 4.9640\n",
      "Epoch 2/9\n",
      "377/377 [==============================] - 4s 9ms/step - loss: 35.5586 - mean_absolute_error: 4.3192 - val_loss: 24.8695 - val_mean_absolute_error: 3.2456\n",
      "Epoch 3/9\n",
      "377/377 [==============================] - 4s 9ms/step - loss: 28.6834 - mean_absolute_error: 3.6845 - val_loss: 22.2353 - val_mean_absolute_error: 2.9348\n",
      "Epoch 4/9\n",
      "377/377 [==============================] - 4s 9ms/step - loss: 25.4971 - mean_absolute_error: 3.3577 - val_loss: 21.7682 - val_mean_absolute_error: 2.9001\n",
      "Epoch 5/9\n",
      "377/377 [==============================] - 4s 9ms/step - loss: 24.2669 - mean_absolute_error: 3.2455 - val_loss: 21.2474 - val_mean_absolute_error: 2.8566\n",
      "Epoch 6/9\n",
      "377/377 [==============================] - 4s 9ms/step - loss: 23.4028 - mean_absolute_error: 3.1574 - val_loss: 21.5334 - val_mean_absolute_error: 2.8901\n",
      "Epoch 7/9\n",
      "377/377 [==============================] - 4s 9ms/step - loss: 22.6442 - mean_absolute_error: 3.0860 - val_loss: 21.3733 - val_mean_absolute_error: 2.8385\n",
      "Epoch 8/9\n",
      "377/377 [==============================] - 4s 9ms/step - loss: 22.0989 - mean_absolute_error: 3.0111 - val_loss: 22.6897 - val_mean_absolute_error: 2.9365\n",
      "Epoch 9/9\n",
      "377/377 [==============================] - 4s 9ms/step - loss: 22.1075 - mean_absolute_error: 3.0006 - val_loss: 20.8408 - val_mean_absolute_error: 2.7908\n",
      "388/388 [==============================] - 1s 2ms/step - loss: 20.8408 - mean_absolute_error: 2.7908\n"
     ]
    },
    {
     "name": "stderr",
     "output_type": "stream",
     "text": [
      "\u001b[32m[I 2022-08-29 12:26:10,508]\u001b[0m Trial 57 finished with value: 2.7907702922821045 and parameters: {'conv1_lambda': 0.3938974186360875, 'conv2_lambda': 0.40282063769107307, 'conv3_lambda': 0.3426863527646148, 'dense_lambda': 0.09086230348466554, 'epochs': 9}. Best is trial 56 with value: 2.6267848014831543.\u001b[0m\n"
     ]
    },
    {
     "name": "stdout",
     "output_type": "stream",
     "text": [
      "Epoch 1/9\n",
      "377/377 [==============================] - 4s 11ms/step - loss: 59.8639 - mean_absolute_error: 5.5194 - val_loss: 55.7867 - val_mean_absolute_error: 6.1552\n",
      "Epoch 2/9\n",
      "377/377 [==============================] - 4s 9ms/step - loss: 38.9807 - mean_absolute_error: 4.8023 - val_loss: 27.9282 - val_mean_absolute_error: 3.6491\n",
      "Epoch 3/9\n",
      "377/377 [==============================] - 4s 9ms/step - loss: 29.3067 - mean_absolute_error: 3.8678 - val_loss: 30.1819 - val_mean_absolute_error: 3.6790\n",
      "Epoch 4/9\n",
      "377/377 [==============================] - 4s 9ms/step - loss: 25.7077 - mean_absolute_error: 3.4923 - val_loss: 23.6066 - val_mean_absolute_error: 3.1098\n",
      "Epoch 5/9\n",
      "377/377 [==============================] - 4s 9ms/step - loss: 24.3999 - mean_absolute_error: 3.3522 - val_loss: 22.3942 - val_mean_absolute_error: 3.0012\n",
      "Epoch 6/9\n",
      "377/377 [==============================] - 4s 9ms/step - loss: 22.9494 - mean_absolute_error: 3.1873 - val_loss: 22.0926 - val_mean_absolute_error: 2.9375\n",
      "Epoch 7/9\n",
      "377/377 [==============================] - 4s 10ms/step - loss: 22.0179 - mean_absolute_error: 3.0619 - val_loss: 21.9696 - val_mean_absolute_error: 2.9012\n",
      "Epoch 8/9\n",
      "377/377 [==============================] - 4s 9ms/step - loss: 21.1767 - mean_absolute_error: 2.9261 - val_loss: 21.5703 - val_mean_absolute_error: 2.8475\n",
      "Epoch 9/9\n",
      "377/377 [==============================] - 4s 9ms/step - loss: 20.8222 - mean_absolute_error: 2.8463 - val_loss: 21.4229 - val_mean_absolute_error: 2.8016\n",
      "388/388 [==============================] - 1s 2ms/step - loss: 21.4229 - mean_absolute_error: 2.8016\n"
     ]
    },
    {
     "name": "stderr",
     "output_type": "stream",
     "text": [
      "\u001b[32m[I 2022-08-29 12:26:47,636]\u001b[0m Trial 58 finished with value: 2.8016016483306885 and parameters: {'conv1_lambda': 0.38658048889463675, 'conv2_lambda': 0.3754478862239009, 'conv3_lambda': 0.3334984416016021, 'dense_lambda': 0.09639987408685975, 'epochs': 9}. Best is trial 56 with value: 2.6267848014831543.\u001b[0m\n"
     ]
    },
    {
     "name": "stdout",
     "output_type": "stream",
     "text": [
      "Epoch 1/9\n",
      "377/377 [==============================] - 4s 11ms/step - loss: 59.8057 - mean_absolute_error: 5.4902 - val_loss: 53.6911 - val_mean_absolute_error: 6.0138\n",
      "Epoch 2/9\n",
      "377/377 [==============================] - 4s 9ms/step - loss: 38.0865 - mean_absolute_error: 4.6702 - val_loss: 27.2074 - val_mean_absolute_error: 3.6884\n",
      "Epoch 3/9\n",
      "377/377 [==============================] - 4s 9ms/step - loss: 30.2009 - mean_absolute_error: 3.9657 - val_loss: 27.0313 - val_mean_absolute_error: 3.6108\n",
      "Epoch 4/9\n",
      "377/377 [==============================] - 4s 9ms/step - loss: 26.3634 - mean_absolute_error: 3.5478 - val_loss: 27.9461 - val_mean_absolute_error: 3.5486\n",
      "Epoch 5/9\n",
      "377/377 [==============================] - 4s 9ms/step - loss: 24.6017 - mean_absolute_error: 3.3261 - val_loss: 26.8488 - val_mean_absolute_error: 3.4012\n",
      "Epoch 6/9\n",
      "377/377 [==============================] - 4s 9ms/step - loss: 23.3011 - mean_absolute_error: 3.1565 - val_loss: 29.4698 - val_mean_absolute_error: 3.5844\n",
      "Epoch 7/9\n",
      "377/377 [==============================] - 4s 9ms/step - loss: 22.5520 - mean_absolute_error: 3.0695 - val_loss: 29.1995 - val_mean_absolute_error: 3.5320\n",
      "Epoch 8/9\n",
      "377/377 [==============================] - 4s 9ms/step - loss: 21.6501 - mean_absolute_error: 2.9500 - val_loss: 28.5769 - val_mean_absolute_error: 3.4627\n",
      "Epoch 9/9\n",
      "377/377 [==============================] - 4s 9ms/step - loss: 21.3150 - mean_absolute_error: 2.8902 - val_loss: 26.3800 - val_mean_absolute_error: 3.2845\n",
      "388/388 [==============================] - 1s 2ms/step - loss: 26.3800 - mean_absolute_error: 3.2845\n"
     ]
    },
    {
     "name": "stderr",
     "output_type": "stream",
     "text": [
      "\u001b[32m[I 2022-08-29 12:27:24,679]\u001b[0m Trial 59 finished with value: 3.284452199935913 and parameters: {'conv1_lambda': 0.39404614568587154, 'conv2_lambda': 0.38260494083706825, 'conv3_lambda': 0.3365236871138059, 'dense_lambda': 0.08863190168240839, 'epochs': 9}. Best is trial 56 with value: 2.6267848014831543.\u001b[0m\n"
     ]
    },
    {
     "name": "stdout",
     "output_type": "stream",
     "text": [
      "Epoch 1/8\n",
      "377/377 [==============================] - 4s 11ms/step - loss: 61.5149 - mean_absolute_error: 5.5001 - val_loss: 54.7182 - val_mean_absolute_error: 6.0554\n",
      "Epoch 2/8\n",
      "377/377 [==============================] - 4s 9ms/step - loss: 39.3687 - mean_absolute_error: 4.8253 - val_loss: 30.5179 - val_mean_absolute_error: 3.9342\n",
      "Epoch 3/8\n",
      "377/377 [==============================] - 4s 9ms/step - loss: 30.6045 - mean_absolute_error: 4.0489 - val_loss: 26.1902 - val_mean_absolute_error: 3.6226\n",
      "Epoch 4/8\n",
      "377/377 [==============================] - 4s 9ms/step - loss: 26.7772 - mean_absolute_error: 3.6504 - val_loss: 23.9232 - val_mean_absolute_error: 3.3353\n",
      "Epoch 5/8\n",
      "377/377 [==============================] - 4s 9ms/step - loss: 24.7611 - mean_absolute_error: 3.4135 - val_loss: 22.9264 - val_mean_absolute_error: 3.1751\n",
      "Epoch 6/8\n",
      "377/377 [==============================] - 4s 9ms/step - loss: 22.9296 - mean_absolute_error: 3.1774 - val_loss: 23.0762 - val_mean_absolute_error: 3.1846\n",
      "Epoch 7/8\n",
      "377/377 [==============================] - 4s 9ms/step - loss: 21.6871 - mean_absolute_error: 3.0263 - val_loss: 23.6154 - val_mean_absolute_error: 3.2183\n",
      "Epoch 8/8\n",
      "377/377 [==============================] - 4s 9ms/step - loss: 20.4226 - mean_absolute_error: 2.8526 - val_loss: 26.8577 - val_mean_absolute_error: 3.5007\n",
      "388/388 [==============================] - 1s 2ms/step - loss: 26.8577 - mean_absolute_error: 3.5007\n"
     ]
    },
    {
     "name": "stderr",
     "output_type": "stream",
     "text": [
      "\u001b[32m[I 2022-08-29 12:27:58,296]\u001b[0m Trial 60 finished with value: 3.5006802082061768 and parameters: {'conv1_lambda': 0.3717373506051427, 'conv2_lambda': 0.40290066018307047, 'conv3_lambda': 0.38545474396080465, 'dense_lambda': 0.047631804953158954, 'epochs': 8}. Best is trial 56 with value: 2.6267848014831543.\u001b[0m\n"
     ]
    },
    {
     "name": "stdout",
     "output_type": "stream",
     "text": [
      "Epoch 1/8\n",
      "377/377 [==============================] - 4s 11ms/step - loss: 60.4797 - mean_absolute_error: 5.4493 - val_loss: 42.0407 - val_mean_absolute_error: 4.9020\n",
      "Epoch 2/8\n",
      "377/377 [==============================] - 4s 9ms/step - loss: 36.1506 - mean_absolute_error: 4.3541 - val_loss: 25.1257 - val_mean_absolute_error: 3.2610\n",
      "Epoch 3/8\n",
      "377/377 [==============================] - 4s 9ms/step - loss: 28.3687 - mean_absolute_error: 3.6601 - val_loss: 22.2955 - val_mean_absolute_error: 3.0238\n",
      "Epoch 4/8\n",
      "377/377 [==============================] - 4s 9ms/step - loss: 25.3053 - mean_absolute_error: 3.3696 - val_loss: 20.9373 - val_mean_absolute_error: 2.8800\n",
      "Epoch 5/8\n",
      "377/377 [==============================] - 4s 9ms/step - loss: 23.5749 - mean_absolute_error: 3.1865 - val_loss: 20.5331 - val_mean_absolute_error: 2.8429\n",
      "Epoch 6/8\n",
      "377/377 [==============================] - 4s 10ms/step - loss: 22.8337 - mean_absolute_error: 3.1128 - val_loss: 20.0831 - val_mean_absolute_error: 2.7680\n",
      "Epoch 7/8\n",
      "377/377 [==============================] - 4s 9ms/step - loss: 21.4736 - mean_absolute_error: 2.9548 - val_loss: 19.8913 - val_mean_absolute_error: 2.7237\n",
      "Epoch 8/8\n",
      "377/377 [==============================] - 4s 9ms/step - loss: 20.7829 - mean_absolute_error: 2.8640 - val_loss: 20.0903 - val_mean_absolute_error: 2.7244\n",
      "388/388 [==============================] - 1s 2ms/step - loss: 20.0903 - mean_absolute_error: 2.7244\n"
     ]
    },
    {
     "name": "stderr",
     "output_type": "stream",
     "text": [
      "\u001b[32m[I 2022-08-29 12:28:31,863]\u001b[0m Trial 61 finished with value: 2.724377155303955 and parameters: {'conv1_lambda': 0.32756342582274756, 'conv2_lambda': 0.3697877128216544, 'conv3_lambda': 0.3588557727777603, 'dense_lambda': 0.06520120062832101, 'epochs': 8}. Best is trial 56 with value: 2.6267848014831543.\u001b[0m\n"
     ]
    },
    {
     "name": "stdout",
     "output_type": "stream",
     "text": [
      "Epoch 1/8\n",
      "377/377 [==============================] - 4s 11ms/step - loss: 61.8826 - mean_absolute_error: 5.4477 - val_loss: 50.2444 - val_mean_absolute_error: 5.6819\n",
      "Epoch 2/8\n",
      "377/377 [==============================] - 4s 9ms/step - loss: 38.0695 - mean_absolute_error: 4.5892 - val_loss: 26.6004 - val_mean_absolute_error: 3.4141\n",
      "Epoch 3/8\n",
      "377/377 [==============================] - 4s 9ms/step - loss: 29.7966 - mean_absolute_error: 3.8445 - val_loss: 23.6563 - val_mean_absolute_error: 3.0792\n",
      "Epoch 4/8\n",
      "377/377 [==============================] - 4s 9ms/step - loss: 26.0785 - mean_absolute_error: 3.4615 - val_loss: 23.1749 - val_mean_absolute_error: 3.0176\n",
      "Epoch 5/8\n",
      "377/377 [==============================] - 4s 9ms/step - loss: 24.9677 - mean_absolute_error: 3.3672 - val_loss: 23.1613 - val_mean_absolute_error: 3.0271\n",
      "Epoch 6/8\n",
      "377/377 [==============================] - 4s 9ms/step - loss: 23.4150 - mean_absolute_error: 3.2047 - val_loss: 24.7593 - val_mean_absolute_error: 3.1458\n",
      "Epoch 7/8\n",
      "377/377 [==============================] - 4s 9ms/step - loss: 22.6391 - mean_absolute_error: 3.1278 - val_loss: 20.4656 - val_mean_absolute_error: 2.7602\n",
      "Epoch 8/8\n",
      "377/377 [==============================] - 4s 9ms/step - loss: 21.8995 - mean_absolute_error: 3.0209 - val_loss: 21.9163 - val_mean_absolute_error: 2.8636\n",
      "388/388 [==============================] - 1s 2ms/step - loss: 21.9163 - mean_absolute_error: 2.8636\n"
     ]
    },
    {
     "name": "stderr",
     "output_type": "stream",
     "text": [
      "\u001b[32m[I 2022-08-29 12:29:05,344]\u001b[0m Trial 62 finished with value: 2.8635571002960205 and parameters: {'conv1_lambda': 0.32953723155523396, 'conv2_lambda': 0.3994823644903019, 'conv3_lambda': 0.4059716522966472, 'dense_lambda': 0.0665037716416048, 'epochs': 8}. Best is trial 56 with value: 2.6267848014831543.\u001b[0m\n"
     ]
    },
    {
     "name": "stdout",
     "output_type": "stream",
     "text": [
      "Epoch 1/9\n",
      "377/377 [==============================] - 4s 11ms/step - loss: 58.7487 - mean_absolute_error: 5.4306 - val_loss: 41.1803 - val_mean_absolute_error: 4.8586\n",
      "Epoch 2/9\n",
      "377/377 [==============================] - 4s 9ms/step - loss: 35.1284 - mean_absolute_error: 4.2859 - val_loss: 24.9485 - val_mean_absolute_error: 3.1074\n",
      "Epoch 3/9\n",
      "377/377 [==============================] - 4s 9ms/step - loss: 27.6523 - mean_absolute_error: 3.5926 - val_loss: 23.3918 - val_mean_absolute_error: 3.0787\n",
      "Epoch 4/9\n",
      "377/377 [==============================] - 4s 9ms/step - loss: 24.4813 - mean_absolute_error: 3.2944 - val_loss: 23.3312 - val_mean_absolute_error: 3.0846\n",
      "Epoch 5/9\n",
      "377/377 [==============================] - 4s 9ms/step - loss: 22.4486 - mean_absolute_error: 3.0972 - val_loss: 23.5165 - val_mean_absolute_error: 3.1246\n",
      "Epoch 6/9\n",
      "377/377 [==============================] - 4s 9ms/step - loss: 21.1786 - mean_absolute_error: 2.9602 - val_loss: 24.9923 - val_mean_absolute_error: 3.3093\n",
      "Epoch 7/9\n",
      "377/377 [==============================] - 4s 9ms/step - loss: 20.2813 - mean_absolute_error: 2.8540 - val_loss: 25.3939 - val_mean_absolute_error: 3.2742\n",
      "Epoch 8/9\n",
      "377/377 [==============================] - 4s 9ms/step - loss: 19.4505 - mean_absolute_error: 2.7298 - val_loss: 26.0474 - val_mean_absolute_error: 3.3704\n",
      "Epoch 9/9\n",
      "377/377 [==============================] - 4s 9ms/step - loss: 18.3285 - mean_absolute_error: 2.5747 - val_loss: 30.0143 - val_mean_absolute_error: 3.7908\n",
      "388/388 [==============================] - 1s 2ms/step - loss: 30.0143 - mean_absolute_error: 3.7908\n"
     ]
    },
    {
     "name": "stderr",
     "output_type": "stream",
     "text": [
      "\u001b[32m[I 2022-08-29 12:29:42,370]\u001b[0m Trial 63 finished with value: 3.790757417678833 and parameters: {'conv1_lambda': 0.3535039063543215, 'conv2_lambda': 0.3664907525709453, 'conv3_lambda': 0.35424328189508975, 'dense_lambda': 0.02815093977131615, 'epochs': 9}. Best is trial 56 with value: 2.6267848014831543.\u001b[0m\n"
     ]
    },
    {
     "name": "stdout",
     "output_type": "stream",
     "text": [
      "Epoch 1/7\n",
      "377/377 [==============================] - 4s 11ms/step - loss: 60.0148 - mean_absolute_error: 5.4166 - val_loss: 42.8905 - val_mean_absolute_error: 4.9671\n",
      "Epoch 2/7\n",
      "377/377 [==============================] - 4s 9ms/step - loss: 36.5515 - mean_absolute_error: 4.3862 - val_loss: 26.2823 - val_mean_absolute_error: 3.4429\n",
      "Epoch 3/7\n",
      "377/377 [==============================] - 4s 9ms/step - loss: 30.2630 - mean_absolute_error: 3.8719 - val_loss: 23.0147 - val_mean_absolute_error: 3.0713\n",
      "Epoch 4/7\n",
      "377/377 [==============================] - 4s 9ms/step - loss: 26.7924 - mean_absolute_error: 3.4718 - val_loss: 22.7108 - val_mean_absolute_error: 2.9419\n",
      "Epoch 5/7\n",
      "377/377 [==============================] - 4s 9ms/step - loss: 24.8897 - mean_absolute_error: 3.2481 - val_loss: 21.6868 - val_mean_absolute_error: 2.8794\n",
      "Epoch 6/7\n",
      "377/377 [==============================] - 4s 9ms/step - loss: 23.6341 - mean_absolute_error: 3.1058 - val_loss: 26.5564 - val_mean_absolute_error: 3.2327\n",
      "Epoch 7/7\n",
      "377/377 [==============================] - 4s 9ms/step - loss: 23.1592 - mean_absolute_error: 3.0358 - val_loss: 23.7384 - val_mean_absolute_error: 2.9986\n",
      "388/388 [==============================] - 1s 2ms/step - loss: 23.7384 - mean_absolute_error: 2.9986\n"
     ]
    },
    {
     "name": "stderr",
     "output_type": "stream",
     "text": [
      "\u001b[32m[I 2022-08-29 12:30:12,295]\u001b[0m Trial 64 finished with value: 2.9985997676849365 and parameters: {'conv1_lambda': 0.4286669214989366, 'conv2_lambda': 0.47673551145325804, 'conv3_lambda': 0.32417252317835576, 'dense_lambda': 0.09442867734796546, 'epochs': 7}. Best is trial 56 with value: 2.6267848014831543.\u001b[0m\n"
     ]
    },
    {
     "name": "stdout",
     "output_type": "stream",
     "text": [
      "Epoch 1/9\n",
      "377/377 [==============================] - 4s 11ms/step - loss: 61.8943 - mean_absolute_error: 5.4368 - val_loss: 48.9693 - val_mean_absolute_error: 5.6132\n",
      "Epoch 2/9\n",
      "377/377 [==============================] - 4s 9ms/step - loss: 37.8098 - mean_absolute_error: 4.5633 - val_loss: 27.2503 - val_mean_absolute_error: 3.5668\n",
      "Epoch 3/9\n",
      "377/377 [==============================] - 4s 9ms/step - loss: 30.2152 - mean_absolute_error: 3.8781 - val_loss: 24.1781 - val_mean_absolute_error: 3.1628\n",
      "Epoch 4/9\n",
      "377/377 [==============================] - 4s 9ms/step - loss: 27.5993 - mean_absolute_error: 3.6178 - val_loss: 27.7660 - val_mean_absolute_error: 3.4297\n",
      "Epoch 5/9\n",
      "377/377 [==============================] - 4s 9ms/step - loss: 26.4473 - mean_absolute_error: 3.5112 - val_loss: 26.2759 - val_mean_absolute_error: 3.3073\n",
      "Epoch 6/9\n",
      "377/377 [==============================] - 4s 9ms/step - loss: 25.5117 - mean_absolute_error: 3.4126 - val_loss: 22.3675 - val_mean_absolute_error: 2.9606\n",
      "Epoch 7/9\n",
      "377/377 [==============================] - 4s 9ms/step - loss: 24.8260 - mean_absolute_error: 3.3368 - val_loss: 24.6650 - val_mean_absolute_error: 3.0958\n",
      "Epoch 8/9\n",
      "377/377 [==============================] - 4s 9ms/step - loss: 24.1014 - mean_absolute_error: 3.2325 - val_loss: 23.4220 - val_mean_absolute_error: 2.9749\n",
      "Epoch 9/9\n",
      "377/377 [==============================] - 4s 9ms/step - loss: 24.0077 - mean_absolute_error: 3.2111 - val_loss: 22.5937 - val_mean_absolute_error: 2.8873\n",
      "388/388 [==============================] - 1s 2ms/step - loss: 22.5937 - mean_absolute_error: 2.8873\n"
     ]
    },
    {
     "name": "stderr",
     "output_type": "stream",
     "text": [
      "\u001b[32m[I 2022-08-29 12:30:49,467]\u001b[0m Trial 65 finished with value: 2.8873133659362793 and parameters: {'conv1_lambda': 0.3908231662624402, 'conv2_lambda': 0.44347025955457325, 'conv3_lambda': 0.4599296798399566, 'dense_lambda': 0.12460861081679006, 'epochs': 9}. Best is trial 56 with value: 2.6267848014831543.\u001b[0m\n"
     ]
    },
    {
     "name": "stdout",
     "output_type": "stream",
     "text": [
      "Epoch 1/8\n",
      "377/377 [==============================] - 4s 11ms/step - loss: 60.3425 - mean_absolute_error: 5.5137 - val_loss: 54.0048 - val_mean_absolute_error: 6.0441\n",
      "Epoch 2/8\n",
      "377/377 [==============================] - 4s 9ms/step - loss: 37.8771 - mean_absolute_error: 4.6508 - val_loss: 41.6314 - val_mean_absolute_error: 4.6546\n",
      "Epoch 3/8\n",
      "377/377 [==============================] - 4s 9ms/step - loss: 28.3532 - mean_absolute_error: 3.7248 - val_loss: 49.5805 - val_mean_absolute_error: 5.1090\n",
      "Epoch 4/8\n",
      "377/377 [==============================] - 4s 9ms/step - loss: 24.9709 - mean_absolute_error: 3.3395 - val_loss: 58.6785 - val_mean_absolute_error: 5.6038\n",
      "Epoch 5/8\n",
      "377/377 [==============================] - 4s 10ms/step - loss: 23.5163 - mean_absolute_error: 3.1565 - val_loss: 82.3148 - val_mean_absolute_error: 6.8440\n",
      "Epoch 6/8\n",
      "377/377 [==============================] - 4s 10ms/step - loss: 21.6044 - mean_absolute_error: 2.8924 - val_loss: 103.5571 - val_mean_absolute_error: 7.6654\n",
      "Epoch 7/8\n",
      "377/377 [==============================] - 4s 10ms/step - loss: 20.0610 - mean_absolute_error: 2.6847 - val_loss: 132.2775 - val_mean_absolute_error: 8.7110\n",
      "Epoch 8/8\n",
      "377/377 [==============================] - 4s 9ms/step - loss: 19.1539 - mean_absolute_error: 2.5512 - val_loss: 176.1803 - val_mean_absolute_error: 10.4338\n",
      "388/388 [==============================] - 1s 2ms/step - loss: 176.1803 - mean_absolute_error: 10.4338\n"
     ]
    },
    {
     "name": "stderr",
     "output_type": "stream",
     "text": [
      "\u001b[32m[I 2022-08-29 12:31:23,011]\u001b[0m Trial 66 finished with value: 10.433829307556152 and parameters: {'conv1_lambda': 0.327051080010926, 'conv2_lambda': 0.4215009322135961, 'conv3_lambda': 0.3469126979827043, 'dense_lambda': 0.06805596420362983, 'epochs': 8}. Best is trial 56 with value: 2.6267848014831543.\u001b[0m\n"
     ]
    },
    {
     "name": "stdout",
     "output_type": "stream",
     "text": [
      "Epoch 1/7\n",
      "377/377 [==============================] - 4s 11ms/step - loss: 63.7326 - mean_absolute_error: 5.5396 - val_loss: 58.9097 - val_mean_absolute_error: 6.2840\n",
      "Epoch 2/7\n",
      "377/377 [==============================] - 4s 9ms/step - loss: 40.9245 - mean_absolute_error: 4.9000 - val_loss: 31.9821 - val_mean_absolute_error: 4.0346\n",
      "Epoch 3/7\n",
      "377/377 [==============================] - 4s 9ms/step - loss: 31.0483 - mean_absolute_error: 3.9812 - val_loss: 29.7684 - val_mean_absolute_error: 3.7059\n",
      "Epoch 4/7\n",
      "377/377 [==============================] - 4s 10ms/step - loss: 27.4660 - mean_absolute_error: 3.6091 - val_loss: 34.3795 - val_mean_absolute_error: 3.9422\n",
      "Epoch 5/7\n",
      "377/377 [==============================] - 4s 9ms/step - loss: 25.9059 - mean_absolute_error: 3.4198 - val_loss: 27.2060 - val_mean_absolute_error: 3.3766\n",
      "Epoch 6/7\n",
      "377/377 [==============================] - 4s 10ms/step - loss: 24.2608 - mean_absolute_error: 3.1991 - val_loss: 28.0128 - val_mean_absolute_error: 3.4105\n",
      "Epoch 7/7\n",
      "377/377 [==============================] - 4s 10ms/step - loss: 23.2393 - mean_absolute_error: 3.0667 - val_loss: 27.9205 - val_mean_absolute_error: 3.3697\n",
      "388/388 [==============================] - 1s 2ms/step - loss: 27.9205 - mean_absolute_error: 3.3697\n"
     ]
    },
    {
     "name": "stderr",
     "output_type": "stream",
     "text": [
      "\u001b[32m[I 2022-08-29 12:31:53,063]\u001b[0m Trial 67 finished with value: 3.3696773052215576 and parameters: {'conv1_lambda': 0.37957425208949075, 'conv2_lambda': 0.3697974270105787, 'conv3_lambda': 0.3944480027882353, 'dense_lambda': 0.14415082426293782, 'epochs': 7}. Best is trial 56 with value: 2.6267848014831543.\u001b[0m\n"
     ]
    },
    {
     "name": "stdout",
     "output_type": "stream",
     "text": [
      "Epoch 1/10\n",
      "377/377 [==============================] - 4s 11ms/step - loss: 58.1062 - mean_absolute_error: 5.3055 - val_loss: 34.3575 - val_mean_absolute_error: 4.0374\n",
      "Epoch 2/10\n",
      "377/377 [==============================] - 4s 9ms/step - loss: 35.2207 - mean_absolute_error: 4.2001 - val_loss: 25.1688 - val_mean_absolute_error: 3.1595\n",
      "Epoch 3/10\n",
      "377/377 [==============================] - 3s 9ms/step - loss: 29.2937 - mean_absolute_error: 3.6941 - val_loss: 27.4345 - val_mean_absolute_error: 3.4524\n",
      "Epoch 4/10\n",
      "377/377 [==============================] - 4s 10ms/step - loss: 26.7343 - mean_absolute_error: 3.4766 - val_loss: 21.9641 - val_mean_absolute_error: 2.8999\n",
      "Epoch 5/10\n",
      "377/377 [==============================] - 4s 10ms/step - loss: 25.2443 - mean_absolute_error: 3.3221 - val_loss: 22.3849 - val_mean_absolute_error: 2.9494\n",
      "Epoch 6/10\n",
      "377/377 [==============================] - 4s 10ms/step - loss: 24.4852 - mean_absolute_error: 3.2425 - val_loss: 23.0624 - val_mean_absolute_error: 2.9887\n",
      "Epoch 7/10\n",
      "377/377 [==============================] - 4s 10ms/step - loss: 23.5538 - mean_absolute_error: 3.1455 - val_loss: 21.3627 - val_mean_absolute_error: 2.8079\n",
      "Epoch 8/10\n",
      "377/377 [==============================] - 4s 10ms/step - loss: 22.8581 - mean_absolute_error: 3.0593 - val_loss: 22.8562 - val_mean_absolute_error: 2.9519\n",
      "Epoch 9/10\n",
      "377/377 [==============================] - 4s 9ms/step - loss: 22.8933 - mean_absolute_error: 3.0644 - val_loss: 22.0846 - val_mean_absolute_error: 2.8783\n",
      "Epoch 10/10\n",
      "377/377 [==============================] - 4s 9ms/step - loss: 22.6921 - mean_absolute_error: 3.0401 - val_loss: 21.6346 - val_mean_absolute_error: 2.8597\n",
      "388/388 [==============================] - 1s 2ms/step - loss: 21.6346 - mean_absolute_error: 2.8597\n"
     ]
    },
    {
     "name": "stderr",
     "output_type": "stream",
     "text": [
      "\u001b[32m[I 2022-08-29 12:32:33,813]\u001b[0m Trial 68 finished with value: 2.859661102294922 and parameters: {'conv1_lambda': 0.35609204680801326, 'conv2_lambda': 0.347109940594113, 'conv3_lambda': 0.3680164041826132, 'dense_lambda': 0.1164860196235046, 'epochs': 10}. Best is trial 56 with value: 2.6267848014831543.\u001b[0m\n"
     ]
    },
    {
     "name": "stdout",
     "output_type": "stream",
     "text": [
      "Epoch 1/11\n",
      "377/377 [==============================] - 4s 11ms/step - loss: 58.3453 - mean_absolute_error: 5.4599 - val_loss: 46.2947 - val_mean_absolute_error: 5.4234\n",
      "Epoch 2/11\n",
      "377/377 [==============================] - 4s 9ms/step - loss: 36.7833 - mean_absolute_error: 4.4435 - val_loss: 25.7239 - val_mean_absolute_error: 3.3392\n",
      "Epoch 3/11\n",
      "377/377 [==============================] - 4s 9ms/step - loss: 28.9552 - mean_absolute_error: 3.7154 - val_loss: 28.0555 - val_mean_absolute_error: 3.5618\n",
      "Epoch 4/11\n",
      "377/377 [==============================] - 4s 9ms/step - loss: 25.6759 - mean_absolute_error: 3.3985 - val_loss: 21.6009 - val_mean_absolute_error: 2.9268\n",
      "Epoch 5/11\n",
      "377/377 [==============================] - 4s 9ms/step - loss: 23.9115 - mean_absolute_error: 3.2039 - val_loss: 21.1659 - val_mean_absolute_error: 2.8903\n",
      "Epoch 6/11\n",
      "377/377 [==============================] - 4s 9ms/step - loss: 22.4562 - mean_absolute_error: 3.0420 - val_loss: 21.4673 - val_mean_absolute_error: 2.8844\n",
      "Epoch 7/11\n",
      "377/377 [==============================] - 4s 10ms/step - loss: 21.7595 - mean_absolute_error: 2.9621 - val_loss: 20.9126 - val_mean_absolute_error: 2.8281\n",
      "Epoch 8/11\n",
      "377/377 [==============================] - 4s 10ms/step - loss: 21.2422 - mean_absolute_error: 2.8948 - val_loss: 20.7436 - val_mean_absolute_error: 2.8362\n",
      "Epoch 9/11\n",
      "377/377 [==============================] - 4s 9ms/step - loss: 20.9776 - mean_absolute_error: 2.8592 - val_loss: 20.3223 - val_mean_absolute_error: 2.7762\n",
      "Epoch 10/11\n",
      "377/377 [==============================] - 4s 9ms/step - loss: 20.7768 - mean_absolute_error: 2.8274 - val_loss: 20.1864 - val_mean_absolute_error: 2.7684\n",
      "Epoch 11/11\n",
      "377/377 [==============================] - 4s 9ms/step - loss: 20.4654 - mean_absolute_error: 2.7859 - val_loss: 20.4867 - val_mean_absolute_error: 2.7793\n",
      "388/388 [==============================] - 1s 2ms/step - loss: 20.4867 - mean_absolute_error: 2.7793\n"
     ]
    },
    {
     "name": "stderr",
     "output_type": "stream",
     "text": [
      "\u001b[32m[I 2022-08-29 12:33:18,159]\u001b[0m Trial 69 finished with value: 2.779270648956299 and parameters: {'conv1_lambda': 0.30295958743401646, 'conv2_lambda': 0.3953840666497553, 'conv3_lambda': 0.29157514386957245, 'dense_lambda': 0.07999945330408366, 'epochs': 11}. Best is trial 56 with value: 2.6267848014831543.\u001b[0m\n"
     ]
    },
    {
     "name": "stdout",
     "output_type": "stream",
     "text": [
      "Epoch 1/13\n",
      "377/377 [==============================] - 4s 11ms/step - loss: 57.2863 - mean_absolute_error: 5.4051 - val_loss: 42.0641 - val_mean_absolute_error: 4.9776\n",
      "Epoch 2/13\n",
      "377/377 [==============================] - 3s 9ms/step - loss: 35.2676 - mean_absolute_error: 4.3545 - val_loss: 25.9356 - val_mean_absolute_error: 3.3442\n",
      "Epoch 3/13\n",
      "377/377 [==============================] - 4s 9ms/step - loss: 28.1853 - mean_absolute_error: 3.6631 - val_loss: 24.3961 - val_mean_absolute_error: 3.1814\n",
      "Epoch 4/13\n",
      "377/377 [==============================] - 4s 9ms/step - loss: 24.9814 - mean_absolute_error: 3.3497 - val_loss: 24.1040 - val_mean_absolute_error: 3.1436\n",
      "Epoch 5/13\n",
      "377/377 [==============================] - 4s 9ms/step - loss: 23.1652 - mean_absolute_error: 3.1648 - val_loss: 24.3410 - val_mean_absolute_error: 3.1513\n",
      "Epoch 6/13\n",
      "377/377 [==============================] - 4s 9ms/step - loss: 21.6752 - mean_absolute_error: 3.0146 - val_loss: 28.7013 - val_mean_absolute_error: 3.6009\n",
      "Epoch 7/13\n",
      "377/377 [==============================] - 4s 9ms/step - loss: 20.9767 - mean_absolute_error: 2.9377 - val_loss: 27.6849 - val_mean_absolute_error: 3.4914\n",
      "Epoch 8/13\n",
      "377/377 [==============================] - 4s 9ms/step - loss: 19.9018 - mean_absolute_error: 2.8144 - val_loss: 26.4813 - val_mean_absolute_error: 3.3797\n",
      "Epoch 9/13\n",
      "377/377 [==============================] - 4s 9ms/step - loss: 19.4188 - mean_absolute_error: 2.7570 - val_loss: 27.8463 - val_mean_absolute_error: 3.5326\n",
      "Epoch 10/13\n",
      "377/377 [==============================] - 4s 9ms/step - loss: 19.0327 - mean_absolute_error: 2.7020 - val_loss: 35.8299 - val_mean_absolute_error: 4.1494\n",
      "Epoch 11/13\n",
      "377/377 [==============================] - 4s 9ms/step - loss: 18.1890 - mean_absolute_error: 2.5811 - val_loss: 33.1535 - val_mean_absolute_error: 3.9520\n",
      "Epoch 12/13\n",
      "377/377 [==============================] - 4s 10ms/step - loss: 17.5785 - mean_absolute_error: 2.4922 - val_loss: 32.0054 - val_mean_absolute_error: 3.8899\n",
      "Epoch 13/13\n",
      "377/377 [==============================] - 4s 10ms/step - loss: 17.5424 - mean_absolute_error: 2.4874 - val_loss: 45.2808 - val_mean_absolute_error: 4.7874\n",
      "388/388 [==============================] - 1s 2ms/step - loss: 45.2808 - mean_absolute_error: 4.7874\n"
     ]
    },
    {
     "name": "stderr",
     "output_type": "stream",
     "text": [
      "\u001b[32m[I 2022-08-29 12:34:09,436]\u001b[0m Trial 70 finished with value: 4.787360668182373 and parameters: {'conv1_lambda': 0.27594429080075766, 'conv2_lambda': 0.48783087330968866, 'conv3_lambda': 0.30786180921648615, 'dense_lambda': 0.021519850232047485, 'epochs': 13}. Best is trial 56 with value: 2.6267848014831543.\u001b[0m\n"
     ]
    },
    {
     "name": "stdout",
     "output_type": "stream",
     "text": [
      "Epoch 1/11\n",
      "377/377 [==============================] - 4s 11ms/step - loss: 60.4301 - mean_absolute_error: 5.4201 - val_loss: 44.4464 - val_mean_absolute_error: 5.1012\n",
      "Epoch 2/11\n",
      "377/377 [==============================] - 4s 9ms/step - loss: 37.0518 - mean_absolute_error: 4.4332 - val_loss: 26.4205 - val_mean_absolute_error: 3.3139\n",
      "Epoch 3/11\n",
      "377/377 [==============================] - 4s 10ms/step - loss: 28.4199 - mean_absolute_error: 3.6992 - val_loss: 25.8997 - val_mean_absolute_error: 3.4051\n",
      "Epoch 4/11\n",
      "377/377 [==============================] - 4s 10ms/step - loss: 25.2255 - mean_absolute_error: 3.4231 - val_loss: 22.2306 - val_mean_absolute_error: 3.0228\n",
      "Epoch 5/11\n",
      "377/377 [==============================] - 4s 10ms/step - loss: 23.8014 - mean_absolute_error: 3.2918 - val_loss: 21.3712 - val_mean_absolute_error: 2.9988\n",
      "Epoch 6/11\n",
      "377/377 [==============================] - 4s 9ms/step - loss: 22.4334 - mean_absolute_error: 3.1452 - val_loss: 21.4984 - val_mean_absolute_error: 3.0409\n",
      "Epoch 7/11\n",
      "377/377 [==============================] - 4s 10ms/step - loss: 21.5406 - mean_absolute_error: 3.0537 - val_loss: 23.4651 - val_mean_absolute_error: 3.1831\n",
      "Epoch 8/11\n",
      "377/377 [==============================] - 4s 10ms/step - loss: 20.7885 - mean_absolute_error: 2.9459 - val_loss: 23.2109 - val_mean_absolute_error: 3.2079\n",
      "Epoch 9/11\n",
      "377/377 [==============================] - 4s 9ms/step - loss: 20.4023 - mean_absolute_error: 2.8808 - val_loss: 29.2046 - val_mean_absolute_error: 3.7386\n",
      "Epoch 10/11\n",
      "377/377 [==============================] - 4s 9ms/step - loss: 20.0333 - mean_absolute_error: 2.8262 - val_loss: 34.9238 - val_mean_absolute_error: 4.2510\n",
      "Epoch 11/11\n",
      "377/377 [==============================] - 4s 10ms/step - loss: 19.3859 - mean_absolute_error: 2.7377 - val_loss: 28.5669 - val_mean_absolute_error: 3.7220\n",
      "388/388 [==============================] - 1s 2ms/step - loss: 28.5669 - mean_absolute_error: 3.7220\n"
     ]
    },
    {
     "name": "stderr",
     "output_type": "stream",
     "text": [
      "\u001b[32m[I 2022-08-29 12:34:53,937]\u001b[0m Trial 71 finished with value: 3.7220284938812256 and parameters: {'conv1_lambda': 0.2996995816791817, 'conv2_lambda': 0.4138181058391854, 'conv3_lambda': 0.29698127950289566, 'dense_lambda': 0.05731827560106216, 'epochs': 11}. Best is trial 56 with value: 2.6267848014831543.\u001b[0m\n"
     ]
    },
    {
     "name": "stdout",
     "output_type": "stream",
     "text": [
      "Epoch 1/11\n",
      "377/377 [==============================] - 4s 11ms/step - loss: 61.1239 - mean_absolute_error: 5.5499 - val_loss: 60.1060 - val_mean_absolute_error: 6.3662\n",
      "Epoch 2/11\n",
      "377/377 [==============================] - 4s 9ms/step - loss: 42.4108 - mean_absolute_error: 5.1031 - val_loss: 34.9096 - val_mean_absolute_error: 4.3687\n",
      "Epoch 3/11\n",
      "377/377 [==============================] - 4s 9ms/step - loss: 31.4939 - mean_absolute_error: 4.0651 - val_loss: 37.1413 - val_mean_absolute_error: 4.3719\n",
      "Epoch 4/11\n",
      "377/377 [==============================] - 4s 9ms/step - loss: 26.5254 - mean_absolute_error: 3.5196 - val_loss: 39.1459 - val_mean_absolute_error: 4.4055\n",
      "Epoch 5/11\n",
      "377/377 [==============================] - 4s 9ms/step - loss: 24.3035 - mean_absolute_error: 3.2446 - val_loss: 44.5142 - val_mean_absolute_error: 4.8385\n",
      "Epoch 6/11\n",
      "377/377 [==============================] - 4s 9ms/step - loss: 22.7401 - mean_absolute_error: 3.0474 - val_loss: 49.8532 - val_mean_absolute_error: 5.2483\n",
      "Epoch 7/11\n",
      "377/377 [==============================] - 4s 9ms/step - loss: 21.7760 - mean_absolute_error: 2.9376 - val_loss: 51.5006 - val_mean_absolute_error: 5.3081\n",
      "Epoch 8/11\n",
      "377/377 [==============================] - 4s 9ms/step - loss: 20.9053 - mean_absolute_error: 2.8160 - val_loss: 64.6234 - val_mean_absolute_error: 6.2752\n",
      "Epoch 9/11\n",
      "377/377 [==============================] - 4s 9ms/step - loss: 20.5588 - mean_absolute_error: 2.7707 - val_loss: 76.4205 - val_mean_absolute_error: 7.0703\n",
      "Epoch 10/11\n",
      "377/377 [==============================] - 4s 9ms/step - loss: 20.2400 - mean_absolute_error: 2.7138 - val_loss: 66.3813 - val_mean_absolute_error: 6.4146\n",
      "Epoch 11/11\n",
      "377/377 [==============================] - 4s 9ms/step - loss: 19.2952 - mean_absolute_error: 2.5747 - val_loss: 69.2099 - val_mean_absolute_error: 6.6161\n",
      "388/388 [==============================] - 1s 2ms/step - loss: 69.2099 - mean_absolute_error: 6.6161\n"
     ]
    },
    {
     "name": "stderr",
     "output_type": "stream",
     "text": [
      "\u001b[32m[I 2022-08-29 12:35:38,054]\u001b[0m Trial 72 finished with value: 6.616065979003906 and parameters: {'conv1_lambda': 0.3140971358860211, 'conv2_lambda': 0.3898950098648193, 'conv3_lambda': 0.32928448915669944, 'dense_lambda': 0.0822143295538993, 'epochs': 11}. Best is trial 56 with value: 2.6267848014831543.\u001b[0m\n"
     ]
    },
    {
     "name": "stdout",
     "output_type": "stream",
     "text": [
      "Epoch 1/12\n",
      "377/377 [==============================] - 4s 11ms/step - loss: 60.1366 - mean_absolute_error: 5.4887 - val_loss: 50.7873 - val_mean_absolute_error: 5.7609\n",
      "Epoch 2/12\n",
      "377/377 [==============================] - 4s 9ms/step - loss: 37.3157 - mean_absolute_error: 4.5309 - val_loss: 32.3155 - val_mean_absolute_error: 3.9621\n",
      "Epoch 3/12\n",
      "377/377 [==============================] - 4s 9ms/step - loss: 29.6698 - mean_absolute_error: 3.8482 - val_loss: 30.7819 - val_mean_absolute_error: 3.8636\n",
      "Epoch 4/12\n",
      "377/377 [==============================] - 4s 9ms/step - loss: 26.4551 - mean_absolute_error: 3.5263 - val_loss: 30.2150 - val_mean_absolute_error: 3.7790\n",
      "Epoch 5/12\n",
      "377/377 [==============================] - 4s 9ms/step - loss: 24.7954 - mean_absolute_error: 3.3148 - val_loss: 29.4430 - val_mean_absolute_error: 3.6596\n",
      "Epoch 6/12\n",
      "377/377 [==============================] - 4s 9ms/step - loss: 23.5828 - mean_absolute_error: 3.1351 - val_loss: 30.5489 - val_mean_absolute_error: 3.7292\n",
      "Epoch 7/12\n",
      "377/377 [==============================] - 4s 9ms/step - loss: 22.3850 - mean_absolute_error: 2.9837 - val_loss: 31.3029 - val_mean_absolute_error: 3.7249\n",
      "Epoch 8/12\n",
      "377/377 [==============================] - 4s 9ms/step - loss: 21.3983 - mean_absolute_error: 2.8305 - val_loss: 33.4332 - val_mean_absolute_error: 3.8753\n",
      "Epoch 9/12\n",
      "377/377 [==============================] - 4s 9ms/step - loss: 20.8979 - mean_absolute_error: 2.7535 - val_loss: 34.8549 - val_mean_absolute_error: 3.9924\n",
      "Epoch 10/12\n",
      "377/377 [==============================] - 4s 9ms/step - loss: 20.6513 - mean_absolute_error: 2.7132 - val_loss: 35.2434 - val_mean_absolute_error: 4.0349\n",
      "Epoch 11/12\n",
      "377/377 [==============================] - 4s 9ms/step - loss: 20.1168 - mean_absolute_error: 2.6484 - val_loss: 34.9910 - val_mean_absolute_error: 3.9777\n",
      "Epoch 12/12\n",
      "377/377 [==============================] - 4s 9ms/step - loss: 19.7323 - mean_absolute_error: 2.5819 - val_loss: 34.4354 - val_mean_absolute_error: 3.9213\n",
      "388/388 [==============================] - 1s 2ms/step - loss: 34.4354 - mean_absolute_error: 3.9213\n"
     ]
    },
    {
     "name": "stderr",
     "output_type": "stream",
     "text": [
      "\u001b[32m[I 2022-08-29 12:36:25,956]\u001b[0m Trial 73 finished with value: 3.921321392059326 and parameters: {'conv1_lambda': 0.4018060786342484, 'conv2_lambda': 0.43311849670808117, 'conv3_lambda': 0.2880314663004406, 'dense_lambda': 0.10436681386026206, 'epochs': 12}. Best is trial 56 with value: 2.6267848014831543.\u001b[0m\n"
     ]
    },
    {
     "name": "stdout",
     "output_type": "stream",
     "text": [
      "Epoch 1/10\n",
      "377/377 [==============================] - 4s 11ms/step - loss: 53.7460 - mean_absolute_error: 5.3148 - val_loss: 32.8862 - val_mean_absolute_error: 4.0798\n",
      "Epoch 2/10\n",
      "377/377 [==============================] - 4s 9ms/step - loss: 32.6446 - mean_absolute_error: 4.0943 - val_loss: 24.7659 - val_mean_absolute_error: 3.1889\n",
      "Epoch 3/10\n",
      "377/377 [==============================] - 4s 9ms/step - loss: 25.9833 - mean_absolute_error: 3.4487 - val_loss: 24.1364 - val_mean_absolute_error: 3.1784\n",
      "Epoch 4/10\n",
      "377/377 [==============================] - 4s 9ms/step - loss: 23.3360 - mean_absolute_error: 3.1590 - val_loss: 29.4927 - val_mean_absolute_error: 3.6664\n",
      "Epoch 5/10\n",
      "377/377 [==============================] - 4s 9ms/step - loss: 21.8604 - mean_absolute_error: 2.9932 - val_loss: 27.6206 - val_mean_absolute_error: 3.5695\n",
      "Epoch 6/10\n",
      "377/377 [==============================] - 4s 9ms/step - loss: 20.7814 - mean_absolute_error: 2.8759 - val_loss: 40.3859 - val_mean_absolute_error: 4.5814\n",
      "Epoch 7/10\n",
      "377/377 [==============================] - 4s 10ms/step - loss: 19.9411 - mean_absolute_error: 2.7721 - val_loss: 38.5651 - val_mean_absolute_error: 4.5093\n",
      "Epoch 8/10\n",
      "377/377 [==============================] - 4s 9ms/step - loss: 19.2486 - mean_absolute_error: 2.6838 - val_loss: 39.1508 - val_mean_absolute_error: 4.5694\n",
      "Epoch 9/10\n",
      "377/377 [==============================] - 4s 9ms/step - loss: 18.4521 - mean_absolute_error: 2.5784 - val_loss: 54.0211 - val_mean_absolute_error: 5.6352\n",
      "Epoch 10/10\n",
      "377/377 [==============================] - 4s 9ms/step - loss: 18.1994 - mean_absolute_error: 2.5362 - val_loss: 76.2326 - val_mean_absolute_error: 6.9918\n",
      "388/388 [==============================] - 1s 2ms/step - loss: 76.2326 - mean_absolute_error: 6.9918\n"
     ]
    },
    {
     "name": "stderr",
     "output_type": "stream",
     "text": [
      "\u001b[32m[I 2022-08-29 12:37:06,611]\u001b[0m Trial 74 finished with value: 6.991801738739014 and parameters: {'conv1_lambda': 0.4158493125784557, 'conv2_lambda': 0.07436417657489072, 'conv3_lambda': 0.3124248845232452, 'dense_lambda': 0.1138648317731393, 'epochs': 10}. Best is trial 56 with value: 2.6267848014831543.\u001b[0m\n"
     ]
    },
    {
     "name": "stdout",
     "output_type": "stream",
     "text": [
      "Epoch 1/9\n",
      "377/377 [==============================] - 4s 11ms/step - loss: 59.7917 - mean_absolute_error: 5.4538 - val_loss: 45.9271 - val_mean_absolute_error: 5.3779\n",
      "Epoch 2/9\n",
      "377/377 [==============================] - 4s 9ms/step - loss: 36.1959 - mean_absolute_error: 4.4295 - val_loss: 25.0020 - val_mean_absolute_error: 3.2283\n",
      "Epoch 3/9\n",
      "377/377 [==============================] - 4s 9ms/step - loss: 28.1860 - mean_absolute_error: 3.7034 - val_loss: 22.3185 - val_mean_absolute_error: 3.0560\n",
      "Epoch 4/9\n",
      "377/377 [==============================] - 4s 9ms/step - loss: 25.1235 - mean_absolute_error: 3.4157 - val_loss: 21.2630 - val_mean_absolute_error: 2.9397\n",
      "Epoch 5/9\n",
      "377/377 [==============================] - 4s 9ms/step - loss: 23.4867 - mean_absolute_error: 3.2548 - val_loss: 21.2781 - val_mean_absolute_error: 2.9373\n",
      "Epoch 6/9\n",
      "377/377 [==============================] - 4s 9ms/step - loss: 21.7367 - mean_absolute_error: 3.0529 - val_loss: 22.0252 - val_mean_absolute_error: 3.0069\n",
      "Epoch 7/9\n",
      "377/377 [==============================] - 4s 9ms/step - loss: 20.6953 - mean_absolute_error: 2.9313 - val_loss: 25.4787 - val_mean_absolute_error: 3.2890\n",
      "Epoch 8/9\n",
      "377/377 [==============================] - 4s 9ms/step - loss: 20.0040 - mean_absolute_error: 2.8309 - val_loss: 25.5838 - val_mean_absolute_error: 3.3089\n",
      "Epoch 9/9\n",
      "377/377 [==============================] - 4s 9ms/step - loss: 19.3311 - mean_absolute_error: 2.7343 - val_loss: 27.5148 - val_mean_absolute_error: 3.4800\n",
      "388/388 [==============================] - 1s 2ms/step - loss: 27.5148 - mean_absolute_error: 3.4800\n"
     ]
    },
    {
     "name": "stderr",
     "output_type": "stream",
     "text": [
      "\u001b[32m[I 2022-08-29 12:37:43,722]\u001b[0m Trial 75 finished with value: 3.480013608932495 and parameters: {'conv1_lambda': 0.2650788766219583, 'conv2_lambda': 0.45176525303910237, 'conv3_lambda': 0.33831301582406753, 'dense_lambda': 0.04295551084808163, 'epochs': 9}. Best is trial 56 with value: 2.6267848014831543.\u001b[0m\n"
     ]
    },
    {
     "name": "stdout",
     "output_type": "stream",
     "text": [
      "Epoch 1/8\n",
      "377/377 [==============================] - 4s 11ms/step - loss: 56.5064 - mean_absolute_error: 5.2819 - val_loss: 33.2787 - val_mean_absolute_error: 4.0070\n",
      "Epoch 2/8\n",
      "377/377 [==============================] - 4s 9ms/step - loss: 34.1990 - mean_absolute_error: 4.1625 - val_loss: 24.6332 - val_mean_absolute_error: 3.1610\n",
      "Epoch 3/8\n",
      "377/377 [==============================] - 4s 9ms/step - loss: 27.6133 - mean_absolute_error: 3.5723 - val_loss: 22.7271 - val_mean_absolute_error: 3.0289\n",
      "Epoch 4/8\n",
      "377/377 [==============================] - 4s 9ms/step - loss: 24.7415 - mean_absolute_error: 3.2725 - val_loss: 22.4550 - val_mean_absolute_error: 2.9693\n",
      "Epoch 5/8\n",
      "377/377 [==============================] - 4s 9ms/step - loss: 23.1194 - mean_absolute_error: 3.1040 - val_loss: 21.3410 - val_mean_absolute_error: 2.9030\n",
      "Epoch 6/8\n",
      "377/377 [==============================] - 4s 9ms/step - loss: 22.3279 - mean_absolute_error: 3.0117 - val_loss: 22.4536 - val_mean_absolute_error: 2.9872\n",
      "Epoch 7/8\n",
      "377/377 [==============================] - 4s 9ms/step - loss: 21.2903 - mean_absolute_error: 2.8913 - val_loss: 22.3999 - val_mean_absolute_error: 2.9699\n",
      "Epoch 8/8\n",
      "377/377 [==============================] - 4s 9ms/step - loss: 20.7769 - mean_absolute_error: 2.8199 - val_loss: 22.9049 - val_mean_absolute_error: 3.0153\n",
      "388/388 [==============================] - 1s 2ms/step - loss: 22.9050 - mean_absolute_error: 3.0153\n"
     ]
    },
    {
     "name": "stderr",
     "output_type": "stream",
     "text": [
      "\u001b[32m[I 2022-08-29 12:38:17,151]\u001b[0m Trial 76 finished with value: 3.015320062637329 and parameters: {'conv1_lambda': 0.24387084671229214, 'conv2_lambda': 0.3738299424988942, 'conv3_lambda': 0.2813620871491445, 'dense_lambda': 0.09353707886963752, 'epochs': 8}. Best is trial 56 with value: 2.6267848014831543.\u001b[0m\n"
     ]
    },
    {
     "name": "stdout",
     "output_type": "stream",
     "text": [
      "Epoch 1/11\n",
      "  1/377 [..............................] - ETA: 2s - loss: 277.4581 - mean_absolute_error: 13.5222WARNING:tensorflow:Callbacks method `on_train_batch_end` is slow compared to the batch time (batch time: 0.0040s vs `on_train_batch_end` time: 0.0060s). Check your callbacks.\n",
      "377/377 [==============================] - 4s 11ms/step - loss: 60.8646 - mean_absolute_error: 5.4623 - val_loss: 43.1863 - val_mean_absolute_error: 5.0652\n",
      "Epoch 2/11\n",
      "377/377 [==============================] - 4s 9ms/step - loss: 36.1253 - mean_absolute_error: 4.3608 - val_loss: 28.2342 - val_mean_absolute_error: 3.6261\n",
      "Epoch 3/11\n",
      "377/377 [==============================] - 4s 9ms/step - loss: 29.6751 - mean_absolute_error: 3.8178 - val_loss: 25.1847 - val_mean_absolute_error: 3.3023\n",
      "Epoch 4/11\n",
      "377/377 [==============================] - 4s 9ms/step - loss: 26.3744 - mean_absolute_error: 3.4386 - val_loss: 23.7561 - val_mean_absolute_error: 3.0826\n",
      "Epoch 5/11\n",
      "377/377 [==============================] - 4s 9ms/step - loss: 24.9629 - mean_absolute_error: 3.2719 - val_loss: 23.9343 - val_mean_absolute_error: 3.0987\n",
      "Epoch 6/11\n",
      "377/377 [==============================] - 4s 9ms/step - loss: 23.5379 - mean_absolute_error: 3.1039 - val_loss: 23.1594 - val_mean_absolute_error: 3.0010\n",
      "Epoch 7/11\n",
      "377/377 [==============================] - 4s 9ms/step - loss: 22.6939 - mean_absolute_error: 3.0055 - val_loss: 23.7967 - val_mean_absolute_error: 3.0355\n",
      "Epoch 8/11\n",
      "377/377 [==============================] - 4s 9ms/step - loss: 22.3325 - mean_absolute_error: 2.9549 - val_loss: 23.4204 - val_mean_absolute_error: 3.0062\n",
      "Epoch 9/11\n",
      "377/377 [==============================] - 4s 10ms/step - loss: 22.1485 - mean_absolute_error: 2.9269 - val_loss: 23.2862 - val_mean_absolute_error: 2.9962\n",
      "Epoch 10/11\n",
      "377/377 [==============================] - 4s 10ms/step - loss: 22.0488 - mean_absolute_error: 2.9080 - val_loss: 24.8288 - val_mean_absolute_error: 3.1387\n",
      "Epoch 11/11\n",
      "377/377 [==============================] - 4s 9ms/step - loss: 21.5797 - mean_absolute_error: 2.8473 - val_loss: 23.2395 - val_mean_absolute_error: 2.9684\n",
      "388/388 [==============================] - 1s 2ms/step - loss: 23.2395 - mean_absolute_error: 2.9684\n"
     ]
    },
    {
     "name": "stderr",
     "output_type": "stream",
     "text": [
      "\u001b[32m[I 2022-08-29 12:39:01,311]\u001b[0m Trial 77 finished with value: 2.9684247970581055 and parameters: {'conv1_lambda': 0.32723618832973667, 'conv2_lambda': 0.3950399160482855, 'conv3_lambda': 0.35931379009089887, 'dense_lambda': 0.13776250802221995, 'epochs': 11}. Best is trial 56 with value: 2.6267848014831543.\u001b[0m\n"
     ]
    },
    {
     "name": "stdout",
     "output_type": "stream",
     "text": [
      "Epoch 1/7\n",
      "377/377 [==============================] - 4s 11ms/step - loss: 60.5482 - mean_absolute_error: 5.4524 - val_loss: 50.4841 - val_mean_absolute_error: 5.7450\n",
      "Epoch 2/7\n",
      "377/377 [==============================] - 4s 9ms/step - loss: 37.7618 - mean_absolute_error: 4.6016 - val_loss: 26.9046 - val_mean_absolute_error: 3.5391\n",
      "Epoch 3/7\n",
      "377/377 [==============================] - 4s 9ms/step - loss: 29.5082 - mean_absolute_error: 3.8626 - val_loss: 25.8343 - val_mean_absolute_error: 3.3798\n",
      "Epoch 4/7\n",
      "377/377 [==============================] - 4s 9ms/step - loss: 26.0715 - mean_absolute_error: 3.4990 - val_loss: 24.2405 - val_mean_absolute_error: 3.2047\n",
      "Epoch 5/7\n",
      "377/377 [==============================] - 4s 9ms/step - loss: 24.4401 - mean_absolute_error: 3.3213 - val_loss: 22.3201 - val_mean_absolute_error: 3.0394\n",
      "Epoch 6/7\n",
      "377/377 [==============================] - 4s 9ms/step - loss: 23.3284 - mean_absolute_error: 3.1970 - val_loss: 22.1851 - val_mean_absolute_error: 3.0196\n",
      "Epoch 7/7\n",
      "377/377 [==============================] - 4s 9ms/step - loss: 22.6237 - mean_absolute_error: 3.1232 - val_loss: 21.5895 - val_mean_absolute_error: 2.9619\n",
      "388/388 [==============================] - 1s 2ms/step - loss: 21.5895 - mean_absolute_error: 2.9619\n"
     ]
    },
    {
     "name": "stderr",
     "output_type": "stream",
     "text": [
      "\u001b[32m[I 2022-08-29 12:39:31,138]\u001b[0m Trial 78 finished with value: 2.9618873596191406 and parameters: {'conv1_lambda': 0.37953094848000396, 'conv2_lambda': 0.3221310605395964, 'conv3_lambda': 0.40602375062133494, 'dense_lambda': 0.07908101284428665, 'epochs': 7}. Best is trial 56 with value: 2.6267848014831543.\u001b[0m\n"
     ]
    },
    {
     "name": "stdout",
     "output_type": "stream",
     "text": [
      "Epoch 1/12\n",
      "  1/377 [..............................] - ETA: 1s - loss: 274.2681 - mean_absolute_error: 13.4857WARNING:tensorflow:Callbacks method `on_train_batch_end` is slow compared to the batch time (batch time: 0.0040s vs `on_train_batch_end` time: 0.0061s). Check your callbacks.\n",
      "377/377 [==============================] - 4s 11ms/step - loss: 60.2626 - mean_absolute_error: 5.4805 - val_loss: 50.9470 - val_mean_absolute_error: 5.7860\n",
      "Epoch 2/12\n",
      "377/377 [==============================] - 4s 9ms/step - loss: 37.7477 - mean_absolute_error: 4.6292 - val_loss: 26.8473 - val_mean_absolute_error: 3.5469\n",
      "Epoch 3/12\n",
      "377/377 [==============================] - 4s 9ms/step - loss: 28.9211 - mean_absolute_error: 3.8105 - val_loss: 23.1453 - val_mean_absolute_error: 3.0845\n",
      "Epoch 4/12\n",
      "377/377 [==============================] - 4s 9ms/step - loss: 25.0087 - mean_absolute_error: 3.3926 - val_loss: 21.9284 - val_mean_absolute_error: 2.9471\n",
      "Epoch 5/12\n",
      "377/377 [==============================] - 4s 9ms/step - loss: 22.8556 - mean_absolute_error: 3.1610 - val_loss: 21.2605 - val_mean_absolute_error: 2.8897\n",
      "Epoch 6/12\n",
      "377/377 [==============================] - 4s 9ms/step - loss: 21.0668 - mean_absolute_error: 2.9662 - val_loss: 26.8776 - val_mean_absolute_error: 3.3962\n",
      "Epoch 7/12\n",
      "377/377 [==============================] - 4s 9ms/step - loss: 20.2888 - mean_absolute_error: 2.8673 - val_loss: 23.4694 - val_mean_absolute_error: 3.0828\n",
      "Epoch 8/12\n",
      "377/377 [==============================] - 4s 9ms/step - loss: 19.1268 - mean_absolute_error: 2.7064 - val_loss: 26.2647 - val_mean_absolute_error: 3.3697\n",
      "Epoch 9/12\n",
      "377/377 [==============================] - 4s 9ms/step - loss: 18.1496 - mean_absolute_error: 2.5811 - val_loss: 37.2786 - val_mean_absolute_error: 4.3326\n",
      "Epoch 10/12\n",
      "377/377 [==============================] - 4s 9ms/step - loss: 17.9661 - mean_absolute_error: 2.5527 - val_loss: 52.9621 - val_mean_absolute_error: 5.4434\n",
      "Epoch 11/12\n",
      "377/377 [==============================] - 4s 9ms/step - loss: 16.7978 - mean_absolute_error: 2.3827 - val_loss: 52.8038 - val_mean_absolute_error: 5.4491\n",
      "Epoch 12/12\n",
      "377/377 [==============================] - 4s 9ms/step - loss: 16.1455 - mean_absolute_error: 2.2741 - val_loss: 77.9453 - val_mean_absolute_error: 6.8769\n",
      "388/388 [==============================] - 1s 2ms/step - loss: 77.9453 - mean_absolute_error: 6.8769\n"
     ]
    },
    {
     "name": "stderr",
     "output_type": "stream",
     "text": [
      "\u001b[32m[I 2022-08-29 12:40:18,980]\u001b[0m Trial 79 finished with value: 6.87689208984375 and parameters: {'conv1_lambda': 0.3492773493495519, 'conv2_lambda': 0.42161280088925257, 'conv3_lambda': 0.3185772574924348, 'dense_lambda': 0.033720543120505916, 'epochs': 12}. Best is trial 56 with value: 2.6267848014831543.\u001b[0m\n"
     ]
    },
    {
     "name": "stdout",
     "output_type": "stream",
     "text": [
      "Epoch 1/9\n",
      "377/377 [==============================] - 4s 11ms/step - loss: 50.1058 - mean_absolute_error: 5.1576 - val_loss: 31.4041 - val_mean_absolute_error: 3.9711\n",
      "Epoch 2/9\n",
      "377/377 [==============================] - 4s 9ms/step - loss: 29.9272 - mean_absolute_error: 3.8835 - val_loss: 23.5922 - val_mean_absolute_error: 3.3180\n",
      "Epoch 3/9\n",
      "377/377 [==============================] - 4s 9ms/step - loss: 24.3469 - mean_absolute_error: 3.3802 - val_loss: 25.1358 - val_mean_absolute_error: 3.3931\n",
      "Epoch 4/9\n",
      "377/377 [==============================] - 4s 9ms/step - loss: 21.8136 - mean_absolute_error: 3.1345 - val_loss: 31.6501 - val_mean_absolute_error: 3.9503\n",
      "Epoch 5/9\n",
      "377/377 [==============================] - 4s 9ms/step - loss: 19.8615 - mean_absolute_error: 2.9206 - val_loss: 33.6078 - val_mean_absolute_error: 4.1898\n",
      "Epoch 6/9\n",
      "377/377 [==============================] - 4s 9ms/step - loss: 18.8189 - mean_absolute_error: 2.8063 - val_loss: 45.0178 - val_mean_absolute_error: 5.1300\n",
      "Epoch 7/9\n",
      "377/377 [==============================] - 4s 9ms/step - loss: 17.9310 - mean_absolute_error: 2.6989 - val_loss: 39.1357 - val_mean_absolute_error: 4.7287\n",
      "Epoch 8/9\n",
      "377/377 [==============================] - 4s 9ms/step - loss: 17.2270 - mean_absolute_error: 2.6124 - val_loss: 43.7439 - val_mean_absolute_error: 5.0840\n",
      "Epoch 9/9\n",
      "377/377 [==============================] - 4s 10ms/step - loss: 16.1369 - mean_absolute_error: 2.4767 - val_loss: 61.9954 - val_mean_absolute_error: 6.4319\n",
      "388/388 [==============================] - 1s 2ms/step - loss: 61.9954 - mean_absolute_error: 6.4319\n"
     ]
    },
    {
     "name": "stderr",
     "output_type": "stream",
     "text": [
      "\u001b[32m[I 2022-08-29 12:40:56,144]\u001b[0m Trial 80 finished with value: 6.431872367858887 and parameters: {'conv1_lambda': 0.44658466611267583, 'conv2_lambda': 0.3529096902069881, 'conv3_lambda': 0.01949507990053398, 'dense_lambda': 0.0566454184934013, 'epochs': 9}. Best is trial 56 with value: 2.6267848014831543.\u001b[0m\n"
     ]
    },
    {
     "name": "stdout",
     "output_type": "stream",
     "text": [
      "Epoch 1/10\n",
      "377/377 [==============================] - 4s 11ms/step - loss: 58.4241 - mean_absolute_error: 5.4733 - val_loss: 49.8735 - val_mean_absolute_error: 5.7348\n",
      "Epoch 2/10\n",
      "377/377 [==============================] - 4s 9ms/step - loss: 37.0189 - mean_absolute_error: 4.5725 - val_loss: 29.7892 - val_mean_absolute_error: 3.7542\n",
      "Epoch 3/10\n",
      "377/377 [==============================] - 4s 9ms/step - loss: 29.6834 - mean_absolute_error: 3.8874 - val_loss: 30.9714 - val_mean_absolute_error: 3.7363\n",
      "Epoch 4/10\n",
      "377/377 [==============================] - 4s 10ms/step - loss: 26.7755 - mean_absolute_error: 3.5995 - val_loss: 31.1085 - val_mean_absolute_error: 3.6731\n",
      "Epoch 5/10\n",
      "377/377 [==============================] - 4s 10ms/step - loss: 25.7066 - mean_absolute_error: 3.4962 - val_loss: 26.9770 - val_mean_absolute_error: 3.3767\n",
      "Epoch 6/10\n",
      "377/377 [==============================] - 4s 10ms/step - loss: 24.3976 - mean_absolute_error: 3.3575 - val_loss: 24.1531 - val_mean_absolute_error: 3.1524\n",
      "Epoch 7/10\n",
      "377/377 [==============================] - 4s 9ms/step - loss: 23.6239 - mean_absolute_error: 3.2855 - val_loss: 24.6594 - val_mean_absolute_error: 3.1421\n",
      "Epoch 8/10\n",
      "377/377 [==============================] - 4s 9ms/step - loss: 22.8939 - mean_absolute_error: 3.1908 - val_loss: 24.6267 - val_mean_absolute_error: 3.1226\n",
      "Epoch 9/10\n",
      "377/377 [==============================] - 4s 9ms/step - loss: 22.7091 - mean_absolute_error: 3.1583 - val_loss: 23.4171 - val_mean_absolute_error: 3.0233\n",
      "Epoch 10/10\n",
      "377/377 [==============================] - 4s 9ms/step - loss: 22.5696 - mean_absolute_error: 3.1335 - val_loss: 22.9126 - val_mean_absolute_error: 2.9781\n",
      "388/388 [==============================] - 1s 2ms/step - loss: 22.9126 - mean_absolute_error: 2.9781\n"
     ]
    },
    {
     "name": "stderr",
     "output_type": "stream",
     "text": [
      "\u001b[32m[I 2022-08-29 12:41:36,805]\u001b[0m Trial 81 finished with value: 2.9780595302581787 and parameters: {'conv1_lambda': 0.2996852383209541, 'conv2_lambda': 0.3454185000939079, 'conv3_lambda': 0.368492881923058, 'dense_lambda': 0.12093563391884687, 'epochs': 10}. Best is trial 56 with value: 2.6267848014831543.\u001b[0m\n"
     ]
    },
    {
     "name": "stdout",
     "output_type": "stream",
     "text": [
      "Epoch 1/10\n",
      "377/377 [==============================] - 4s 11ms/step - loss: 60.6769 - mean_absolute_error: 5.4740 - val_loss: 47.8534 - val_mean_absolute_error: 5.5330\n",
      "Epoch 2/10\n",
      "377/377 [==============================] - 4s 9ms/step - loss: 37.9459 - mean_absolute_error: 4.5955 - val_loss: 27.9582 - val_mean_absolute_error: 3.6036\n",
      "Epoch 3/10\n",
      "377/377 [==============================] - 4s 9ms/step - loss: 29.7836 - mean_absolute_error: 3.8507 - val_loss: 24.3433 - val_mean_absolute_error: 3.2659\n",
      "Epoch 4/10\n",
      "377/377 [==============================] - 4s 9ms/step - loss: 26.6654 - mean_absolute_error: 3.5429 - val_loss: 22.4392 - val_mean_absolute_error: 2.9916\n",
      "Epoch 5/10\n",
      "377/377 [==============================] - 4s 9ms/step - loss: 24.9127 - mean_absolute_error: 3.3448 - val_loss: 23.5134 - val_mean_absolute_error: 3.0371\n",
      "Epoch 6/10\n",
      "377/377 [==============================] - 4s 9ms/step - loss: 24.0323 - mean_absolute_error: 3.2414 - val_loss: 23.4558 - val_mean_absolute_error: 2.9990\n",
      "Epoch 7/10\n",
      "377/377 [==============================] - 4s 10ms/step - loss: 23.0312 - mean_absolute_error: 3.1250 - val_loss: 22.5492 - val_mean_absolute_error: 2.8800\n",
      "Epoch 8/10\n",
      "377/377 [==============================] - 4s 10ms/step - loss: 22.4276 - mean_absolute_error: 3.0403 - val_loss: 25.2169 - val_mean_absolute_error: 3.1016\n",
      "Epoch 9/10\n",
      "377/377 [==============================] - 4s 9ms/step - loss: 22.3668 - mean_absolute_error: 3.0234 - val_loss: 23.1953 - val_mean_absolute_error: 2.9203\n",
      "Epoch 10/10\n",
      "377/377 [==============================] - 4s 9ms/step - loss: 22.1905 - mean_absolute_error: 2.9967 - val_loss: 23.2068 - val_mean_absolute_error: 2.9451\n",
      "388/388 [==============================] - 1s 2ms/step - loss: 23.2068 - mean_absolute_error: 2.9451\n"
     ]
    },
    {
     "name": "stderr",
     "output_type": "stream",
     "text": [
      "\u001b[32m[I 2022-08-29 12:42:17,461]\u001b[0m Trial 82 finished with value: 2.9451096057891846 and parameters: {'conv1_lambda': 0.3592283880794209, 'conv2_lambda': 0.291335991905553, 'conv3_lambda': 0.3765066573386907, 'dense_lambda': 0.11642287738351154, 'epochs': 10}. Best is trial 56 with value: 2.6267848014831543.\u001b[0m\n"
     ]
    },
    {
     "name": "stdout",
     "output_type": "stream",
     "text": [
      "Epoch 1/11\n",
      "377/377 [==============================] - 4s 11ms/step - loss: 59.2842 - mean_absolute_error: 5.4037 - val_loss: 38.0399 - val_mean_absolute_error: 4.4090\n",
      "Epoch 2/11\n",
      "377/377 [==============================] - 4s 9ms/step - loss: 35.6138 - mean_absolute_error: 4.2253 - val_loss: 26.3033 - val_mean_absolute_error: 3.2203\n",
      "Epoch 3/11\n",
      "377/377 [==============================] - 4s 9ms/step - loss: 29.2574 - mean_absolute_error: 3.6558 - val_loss: 26.5447 - val_mean_absolute_error: 3.2715\n",
      "Epoch 4/11\n",
      "377/377 [==============================] - 4s 9ms/step - loss: 27.0120 - mean_absolute_error: 3.4548 - val_loss: 25.0944 - val_mean_absolute_error: 3.0775\n",
      "Epoch 5/11\n",
      "377/377 [==============================] - 4s 9ms/step - loss: 26.1636 - mean_absolute_error: 3.3741 - val_loss: 25.7002 - val_mean_absolute_error: 3.1321\n",
      "Epoch 6/11\n",
      "377/377 [==============================] - 4s 9ms/step - loss: 24.8013 - mean_absolute_error: 3.2137 - val_loss: 26.6133 - val_mean_absolute_error: 3.1916\n",
      "Epoch 7/11\n",
      "377/377 [==============================] - 4s 9ms/step - loss: 24.1353 - mean_absolute_error: 3.1364 - val_loss: 23.5438 - val_mean_absolute_error: 2.8870\n",
      "Epoch 8/11\n",
      "377/377 [==============================] - 4s 9ms/step - loss: 23.5178 - mean_absolute_error: 3.0426 - val_loss: 24.8480 - val_mean_absolute_error: 3.0061\n",
      "Epoch 9/11\n",
      "377/377 [==============================] - 4s 9ms/step - loss: 23.4656 - mean_absolute_error: 3.0395 - val_loss: 24.3220 - val_mean_absolute_error: 2.9423\n",
      "Epoch 10/11\n",
      "377/377 [==============================] - 4s 9ms/step - loss: 23.2183 - mean_absolute_error: 3.0080 - val_loss: 22.1759 - val_mean_absolute_error: 2.7941\n",
      "Epoch 11/11\n",
      "377/377 [==============================] - 4s 9ms/step - loss: 22.8005 - mean_absolute_error: 2.9633 - val_loss: 24.2563 - val_mean_absolute_error: 2.9368\n",
      "388/388 [==============================] - 1s 2ms/step - loss: 24.2563 - mean_absolute_error: 2.9368\n"
     ]
    },
    {
     "name": "stderr",
     "output_type": "stream",
     "text": [
      "\u001b[32m[I 2022-08-29 12:43:01,584]\u001b[0m Trial 83 finished with value: 2.936825752258301 and parameters: {'conv1_lambda': 0.34008880459751756, 'conv2_lambda': 0.33559594211564536, 'conv3_lambda': 0.344443938224245, 'dense_lambda': 0.1713965860357311, 'epochs': 11}. Best is trial 56 with value: 2.6267848014831543.\u001b[0m\n"
     ]
    },
    {
     "name": "stdout",
     "output_type": "stream",
     "text": [
      "Epoch 1/9\n",
      "377/377 [==============================] - 4s 11ms/step - loss: 60.2706 - mean_absolute_error: 5.4958 - val_loss: 47.1616 - val_mean_absolute_error: 5.4702\n",
      "Epoch 2/9\n",
      "377/377 [==============================] - 4s 9ms/step - loss: 37.4297 - mean_absolute_error: 4.5089 - val_loss: 25.3101 - val_mean_absolute_error: 3.3402\n",
      "Epoch 3/9\n",
      "377/377 [==============================] - 4s 9ms/step - loss: 29.6615 - mean_absolute_error: 3.7924 - val_loss: 28.6395 - val_mean_absolute_error: 3.5309\n",
      "Epoch 4/9\n",
      "377/377 [==============================] - 4s 9ms/step - loss: 26.5270 - mean_absolute_error: 3.4576 - val_loss: 21.8464 - val_mean_absolute_error: 2.8534\n",
      "Epoch 5/9\n",
      "377/377 [==============================] - 4s 9ms/step - loss: 24.2632 - mean_absolute_error: 3.1572 - val_loss: 19.9337 - val_mean_absolute_error: 2.6362\n",
      "Epoch 6/9\n",
      "377/377 [==============================] - 4s 9ms/step - loss: 23.1262 - mean_absolute_error: 3.0013 - val_loss: 21.0637 - val_mean_absolute_error: 2.7171\n",
      "Epoch 7/9\n",
      "377/377 [==============================] - 4s 9ms/step - loss: 22.3116 - mean_absolute_error: 2.9134 - val_loss: 19.9587 - val_mean_absolute_error: 2.5982\n",
      "Epoch 8/9\n",
      "377/377 [==============================] - 4s 9ms/step - loss: 21.6529 - mean_absolute_error: 2.8209 - val_loss: 19.7818 - val_mean_absolute_error: 2.5653\n",
      "Epoch 9/9\n",
      "377/377 [==============================] - 4s 9ms/step - loss: 21.6437 - mean_absolute_error: 2.8125 - val_loss: 20.2096 - val_mean_absolute_error: 2.6250\n",
      "388/388 [==============================] - 1s 2ms/step - loss: 20.2096 - mean_absolute_error: 2.6250\n"
     ]
    },
    {
     "name": "stderr",
     "output_type": "stream",
     "text": [
      "\u001b[32m[I 2022-08-29 12:43:38,685]\u001b[0m Trial 84 finished with value: 2.6249778270721436 and parameters: {'conv1_lambda': 0.37217565639573935, 'conv2_lambda': 0.3703556673278788, 'conv3_lambda': 0.36107002903413576, 'dense_lambda': 0.13567068335576418, 'epochs': 9}. Best is trial 84 with value: 2.6249778270721436.\u001b[0m\n"
     ]
    },
    {
     "name": "stdout",
     "output_type": "stream",
     "text": [
      "Epoch 1/9\n",
      "377/377 [==============================] - 4s 11ms/step - loss: 60.0672 - mean_absolute_error: 5.4875 - val_loss: 52.5174 - val_mean_absolute_error: 5.9235\n",
      "Epoch 2/9\n",
      "377/377 [==============================] - 4s 9ms/step - loss: 38.0343 - mean_absolute_error: 4.6571 - val_loss: 29.1608 - val_mean_absolute_error: 3.8389\n",
      "Epoch 3/9\n",
      "377/377 [==============================] - 4s 9ms/step - loss: 29.8351 - mean_absolute_error: 3.8807 - val_loss: 35.2192 - val_mean_absolute_error: 4.1750\n",
      "Epoch 4/9\n",
      "377/377 [==============================] - 4s 9ms/step - loss: 26.4583 - mean_absolute_error: 3.4858 - val_loss: 37.6925 - val_mean_absolute_error: 4.2298\n",
      "Epoch 5/9\n",
      "377/377 [==============================] - 4s 9ms/step - loss: 24.9510 - mean_absolute_error: 3.2990 - val_loss: 32.7568 - val_mean_absolute_error: 3.8729\n",
      "Epoch 6/9\n",
      "377/377 [==============================] - 4s 9ms/step - loss: 23.5502 - mean_absolute_error: 3.1065 - val_loss: 29.9770 - val_mean_absolute_error: 3.6905\n",
      "Epoch 7/9\n",
      "377/377 [==============================] - 4s 9ms/step - loss: 22.7377 - mean_absolute_error: 3.0116 - val_loss: 29.5990 - val_mean_absolute_error: 3.5964\n",
      "Epoch 8/9\n",
      "377/377 [==============================] - 4s 9ms/step - loss: 21.7317 - mean_absolute_error: 2.8677 - val_loss: 27.4396 - val_mean_absolute_error: 3.3976\n",
      "Epoch 9/9\n",
      "377/377 [==============================] - 4s 9ms/step - loss: 21.3819 - mean_absolute_error: 2.8070 - val_loss: 26.6179 - val_mean_absolute_error: 3.3349\n",
      "388/388 [==============================] - 1s 2ms/step - loss: 26.6179 - mean_absolute_error: 3.3349\n"
     ]
    },
    {
     "name": "stderr",
     "output_type": "stream",
     "text": [
      "\u001b[32m[I 2022-08-29 12:44:15,736]\u001b[0m Trial 85 finished with value: 3.334874391555786 and parameters: {'conv1_lambda': 0.3700572377013085, 'conv2_lambda': 0.37242611981153756, 'conv3_lambda': 0.33059639389560935, 'dense_lambda': 0.14166522846207044, 'epochs': 9}. Best is trial 84 with value: 2.6249778270721436.\u001b[0m\n"
     ]
    },
    {
     "name": "stdout",
     "output_type": "stream",
     "text": [
      "Epoch 1/8\n",
      "377/377 [==============================] - 4s 11ms/step - loss: 58.4537 - mean_absolute_error: 5.4599 - val_loss: 48.4768 - val_mean_absolute_error: 5.5857\n",
      "Epoch 2/8\n",
      "377/377 [==============================] - 4s 9ms/step - loss: 37.5359 - mean_absolute_error: 4.5794 - val_loss: 27.5692 - val_mean_absolute_error: 3.5302\n",
      "Epoch 3/8\n",
      "377/377 [==============================] - 4s 9ms/step - loss: 28.8849 - mean_absolute_error: 3.7353 - val_loss: 25.4543 - val_mean_absolute_error: 3.3192\n",
      "Epoch 4/8\n",
      "377/377 [==============================] - 4s 9ms/step - loss: 26.0524 - mean_absolute_error: 3.4529 - val_loss: 24.5722 - val_mean_absolute_error: 3.2009\n",
      "Epoch 5/8\n",
      "377/377 [==============================] - 4s 9ms/step - loss: 25.0731 - mean_absolute_error: 3.3543 - val_loss: 23.0605 - val_mean_absolute_error: 3.0606\n",
      "Epoch 6/8\n",
      "377/377 [==============================] - 4s 9ms/step - loss: 23.9008 - mean_absolute_error: 3.2226 - val_loss: 23.4894 - val_mean_absolute_error: 3.0735\n",
      "Epoch 7/8\n",
      "377/377 [==============================] - 4s 9ms/step - loss: 22.9756 - mean_absolute_error: 3.1150 - val_loss: 23.2526 - val_mean_absolute_error: 2.9942\n",
      "Epoch 8/8\n",
      "377/377 [==============================] - 4s 9ms/step - loss: 22.4007 - mean_absolute_error: 3.0167 - val_loss: 23.9583 - val_mean_absolute_error: 3.0608\n",
      "388/388 [==============================] - 1s 2ms/step - loss: 23.9583 - mean_absolute_error: 3.0608\n"
     ]
    },
    {
     "name": "stderr",
     "output_type": "stream",
     "text": [
      "\u001b[32m[I 2022-08-29 12:44:49,100]\u001b[0m Trial 86 finished with value: 3.0607945919036865 and parameters: {'conv1_lambda': 0.31852492742976274, 'conv2_lambda': 0.3836976178564315, 'conv3_lambda': 0.26830691416221425, 'dense_lambda': 0.15443711582501268, 'epochs': 8}. Best is trial 84 with value: 2.6249778270721436.\u001b[0m\n"
     ]
    },
    {
     "name": "stdout",
     "output_type": "stream",
     "text": [
      "Epoch 1/9\n",
      "377/377 [==============================] - 4s 11ms/step - loss: 60.7269 - mean_absolute_error: 5.4555 - val_loss: 47.2507 - val_mean_absolute_error: 5.5179\n",
      "Epoch 2/9\n",
      "377/377 [==============================] - 4s 9ms/step - loss: 35.9072 - mean_absolute_error: 4.3727 - val_loss: 25.1625 - val_mean_absolute_error: 3.1848\n",
      "Epoch 3/9\n",
      "377/377 [==============================] - 4s 9ms/step - loss: 28.8158 - mean_absolute_error: 3.6859 - val_loss: 23.1435 - val_mean_absolute_error: 3.0018\n",
      "Epoch 4/9\n",
      "377/377 [==============================] - 4s 9ms/step - loss: 25.6925 - mean_absolute_error: 3.3215 - val_loss: 23.6960 - val_mean_absolute_error: 2.9645\n",
      "Epoch 5/9\n",
      "377/377 [==============================] - 4s 9ms/step - loss: 23.7606 - mean_absolute_error: 3.0741 - val_loss: 24.0993 - val_mean_absolute_error: 2.9927\n",
      "Epoch 6/9\n",
      "377/377 [==============================] - 4s 9ms/step - loss: 22.4124 - mean_absolute_error: 2.9060 - val_loss: 26.8193 - val_mean_absolute_error: 3.2769\n",
      "Epoch 7/9\n",
      "377/377 [==============================] - 4s 10ms/step - loss: 21.6830 - mean_absolute_error: 2.8121 - val_loss: 30.1046 - val_mean_absolute_error: 3.5582\n",
      "Epoch 8/9\n",
      "377/377 [==============================] - 4s 9ms/step - loss: 20.7627 - mean_absolute_error: 2.6828 - val_loss: 28.8117 - val_mean_absolute_error: 3.4560\n",
      "Epoch 9/9\n",
      "377/377 [==============================] - 4s 9ms/step - loss: 20.4244 - mean_absolute_error: 2.6281 - val_loss: 33.4267 - val_mean_absolute_error: 3.8232\n",
      "388/388 [==============================] - 1s 2ms/step - loss: 33.4267 - mean_absolute_error: 3.8232\n"
     ]
    },
    {
     "name": "stderr",
     "output_type": "stream",
     "text": [
      "\u001b[32m[I 2022-08-29 12:45:26,197]\u001b[0m Trial 87 finished with value: 3.8231711387634277 and parameters: {'conv1_lambda': 0.39930228110301647, 'conv2_lambda': 0.40330084236979813, 'conv3_lambda': 0.42062670374979494, 'dense_lambda': 0.1078046882206177, 'epochs': 9}. Best is trial 84 with value: 2.6249778270721436.\u001b[0m\n"
     ]
    },
    {
     "name": "stdout",
     "output_type": "stream",
     "text": [
      "Epoch 1/12\n",
      "377/377 [==============================] - 4s 11ms/step - loss: 61.5678 - mean_absolute_error: 5.4965 - val_loss: 54.9939 - val_mean_absolute_error: 6.0242\n",
      "Epoch 2/12\n",
      "377/377 [==============================] - 4s 9ms/step - loss: 38.7828 - mean_absolute_error: 4.6978 - val_loss: 26.5161 - val_mean_absolute_error: 3.4926\n",
      "Epoch 3/12\n",
      "377/377 [==============================] - 4s 9ms/step - loss: 29.9961 - mean_absolute_error: 3.9113 - val_loss: 22.7829 - val_mean_absolute_error: 3.1041\n",
      "Epoch 4/12\n",
      "377/377 [==============================] - 4s 9ms/step - loss: 26.0628 - mean_absolute_error: 3.4836 - val_loss: 21.8668 - val_mean_absolute_error: 2.9427\n",
      "Epoch 5/12\n",
      "377/377 [==============================] - 4s 9ms/step - loss: 24.5097 - mean_absolute_error: 3.2930 - val_loss: 22.0870 - val_mean_absolute_error: 2.9310\n",
      "Epoch 6/12\n",
      "377/377 [==============================] - 4s 9ms/step - loss: 22.7745 - mean_absolute_error: 3.0659 - val_loss: 22.1661 - val_mean_absolute_error: 2.9106\n",
      "Epoch 7/12\n",
      "377/377 [==============================] - 4s 9ms/step - loss: 21.5399 - mean_absolute_error: 2.8841 - val_loss: 26.1443 - val_mean_absolute_error: 3.2517\n",
      "Epoch 8/12\n",
      "377/377 [==============================] - 4s 9ms/step - loss: 20.4677 - mean_absolute_error: 2.7046 - val_loss: 32.4512 - val_mean_absolute_error: 3.8075\n",
      "Epoch 9/12\n",
      "377/377 [==============================] - 4s 9ms/step - loss: 19.9252 - mean_absolute_error: 2.6192 - val_loss: 33.6913 - val_mean_absolute_error: 3.9498\n",
      "Epoch 10/12\n",
      "377/377 [==============================] - 4s 9ms/step - loss: 19.8560 - mean_absolute_error: 2.6108 - val_loss: 44.4231 - val_mean_absolute_error: 4.8175\n",
      "Epoch 11/12\n",
      "377/377 [==============================] - 4s 9ms/step - loss: 19.1065 - mean_absolute_error: 2.5060 - val_loss: 41.1112 - val_mean_absolute_error: 4.5788\n",
      "Epoch 12/12\n",
      "377/377 [==============================] - 4s 9ms/step - loss: 18.6909 - mean_absolute_error: 2.4422 - val_loss: 59.0482 - val_mean_absolute_error: 5.8704\n",
      "388/388 [==============================] - 1s 2ms/step - loss: 59.0482 - mean_absolute_error: 5.8704\n"
     ]
    },
    {
     "name": "stderr",
     "output_type": "stream",
     "text": [
      "\u001b[32m[I 2022-08-29 12:46:13,832]\u001b[0m Trial 88 finished with value: 5.870382308959961 and parameters: {'conv1_lambda': 0.3827639141520561, 'conv2_lambda': 0.41391981098166103, 'conv3_lambda': 0.3022091944766949, 'dense_lambda': 0.1329083697501121, 'epochs': 12}. Best is trial 84 with value: 2.6249778270721436.\u001b[0m\n"
     ]
    },
    {
     "name": "stdout",
     "output_type": "stream",
     "text": [
      "Epoch 1/13\n",
      "377/377 [==============================] - 4s 11ms/step - loss: 53.3995 - mean_absolute_error: 5.4584 - val_loss: 47.7616 - val_mean_absolute_error: 5.6463\n",
      "Epoch 2/13\n",
      "377/377 [==============================] - 4s 9ms/step - loss: 34.7596 - mean_absolute_error: 4.4059 - val_loss: 26.5219 - val_mean_absolute_error: 3.5447\n",
      "Epoch 3/13\n",
      "377/377 [==============================] - 4s 9ms/step - loss: 26.6694 - mean_absolute_error: 3.5930 - val_loss: 26.8256 - val_mean_absolute_error: 3.5313\n",
      "Epoch 4/13\n",
      "377/377 [==============================] - 4s 9ms/step - loss: 23.5285 - mean_absolute_error: 3.2467 - val_loss: 28.2855 - val_mean_absolute_error: 3.6411\n",
      "Epoch 5/13\n",
      "377/377 [==============================] - 4s 9ms/step - loss: 21.7500 - mean_absolute_error: 3.0389 - val_loss: 29.3424 - val_mean_absolute_error: 3.7446\n",
      "Epoch 6/13\n",
      "377/377 [==============================] - 4s 10ms/step - loss: 20.7253 - mean_absolute_error: 2.9044 - val_loss: 29.4571 - val_mean_absolute_error: 3.7471\n",
      "Epoch 7/13\n",
      "377/377 [==============================] - 4s 9ms/step - loss: 19.8790 - mean_absolute_error: 2.7957 - val_loss: 30.8335 - val_mean_absolute_error: 3.8739\n",
      "Epoch 8/13\n",
      "377/377 [==============================] - 4s 9ms/step - loss: 19.3469 - mean_absolute_error: 2.7228 - val_loss: 27.3437 - val_mean_absolute_error: 3.5671\n",
      "Epoch 9/13\n",
      "377/377 [==============================] - 4s 9ms/step - loss: 18.8081 - mean_absolute_error: 2.6467 - val_loss: 30.4154 - val_mean_absolute_error: 3.8319\n",
      "Epoch 10/13\n",
      "377/377 [==============================] - 4s 9ms/step - loss: 18.4476 - mean_absolute_error: 2.5915 - val_loss: 35.7228 - val_mean_absolute_error: 4.2572\n",
      "Epoch 11/13\n",
      "377/377 [==============================] - 4s 9ms/step - loss: 18.3050 - mean_absolute_error: 2.5686 - val_loss: 26.4274 - val_mean_absolute_error: 3.4544\n",
      "Epoch 12/13\n",
      "377/377 [==============================] - 4s 9ms/step - loss: 17.7993 - mean_absolute_error: 2.4909 - val_loss: 33.8095 - val_mean_absolute_error: 4.0768\n",
      "Epoch 13/13\n",
      "377/377 [==============================] - 4s 9ms/step - loss: 17.6460 - mean_absolute_error: 2.4515 - val_loss: 34.4552 - val_mean_absolute_error: 4.1216\n",
      "388/388 [==============================] - 1s 2ms/step - loss: 34.4552 - mean_absolute_error: 4.1216\n"
     ]
    },
    {
     "name": "stderr",
     "output_type": "stream",
     "text": [
      "\u001b[32m[I 2022-08-29 12:47:05,180]\u001b[0m Trial 89 finished with value: 4.121578216552734 and parameters: {'conv1_lambda': 0.2766961415144873, 'conv2_lambda': 0.4405993358984197, 'conv3_lambda': 0.058947019431014935, 'dense_lambda': 0.19087059574159493, 'epochs': 13}. Best is trial 84 with value: 2.6249778270721436.\u001b[0m\n"
     ]
    },
    {
     "name": "stdout",
     "output_type": "stream",
     "text": [
      "Epoch 1/10\n",
      "377/377 [==============================] - 4s 11ms/step - loss: 60.1451 - mean_absolute_error: 5.4559 - val_loss: 47.8457 - val_mean_absolute_error: 5.5373\n",
      "Epoch 2/10\n",
      "377/377 [==============================] - 4s 9ms/step - loss: 36.8927 - mean_absolute_error: 4.4526 - val_loss: 27.3443 - val_mean_absolute_error: 3.5298\n",
      "Epoch 3/10\n",
      "377/377 [==============================] - 4s 9ms/step - loss: 28.3260 - mean_absolute_error: 3.6016 - val_loss: 25.1031 - val_mean_absolute_error: 3.2736\n",
      "Epoch 4/10\n",
      "377/377 [==============================] - 4s 9ms/step - loss: 25.2217 - mean_absolute_error: 3.2843 - val_loss: 23.0817 - val_mean_absolute_error: 3.0699\n",
      "Epoch 5/10\n",
      "377/377 [==============================] - 4s 9ms/step - loss: 23.9135 - mean_absolute_error: 3.1529 - val_loss: 22.6219 - val_mean_absolute_error: 3.0267\n",
      "Epoch 6/10\n",
      "377/377 [==============================] - 4s 9ms/step - loss: 22.9825 - mean_absolute_error: 3.0353 - val_loss: 22.7257 - val_mean_absolute_error: 3.0166\n",
      "Epoch 7/10\n",
      "377/377 [==============================] - 4s 9ms/step - loss: 21.9284 - mean_absolute_error: 2.9112 - val_loss: 23.5174 - val_mean_absolute_error: 3.0613\n",
      "Epoch 8/10\n",
      "377/377 [==============================] - 4s 9ms/step - loss: 21.5018 - mean_absolute_error: 2.8362 - val_loss: 28.7527 - val_mean_absolute_error: 3.5499\n",
      "Epoch 9/10\n",
      "377/377 [==============================] - 4s 9ms/step - loss: 21.0175 - mean_absolute_error: 2.7541 - val_loss: 30.6725 - val_mean_absolute_error: 3.7233\n",
      "Epoch 10/10\n",
      "377/377 [==============================] - 4s 9ms/step - loss: 20.3901 - mean_absolute_error: 2.6489 - val_loss: 30.6912 - val_mean_absolute_error: 3.7208\n",
      "388/388 [==============================] - 1s 2ms/step - loss: 30.6912 - mean_absolute_error: 3.7208\n"
     ]
    },
    {
     "name": "stderr",
     "output_type": "stream",
     "text": [
      "\u001b[32m[I 2022-08-29 12:47:45,769]\u001b[0m Trial 90 finished with value: 3.720804214477539 and parameters: {'conv1_lambda': 0.41746712026312505, 'conv2_lambda': 0.3615736626646019, 'conv3_lambda': 0.35106358548119626, 'dense_lambda': 0.09626212434761607, 'epochs': 10}. Best is trial 84 with value: 2.6249778270721436.\u001b[0m\n"
     ]
    },
    {
     "name": "stdout",
     "output_type": "stream",
     "text": [
      "Epoch 1/10\n",
      "377/377 [==============================] - 4s 11ms/step - loss: 60.2012 - mean_absolute_error: 5.4812 - val_loss: 43.7722 - val_mean_absolute_error: 5.1984\n",
      "Epoch 2/10\n",
      "377/377 [==============================] - 4s 9ms/step - loss: 36.1116 - mean_absolute_error: 4.3919 - val_loss: 25.5151 - val_mean_absolute_error: 3.3526\n",
      "Epoch 3/10\n",
      "377/377 [==============================] - 4s 9ms/step - loss: 29.0155 - mean_absolute_error: 3.7418 - val_loss: 23.7036 - val_mean_absolute_error: 3.0710\n",
      "Epoch 4/10\n",
      "377/377 [==============================] - 4s 9ms/step - loss: 26.3390 - mean_absolute_error: 3.4434 - val_loss: 23.0432 - val_mean_absolute_error: 2.9634\n",
      "Epoch 5/10\n",
      "377/377 [==============================] - 4s 9ms/step - loss: 25.2432 - mean_absolute_error: 3.3286 - val_loss: 23.5621 - val_mean_absolute_error: 2.9947\n",
      "Epoch 6/10\n",
      "377/377 [==============================] - 4s 9ms/step - loss: 24.1473 - mean_absolute_error: 3.2065 - val_loss: 24.4825 - val_mean_absolute_error: 3.0589\n",
      "Epoch 7/10\n",
      "377/377 [==============================] - 4s 9ms/step - loss: 23.3944 - mean_absolute_error: 3.1285 - val_loss: 23.8108 - val_mean_absolute_error: 2.9765\n",
      "Epoch 8/10\n",
      "377/377 [==============================] - 4s 9ms/step - loss: 22.7777 - mean_absolute_error: 3.0439 - val_loss: 23.8966 - val_mean_absolute_error: 2.9896\n",
      "Epoch 9/10\n",
      "377/377 [==============================] - 4s 9ms/step - loss: 22.7716 - mean_absolute_error: 3.0451 - val_loss: 23.4624 - val_mean_absolute_error: 2.9237\n",
      "Epoch 10/10\n",
      "377/377 [==============================] - 4s 9ms/step - loss: 22.6648 - mean_absolute_error: 3.0224 - val_loss: 21.9472 - val_mean_absolute_error: 2.8175\n",
      "388/388 [==============================] - 1s 2ms/step - loss: 21.9472 - mean_absolute_error: 2.8175\n"
     ]
    },
    {
     "name": "stderr",
     "output_type": "stream",
     "text": [
      "\u001b[32m[I 2022-08-29 12:48:26,386]\u001b[0m Trial 91 finished with value: 2.8174664974212646 and parameters: {'conv1_lambda': 0.3583021839221136, 'conv2_lambda': 0.31210122851824884, 'conv3_lambda': 0.38649615781507857, 'dense_lambda': 0.16263837687106728, 'epochs': 10}. Best is trial 84 with value: 2.6249778270721436.\u001b[0m\n"
     ]
    },
    {
     "name": "stdout",
     "output_type": "stream",
     "text": [
      "Epoch 1/11\n",
      "377/377 [==============================] - 4s 11ms/step - loss: 59.1892 - mean_absolute_error: 5.4326 - val_loss: 48.0592 - val_mean_absolute_error: 5.5655\n",
      "Epoch 2/11\n",
      "377/377 [==============================] - 4s 9ms/step - loss: 37.2303 - mean_absolute_error: 4.4822 - val_loss: 28.5270 - val_mean_absolute_error: 3.6650\n",
      "Epoch 3/11\n",
      "377/377 [==============================] - 4s 9ms/step - loss: 30.2854 - mean_absolute_error: 3.9095 - val_loss: 27.4122 - val_mean_absolute_error: 3.5849\n",
      "Epoch 4/11\n",
      "377/377 [==============================] - 4s 9ms/step - loss: 26.6854 - mean_absolute_error: 3.4953 - val_loss: 28.3210 - val_mean_absolute_error: 3.5135\n",
      "Epoch 5/11\n",
      "377/377 [==============================] - 4s 9ms/step - loss: 24.5772 - mean_absolute_error: 3.2008 - val_loss: 27.9114 - val_mean_absolute_error: 3.4695\n",
      "Epoch 6/11\n",
      "377/377 [==============================] - 4s 9ms/step - loss: 23.3160 - mean_absolute_error: 3.0171 - val_loss: 29.8085 - val_mean_absolute_error: 3.6695\n",
      "Epoch 7/11\n",
      "377/377 [==============================] - 4s 9ms/step - loss: 22.1476 - mean_absolute_error: 2.8680 - val_loss: 30.2722 - val_mean_absolute_error: 3.6874\n",
      "Epoch 8/11\n",
      "377/377 [==============================] - 4s 9ms/step - loss: 21.3392 - mean_absolute_error: 2.7419 - val_loss: 33.2441 - val_mean_absolute_error: 3.9624\n",
      "Epoch 9/11\n",
      "377/377 [==============================] - 4s 9ms/step - loss: 20.7621 - mean_absolute_error: 2.6559 - val_loss: 41.1148 - val_mean_absolute_error: 4.6421\n",
      "Epoch 10/11\n",
      "377/377 [==============================] - 4s 9ms/step - loss: 20.5093 - mean_absolute_error: 2.6148 - val_loss: 53.4146 - val_mean_absolute_error: 5.5538\n",
      "Epoch 11/11\n",
      "377/377 [==============================] - 3s 9ms/step - loss: 19.5216 - mean_absolute_error: 2.4647 - val_loss: 49.9821 - val_mean_absolute_error: 5.3090\n",
      "388/388 [==============================] - 1s 2ms/step - loss: 49.9821 - mean_absolute_error: 5.3090\n"
     ]
    },
    {
     "name": "stderr",
     "output_type": "stream",
     "text": [
      "\u001b[32m[I 2022-08-29 12:49:10,599]\u001b[0m Trial 92 finished with value: 5.309008598327637 and parameters: {'conv1_lambda': 0.3330668304335511, 'conv2_lambda': 0.3016923836185516, 'conv3_lambda': 0.38701642976554823, 'dense_lambda': 0.17401164997993707, 'epochs': 11}. Best is trial 84 with value: 2.6249778270721436.\u001b[0m\n"
     ]
    },
    {
     "name": "stdout",
     "output_type": "stream",
     "text": [
      "Epoch 1/8\n",
      "377/377 [==============================] - 4s 11ms/step - loss: 58.7321 - mean_absolute_error: 5.4176 - val_loss: 41.2786 - val_mean_absolute_error: 4.7720\n",
      "Epoch 2/8\n",
      "377/377 [==============================] - 4s 9ms/step - loss: 35.8124 - mean_absolute_error: 4.2996 - val_loss: 23.7361 - val_mean_absolute_error: 3.0007\n",
      "Epoch 3/8\n",
      "377/377 [==============================] - 4s 9ms/step - loss: 28.1961 - mean_absolute_error: 3.5463 - val_loss: 22.5131 - val_mean_absolute_error: 2.8697\n",
      "Epoch 4/8\n",
      "377/377 [==============================] - 4s 9ms/step - loss: 25.2744 - mean_absolute_error: 3.2132 - val_loss: 23.4209 - val_mean_absolute_error: 2.9855\n",
      "Epoch 5/8\n",
      "377/377 [==============================] - 4s 9ms/step - loss: 23.5963 - mean_absolute_error: 3.0052 - val_loss: 25.0221 - val_mean_absolute_error: 3.1048\n",
      "Epoch 6/8\n",
      "377/377 [==============================] - 4s 9ms/step - loss: 22.5458 - mean_absolute_error: 2.8604 - val_loss: 25.9777 - val_mean_absolute_error: 3.1950\n",
      "Epoch 7/8\n",
      "377/377 [==============================] - 4s 9ms/step - loss: 21.8510 - mean_absolute_error: 2.7861 - val_loss: 30.2617 - val_mean_absolute_error: 3.5171\n",
      "Epoch 8/8\n",
      "377/377 [==============================] - 4s 9ms/step - loss: 21.1022 - mean_absolute_error: 2.6618 - val_loss: 29.3796 - val_mean_absolute_error: 3.4440\n",
      "388/388 [==============================] - 1s 2ms/step - loss: 29.3796 - mean_absolute_error: 3.4440\n"
     ]
    },
    {
     "name": "stderr",
     "output_type": "stream",
     "text": [
      "\u001b[32m[I 2022-08-29 12:49:43,933]\u001b[0m Trial 93 finished with value: 3.443960189819336 and parameters: {'conv1_lambda': 0.30720754515081417, 'conv2_lambda': 0.2761553425065667, 'conv3_lambda': 0.36477972351481985, 'dense_lambda': 0.15067378179382107, 'epochs': 8}. Best is trial 84 with value: 2.6249778270721436.\u001b[0m\n"
     ]
    },
    {
     "name": "stdout",
     "output_type": "stream",
     "text": [
      "Epoch 1/10\n",
      "377/377 [==============================] - 4s 11ms/step - loss: 58.5534 - mean_absolute_error: 5.4161 - val_loss: 44.1116 - val_mean_absolute_error: 5.0040\n",
      "Epoch 2/10\n",
      "377/377 [==============================] - 4s 9ms/step - loss: 36.1348 - mean_absolute_error: 4.3159 - val_loss: 27.5344 - val_mean_absolute_error: 3.5025\n",
      "Epoch 3/10\n",
      "377/377 [==============================] - 4s 9ms/step - loss: 29.1127 - mean_absolute_error: 3.6933 - val_loss: 26.7607 - val_mean_absolute_error: 3.4690\n",
      "Epoch 4/10\n",
      "377/377 [==============================] - 4s 9ms/step - loss: 26.0561 - mean_absolute_error: 3.3732 - val_loss: 25.7170 - val_mean_absolute_error: 3.2754\n",
      "Epoch 5/10\n",
      "377/377 [==============================] - 4s 9ms/step - loss: 24.5130 - mean_absolute_error: 3.1798 - val_loss: 26.7868 - val_mean_absolute_error: 3.3259\n",
      "Epoch 6/10\n",
      "377/377 [==============================] - 4s 9ms/step - loss: 22.9449 - mean_absolute_error: 2.9712 - val_loss: 27.4420 - val_mean_absolute_error: 3.3592\n",
      "Epoch 7/10\n",
      "377/377 [==============================] - 4s 9ms/step - loss: 21.8468 - mean_absolute_error: 2.8260 - val_loss: 29.1290 - val_mean_absolute_error: 3.4753\n",
      "Epoch 8/10\n",
      "377/377 [==============================] - 4s 9ms/step - loss: 21.1920 - mean_absolute_error: 2.7217 - val_loss: 32.2208 - val_mean_absolute_error: 3.7375\n",
      "Epoch 9/10\n",
      "377/377 [==============================] - 4s 9ms/step - loss: 20.5433 - mean_absolute_error: 2.6280 - val_loss: 37.3146 - val_mean_absolute_error: 4.1969\n",
      "Epoch 10/10\n",
      "377/377 [==============================] - 4s 9ms/step - loss: 20.0628 - mean_absolute_error: 2.5643 - val_loss: 45.3323 - val_mean_absolute_error: 4.8590\n",
      "388/388 [==============================] - 1s 2ms/step - loss: 45.3323 - mean_absolute_error: 4.8590\n"
     ]
    },
    {
     "name": "stderr",
     "output_type": "stream",
     "text": [
      "\u001b[32m[I 2022-08-29 12:50:24,493]\u001b[0m Trial 94 finished with value: 4.858956336975098 and parameters: {'conv1_lambda': 0.374199289637924, 'conv2_lambda': 0.3111418427394579, 'conv3_lambda': 0.2579371459342202, 'dense_lambda': 0.16224451527125883, 'epochs': 10}. Best is trial 84 with value: 2.6249778270721436.\u001b[0m\n"
     ]
    },
    {
     "name": "stdout",
     "output_type": "stream",
     "text": [
      "Epoch 1/11\n",
      "  1/377 [..............................] - ETA: 2s - loss: 264.6147 - mean_absolute_error: 12.9625WARNING:tensorflow:Callbacks method `on_train_batch_end` is slow compared to the batch time (batch time: 0.0040s vs `on_train_batch_end` time: 0.0062s). Check your callbacks.\n",
      "377/377 [==============================] - 4s 11ms/step - loss: 60.7115 - mean_absolute_error: 5.4964 - val_loss: 54.4030 - val_mean_absolute_error: 6.0636\n",
      "Epoch 2/11\n",
      "377/377 [==============================] - 4s 9ms/step - loss: 38.7676 - mean_absolute_error: 4.7602 - val_loss: 28.1451 - val_mean_absolute_error: 3.7178\n",
      "Epoch 3/11\n",
      "377/377 [==============================] - 4s 9ms/step - loss: 29.5900 - mean_absolute_error: 3.8865 - val_loss: 29.6972 - val_mean_absolute_error: 3.7117\n",
      "Epoch 4/11\n",
      "377/377 [==============================] - 4s 9ms/step - loss: 26.3318 - mean_absolute_error: 3.5589 - val_loss: 23.2242 - val_mean_absolute_error: 3.1171\n",
      "Epoch 5/11\n",
      "377/377 [==============================] - 4s 9ms/step - loss: 24.6330 - mean_absolute_error: 3.3894 - val_loss: 21.8748 - val_mean_absolute_error: 2.9806\n",
      "Epoch 6/11\n",
      "377/377 [==============================] - 4s 9ms/step - loss: 23.3297 - mean_absolute_error: 3.2492 - val_loss: 24.5089 - val_mean_absolute_error: 3.1960\n",
      "Epoch 7/11\n",
      "377/377 [==============================] - 4s 10ms/step - loss: 22.6281 - mean_absolute_error: 3.1845 - val_loss: 21.6425 - val_mean_absolute_error: 2.9258\n",
      "Epoch 8/11\n",
      "377/377 [==============================] - 4s 10ms/step - loss: 21.7900 - mean_absolute_error: 3.0770 - val_loss: 21.0143 - val_mean_absolute_error: 2.8750\n",
      "Epoch 9/11\n",
      "377/377 [==============================] - 4s 9ms/step - loss: 21.6398 - mean_absolute_error: 3.0536 - val_loss: 20.9563 - val_mean_absolute_error: 2.8401\n",
      "Epoch 10/11\n",
      "377/377 [==============================] - 4s 9ms/step - loss: 21.5238 - mean_absolute_error: 3.0302 - val_loss: 21.0633 - val_mean_absolute_error: 2.8712\n",
      "Epoch 11/11\n",
      "377/377 [==============================] - 4s 9ms/step - loss: 20.9972 - mean_absolute_error: 2.9681 - val_loss: 21.0773 - val_mean_absolute_error: 2.8532\n",
      "388/388 [==============================] - 1s 2ms/step - loss: 21.0773 - mean_absolute_error: 2.8532\n"
     ]
    },
    {
     "name": "stderr",
     "output_type": "stream",
     "text": [
      "\u001b[32m[I 2022-08-29 12:51:08,686]\u001b[0m Trial 95 finished with value: 2.8531582355499268 and parameters: {'conv1_lambda': 0.35824247291950306, 'conv2_lambda': 0.39366450946918224, 'conv3_lambda': 0.38170031944125477, 'dense_lambda': 0.06354496364717971, 'epochs': 11}. Best is trial 84 with value: 2.6249778270721436.\u001b[0m\n"
     ]
    },
    {
     "name": "stdout",
     "output_type": "stream",
     "text": [
      "Epoch 1/9\n",
      "377/377 [==============================] - 4s 11ms/step - loss: 59.0238 - mean_absolute_error: 5.5241 - val_loss: 59.3750 - val_mean_absolute_error: 6.3646\n",
      "Epoch 2/9\n",
      "377/377 [==============================] - 4s 9ms/step - loss: 42.1119 - mean_absolute_error: 5.1342 - val_loss: 30.3731 - val_mean_absolute_error: 4.0131\n",
      "Epoch 3/9\n",
      "377/377 [==============================] - 4s 9ms/step - loss: 30.8220 - mean_absolute_error: 4.0451 - val_loss: 24.9300 - val_mean_absolute_error: 3.3896\n",
      "Epoch 4/9\n",
      "377/377 [==============================] - 4s 9ms/step - loss: 25.6036 - mean_absolute_error: 3.4713 - val_loss: 21.5959 - val_mean_absolute_error: 2.8570\n",
      "Epoch 5/9\n",
      "377/377 [==============================] - 4s 9ms/step - loss: 23.2910 - mean_absolute_error: 3.1978 - val_loss: 21.1296 - val_mean_absolute_error: 2.8099\n",
      "Epoch 6/9\n",
      "377/377 [==============================] - 4s 9ms/step - loss: 21.9343 - mean_absolute_error: 3.0467 - val_loss: 19.8938 - val_mean_absolute_error: 2.7216\n",
      "Epoch 7/9\n",
      "377/377 [==============================] - 4s 9ms/step - loss: 21.1404 - mean_absolute_error: 2.9639 - val_loss: 21.1082 - val_mean_absolute_error: 2.8261\n",
      "Epoch 8/9\n",
      "377/377 [==============================] - 4s 9ms/step - loss: 20.4926 - mean_absolute_error: 2.8759 - val_loss: 21.6586 - val_mean_absolute_error: 2.8730\n",
      "Epoch 9/9\n",
      "377/377 [==============================] - 4s 9ms/step - loss: 20.0410 - mean_absolute_error: 2.8205 - val_loss: 22.4639 - val_mean_absolute_error: 2.9425\n",
      "388/388 [==============================] - 1s 2ms/step - loss: 22.4639 - mean_absolute_error: 2.9425\n"
     ]
    },
    {
     "name": "stderr",
     "output_type": "stream",
     "text": [
      "\u001b[32m[I 2022-08-29 12:51:45,560]\u001b[0m Trial 96 finished with value: 2.9425253868103027 and parameters: {'conv1_lambda': 0.4382984073586004, 'conv2_lambda': 0.2482259082519335, 'conv3_lambda': 0.3186950194980675, 'dense_lambda': 0.07772087332988734, 'epochs': 9}. Best is trial 84 with value: 2.6249778270721436.\u001b[0m\n"
     ]
    },
    {
     "name": "stdout",
     "output_type": "stream",
     "text": [
      "Epoch 1/10\n",
      "377/377 [==============================] - 4s 11ms/step - loss: 57.8968 - mean_absolute_error: 5.4581 - val_loss: 50.6372 - val_mean_absolute_error: 5.7201\n",
      "Epoch 2/10\n",
      "377/377 [==============================] - 4s 9ms/step - loss: 38.7906 - mean_absolute_error: 4.6622 - val_loss: 29.7533 - val_mean_absolute_error: 3.7863\n",
      "Epoch 3/10\n",
      "377/377 [==============================] - 4s 9ms/step - loss: 30.1355 - mean_absolute_error: 3.8900 - val_loss: 28.4010 - val_mean_absolute_error: 3.5662\n",
      "Epoch 4/10\n",
      "377/377 [==============================] - 4s 10ms/step - loss: 25.5213 - mean_absolute_error: 3.3857 - val_loss: 29.0236 - val_mean_absolute_error: 3.5861\n",
      "Epoch 5/10\n",
      "377/377 [==============================] - 4s 9ms/step - loss: 23.3588 - mean_absolute_error: 3.1201 - val_loss: 28.8100 - val_mean_absolute_error: 3.5777\n",
      "Epoch 6/10\n",
      "377/377 [==============================] - 4s 9ms/step - loss: 21.7644 - mean_absolute_error: 2.9025 - val_loss: 30.0800 - val_mean_absolute_error: 3.7129\n",
      "Epoch 7/10\n",
      "377/377 [==============================] - 4s 9ms/step - loss: 20.8075 - mean_absolute_error: 2.7717 - val_loss: 30.0114 - val_mean_absolute_error: 3.6947\n",
      "Epoch 8/10\n",
      "377/377 [==============================] - 4s 9ms/step - loss: 20.1452 - mean_absolute_error: 2.6820 - val_loss: 29.2342 - val_mean_absolute_error: 3.6133\n",
      "Epoch 9/10\n",
      "377/377 [==============================] - 4s 9ms/step - loss: 19.6662 - mean_absolute_error: 2.6153 - val_loss: 33.3883 - val_mean_absolute_error: 3.9621\n",
      "Epoch 10/10\n",
      "377/377 [==============================] - 4s 9ms/step - loss: 19.5452 - mean_absolute_error: 2.5985 - val_loss: 39.6077 - val_mean_absolute_error: 4.4551\n",
      "388/388 [==============================] - 1s 2ms/step - loss: 39.6077 - mean_absolute_error: 4.4551\n"
     ]
    },
    {
     "name": "stderr",
     "output_type": "stream",
     "text": [
      "\u001b[32m[I 2022-08-29 12:52:26,259]\u001b[0m Trial 97 finished with value: 4.455135345458984 and parameters: {'conv1_lambda': 0.40992236004278637, 'conv2_lambda': 0.3204798512414752, 'conv3_lambda': 0.22702676376531833, 'dense_lambda': 0.13153015774105525, 'epochs': 10}. Best is trial 84 with value: 2.6249778270721436.\u001b[0m\n"
     ]
    },
    {
     "name": "stdout",
     "output_type": "stream",
     "text": [
      "Epoch 1/9\n",
      "377/377 [==============================] - 4s 11ms/step - loss: 59.4462 - mean_absolute_error: 5.4011 - val_loss: 37.0212 - val_mean_absolute_error: 4.3988\n",
      "Epoch 2/9\n",
      "377/377 [==============================] - 3s 9ms/step - loss: 36.2964 - mean_absolute_error: 4.3498 - val_loss: 26.2170 - val_mean_absolute_error: 3.4263\n",
      "Epoch 3/9\n",
      "377/377 [==============================] - 4s 9ms/step - loss: 30.0524 - mean_absolute_error: 3.8032 - val_loss: 27.0394 - val_mean_absolute_error: 3.4515\n",
      "Epoch 4/9\n",
      "377/377 [==============================] - 4s 9ms/step - loss: 27.1766 - mean_absolute_error: 3.4857 - val_loss: 23.2115 - val_mean_absolute_error: 3.0033\n",
      "Epoch 5/9\n",
      "377/377 [==============================] - 4s 9ms/step - loss: 25.9961 - mean_absolute_error: 3.3478 - val_loss: 23.2100 - val_mean_absolute_error: 3.0006\n",
      "Epoch 6/9\n",
      "377/377 [==============================] - 4s 9ms/step - loss: 24.9200 - mean_absolute_error: 3.2140 - val_loss: 26.8508 - val_mean_absolute_error: 3.2806\n",
      "Epoch 7/9\n",
      "377/377 [==============================] - 4s 9ms/step - loss: 24.1846 - mean_absolute_error: 3.1319 - val_loss: 24.4870 - val_mean_absolute_error: 3.0221\n",
      "Epoch 8/9\n",
      "377/377 [==============================] - 4s 9ms/step - loss: 23.5835 - mean_absolute_error: 3.0202 - val_loss: 23.6120 - val_mean_absolute_error: 2.9393\n",
      "Epoch 9/9\n",
      "377/377 [==============================] - 4s 9ms/step - loss: 23.2272 - mean_absolute_error: 2.9637 - val_loss: 23.2866 - val_mean_absolute_error: 2.8849\n",
      "388/388 [==============================] - 1s 2ms/step - loss: 23.2867 - mean_absolute_error: 2.8849\n"
     ]
    },
    {
     "name": "stderr",
     "output_type": "stream",
     "text": [
      "\u001b[32m[I 2022-08-29 12:53:03,169]\u001b[0m Trial 98 finished with value: 2.8848717212677 and parameters: {'conv1_lambda': 0.34962975888642367, 'conv2_lambda': 0.26915638113371537, 'conv3_lambda': 0.41734500457065704, 'dense_lambda': 0.19464404561789256, 'epochs': 9}. Best is trial 84 with value: 2.6249778270721436.\u001b[0m\n"
     ]
    },
    {
     "name": "stdout",
     "output_type": "stream",
     "text": [
      "Epoch 1/12\n",
      "377/377 [==============================] - 4s 11ms/step - loss: 56.6664 - mean_absolute_error: 5.3856 - val_loss: 36.2920 - val_mean_absolute_error: 4.3370\n",
      "Epoch 2/12\n",
      "377/377 [==============================] - 4s 9ms/step - loss: 35.5671 - mean_absolute_error: 4.2947 - val_loss: 24.9375 - val_mean_absolute_error: 3.2019\n",
      "Epoch 3/12\n",
      "377/377 [==============================] - 4s 9ms/step - loss: 29.0233 - mean_absolute_error: 3.6910 - val_loss: 25.8090 - val_mean_absolute_error: 3.2980\n",
      "Epoch 4/12\n",
      "377/377 [==============================] - 4s 9ms/step - loss: 26.5628 - mean_absolute_error: 3.4487 - val_loss: 23.6383 - val_mean_absolute_error: 3.0528\n",
      "Epoch 5/12\n",
      "377/377 [==============================] - 4s 9ms/step - loss: 25.1397 - mean_absolute_error: 3.3008 - val_loss: 22.4280 - val_mean_absolute_error: 2.9436\n",
      "Epoch 6/12\n",
      "377/377 [==============================] - 4s 9ms/step - loss: 24.1674 - mean_absolute_error: 3.1886 - val_loss: 22.9356 - val_mean_absolute_error: 2.9771\n",
      "Epoch 7/12\n",
      "377/377 [==============================] - 4s 9ms/step - loss: 23.4105 - mean_absolute_error: 3.1075 - val_loss: 22.7362 - val_mean_absolute_error: 2.9319\n",
      "Epoch 8/12\n",
      "377/377 [==============================] - 4s 9ms/step - loss: 22.8716 - mean_absolute_error: 3.0316 - val_loss: 22.7861 - val_mean_absolute_error: 2.9433\n",
      "Epoch 9/12\n",
      "377/377 [==============================] - 4s 9ms/step - loss: 22.7235 - mean_absolute_error: 3.0074 - val_loss: 22.6709 - val_mean_absolute_error: 2.9197\n",
      "Epoch 10/12\n",
      "377/377 [==============================] - 4s 9ms/step - loss: 22.7172 - mean_absolute_error: 3.0043 - val_loss: 22.4790 - val_mean_absolute_error: 2.9266\n",
      "Epoch 11/12\n",
      "377/377 [==============================] - 4s 9ms/step - loss: 22.2596 - mean_absolute_error: 2.9517 - val_loss: 24.1719 - val_mean_absolute_error: 3.0324\n",
      "Epoch 12/12\n",
      "377/377 [==============================] - 4s 9ms/step - loss: 22.0778 - mean_absolute_error: 2.9222 - val_loss: 22.1926 - val_mean_absolute_error: 2.8609\n",
      "388/388 [==============================] - 1s 2ms/step - loss: 22.1925 - mean_absolute_error: 2.8609\n"
     ]
    },
    {
     "name": "stderr",
     "output_type": "stream",
     "text": [
      "\u001b[32m[I 2022-08-29 12:53:50,851]\u001b[0m Trial 99 finished with value: 2.86090087890625 and parameters: {'conv1_lambda': 0.38647991126188763, 'conv2_lambda': 0.2322246561499634, 'conv3_lambda': 0.289732585309104, 'dense_lambda': 0.2535446574226776, 'epochs': 12}. Best is trial 84 with value: 2.6249778270721436.\u001b[0m\n"
     ]
    }
   ],
   "source": [
    "study = optuna.create_study(direction='minimize')\n",
    "\n",
    "def objective(trial):\n",
    "    \n",
    "    model = build_model(trial)\n",
    "\n",
    "    model.fit(X_train, y_train, validation_data=(X_val, y_val),\n",
    "              epochs=trial.suggest_int('epochs', 1, 15),\n",
    "              batch_size=128)\n",
    "\n",
    "    val = model.evaluate(X_val, y_val)[1]\n",
    "\n",
    "    del model\n",
    "    K.clear_session()\n",
    "\n",
    "    return val\n",
    "\n",
    "study.optimize(objective, n_trials=100, gc_after_trial=True)"
   ]
  },
  {
   "cell_type": "code",
   "execution_count": 2,
   "metadata": {},
   "outputs": [
    {
     "name": "stderr",
     "output_type": "stream",
     "text": [
      "2022-10-11 11:55:10.143552: I tensorflow/core/platform/cpu_feature_guard.cc:142] This TensorFlow binary is optimized with oneAPI Deep Neural Network Library (oneDNN)to use the following CPU instructions in performance-critical operations:  AVX2 FMA\n",
      "To enable them in other operations, rebuild TensorFlow with the appropriate compiler flags.\n",
      "2022-10-11 11:55:10.173289: I tensorflow/core/platform/profile_utils/cpu_utils.cc:104] CPU Frequency: 2599990000 Hz\n",
      "2022-10-11 11:55:10.174205: I tensorflow/compiler/xla/service/service.cc:168] XLA service 0x557a8aa83500 initialized for platform Host (this does not guarantee that XLA will be used). Devices:\n",
      "2022-10-11 11:55:10.174252: I tensorflow/compiler/xla/service/service.cc:176]   StreamExecutor device (0): Host, Default Version\n",
      "2022-10-11 11:55:10.428871: I tensorflow/stream_executor/cuda/cuda_gpu_executor.cc:982] successful NUMA node read from SysFS had negative value (-1), but there must be at least one NUMA node, so returning NUMA node zero\n",
      "2022-10-11 11:55:10.429395: I tensorflow/compiler/xla/service/service.cc:168] XLA service 0x557a8d00cf30 initialized for platform CUDA (this does not guarantee that XLA will be used). Devices:\n",
      "2022-10-11 11:55:10.429409: I tensorflow/compiler/xla/service/service.cc:176]   StreamExecutor device (0): NVIDIA GeForce RTX 2060, Compute Capability 7.5\n",
      "2022-10-11 11:55:10.429950: I tensorflow/stream_executor/cuda/cuda_gpu_executor.cc:982] successful NUMA node read from SysFS had negative value (-1), but there must be at least one NUMA node, so returning NUMA node zero\n",
      "2022-10-11 11:55:10.430502: I tensorflow/core/common_runtime/gpu/gpu_device.cc:1716] Found device 0 with properties: \n",
      "pciBusID: 0000:01:00.0 name: NVIDIA GeForce RTX 2060 computeCapability: 7.5\n",
      "coreClock: 1.2GHz coreCount: 30 deviceMemorySize: 5.79GiB deviceMemoryBandwidth: 245.91GiB/s\n",
      "2022-10-11 11:55:10.430541: I tensorflow/stream_executor/platform/default/dso_loader.cc:48] Successfully opened dynamic library libcudart.so.10.1\n",
      "2022-10-11 11:55:10.430577: I tensorflow/stream_executor/platform/default/dso_loader.cc:48] Successfully opened dynamic library libcublas.so.10\n",
      "2022-10-11 11:55:10.430593: I tensorflow/stream_executor/platform/default/dso_loader.cc:48] Successfully opened dynamic library libcufft.so.10\n",
      "2022-10-11 11:55:10.430608: I tensorflow/stream_executor/platform/default/dso_loader.cc:48] Successfully opened dynamic library libcurand.so.10\n",
      "2022-10-11 11:55:10.430623: I tensorflow/stream_executor/platform/default/dso_loader.cc:48] Successfully opened dynamic library libcusolver.so.10\n",
      "2022-10-11 11:55:10.430639: I tensorflow/stream_executor/platform/default/dso_loader.cc:48] Successfully opened dynamic library libcusparse.so.10\n",
      "2022-10-11 11:55:10.430655: I tensorflow/stream_executor/platform/default/dso_loader.cc:48] Successfully opened dynamic library libcudnn.so.7\n",
      "2022-10-11 11:55:10.430711: I tensorflow/stream_executor/cuda/cuda_gpu_executor.cc:982] successful NUMA node read from SysFS had negative value (-1), but there must be at least one NUMA node, so returning NUMA node zero\n",
      "2022-10-11 11:55:10.431016: I tensorflow/stream_executor/cuda/cuda_gpu_executor.cc:982] successful NUMA node read from SysFS had negative value (-1), but there must be at least one NUMA node, so returning NUMA node zero\n",
      "2022-10-11 11:55:10.431280: I tensorflow/core/common_runtime/gpu/gpu_device.cc:1858] Adding visible gpu devices: 0\n",
      "2022-10-11 11:55:10.431594: I tensorflow/stream_executor/platform/default/dso_loader.cc:48] Successfully opened dynamic library libcudart.so.10.1\n",
      "2022-10-11 11:55:12.641915: I tensorflow/core/common_runtime/gpu/gpu_device.cc:1257] Device interconnect StreamExecutor with strength 1 edge matrix:\n",
      "2022-10-11 11:55:12.641948: I tensorflow/core/common_runtime/gpu/gpu_device.cc:1263]      0 \n",
      "2022-10-11 11:55:12.641965: I tensorflow/core/common_runtime/gpu/gpu_device.cc:1276] 0:   N \n",
      "2022-10-11 11:55:12.642903: I tensorflow/stream_executor/cuda/cuda_gpu_executor.cc:982] successful NUMA node read from SysFS had negative value (-1), but there must be at least one NUMA node, so returning NUMA node zero\n",
      "2022-10-11 11:55:12.643573: I tensorflow/stream_executor/cuda/cuda_gpu_executor.cc:982] successful NUMA node read from SysFS had negative value (-1), but there must be at least one NUMA node, so returning NUMA node zero\n",
      "2022-10-11 11:55:12.643860: I tensorflow/core/common_runtime/gpu/gpu_device.cc:1402] Created TensorFlow device (/job:localhost/replica:0/task:0/device:GPU:0 with 4485 MB memory) -> physical GPU (device: 0, name: NVIDIA GeForce RTX 2060, pci bus id: 0000:01:00.0, compute capability: 7.5)\n"
     ]
    }
   ],
   "source": [
    "# {'conv1_lambda': 0.37217565639573935, 'conv2_lambda': 0.3703556673278788, 'conv3_lambda': 0.36107002903413576, 'dense_lambda': 0.13567068335576418, 'epochs': 9}\n",
    "\n",
    "model = Sequential([\n",
    "    Input((1024, 16)),\n",
    "\n",
    "    Conv1D(\n",
    "        filters=32,\n",
    "        kernel_regularizer=L2(0.37),\n",
    "        kernel_size=3, \n",
    "        activation='relu'\n",
    "    ),\n",
    "    AveragePooling1D(\n",
    "        strides=4\n",
    "    ),\n",
    "\n",
    "    Conv1D(\n",
    "        filters=64, \n",
    "        kernel_regularizer=L2(0.37),\n",
    "        kernel_size=3, \n",
    "        activation='relu'\n",
    "    ),\n",
    "    AveragePooling1D(\n",
    "        strides=4\n",
    "    ),\n",
    "\n",
    "    Conv1D(\n",
    "        filters=128, \n",
    "        kernel_regularizer=L2(0.36),\n",
    "        kernel_size=3, \n",
    "        activation='relu'\n",
    "    ),\n",
    "    AveragePooling1D(\n",
    "        strides=4\n",
    "    ),\n",
    "\n",
    "    Flatten(),\n",
    "    \n",
    "    Dense(\n",
    "        units=1,\n",
    "        activation='linear',\n",
    "        kernel_regularizer=L2(0.14))\n",
    "])\n",
    "\n",
    "model.compile(optimizer='adam',\n",
    "                loss='mse',\n",
    "                metrics=['mean_absolute_error'])"
   ]
  },
  {
   "cell_type": "code",
   "execution_count": 3,
   "metadata": {},
   "outputs": [
    {
     "name": "stdout",
     "output_type": "stream",
     "text": [
      "Model: \"sequential\"\n",
      "_________________________________________________________________\n",
      "Layer (type)                 Output Shape              Param #   \n",
      "=================================================================\n",
      "conv1d (Conv1D)              (None, 1022, 32)          1568      \n",
      "_________________________________________________________________\n",
      "average_pooling1d (AveragePo (None, 256, 32)           0         \n",
      "_________________________________________________________________\n",
      "conv1d_1 (Conv1D)            (None, 254, 64)           6208      \n",
      "_________________________________________________________________\n",
      "average_pooling1d_1 (Average (None, 64, 64)            0         \n",
      "_________________________________________________________________\n",
      "conv1d_2 (Conv1D)            (None, 62, 128)           24704     \n",
      "_________________________________________________________________\n",
      "average_pooling1d_2 (Average (None, 16, 128)           0         \n",
      "_________________________________________________________________\n",
      "flatten (Flatten)            (None, 2048)              0         \n",
      "_________________________________________________________________\n",
      "dense (Dense)                (None, 1)                 2049      \n",
      "=================================================================\n",
      "Total params: 34,529\n",
      "Trainable params: 34,529\n",
      "Non-trainable params: 0\n",
      "_________________________________________________________________\n"
     ]
    }
   ],
   "source": [
    "model.summary()"
   ]
  },
  {
   "cell_type": "code",
   "execution_count": 21,
   "metadata": {},
   "outputs": [
    {
     "name": "stderr",
     "output_type": "stream",
     "text": [
      "2022-09-15 14:53:36.427422: W tensorflow/core/framework/cpu_allocator_impl.cc:81] Allocation of 3162505216 exceeds 10% of free system memory.\n"
     ]
    },
    {
     "name": "stdout",
     "output_type": "stream",
     "text": [
      "Epoch 1/9\n"
     ]
    },
    {
     "name": "stderr",
     "output_type": "stream",
     "text": [
      "2022-09-15 14:53:38.325837: I tensorflow/stream_executor/platform/default/dso_loader.cc:48] Successfully opened dynamic library libcublas.so.10\n",
      "2022-09-15 14:53:38.676355: I tensorflow/stream_executor/platform/default/dso_loader.cc:48] Successfully opened dynamic library libcudnn.so.7\n",
      "2022-09-15 14:53:40.073527: W tensorflow/stream_executor/gpu/asm_compiler.cc:81] Running ptxas --version returned 256\n",
      "2022-09-15 14:53:40.232789: W tensorflow/stream_executor/gpu/redzone_allocator.cc:314] Internal: ptxas exited with non-zero error code 256, output: \n",
      "Relying on driver to perform ptx compilation. \n",
      "Modify $PATH to customize ptxas location.\n",
      "This message will be only logged once.\n",
      "2022-09-15 14:53:44.680149: I tensorflow/stream_executor/cuda/cuda_driver.cc:775] failed to allocate 3.61G (3877127936 bytes) from device: CUDA_ERROR_OUT_OF_MEMORY: out of memory\n"
     ]
    },
    {
     "name": "stdout",
     "output_type": "stream",
     "text": [
      "  1/377 [..............................] - ETA: 0s - loss: 258.7418 - mean_absolute_error: 12.8565WARNING:tensorflow:Callbacks method `on_train_batch_end` is slow compared to the batch time (batch time: 0.0039s vs `on_train_batch_end` time: 0.0064s). Check your callbacks.\n",
      "373/377 [============================>.] - ETA: 0s - loss: 59.9180 - mean_absolute_error: 5.4671"
     ]
    },
    {
     "name": "stderr",
     "output_type": "stream",
     "text": [
      "2022-09-15 14:53:53.435799: W tensorflow/core/framework/cpu_allocator_impl.cc:81] Allocation of 813694976 exceeds 10% of free system memory.\n"
     ]
    },
    {
     "name": "stdout",
     "output_type": "stream",
     "text": [
      "377/377 [==============================] - 4s 11ms/step - loss: 59.7326 - mean_absolute_error: 5.4614 - val_loss: 48.1819 - val_mean_absolute_error: 5.5799\n",
      "Epoch 2/9\n",
      "377/377 [==============================] - 4s 10ms/step - loss: 38.3263 - mean_absolute_error: 4.6134 - val_loss: 28.6941 - val_mean_absolute_error: 3.6358\n",
      "Epoch 3/9\n",
      "377/377 [==============================] - 4s 10ms/step - loss: 30.9769 - mean_absolute_error: 3.9828 - val_loss: 25.1013 - val_mean_absolute_error: 3.3454\n",
      "Epoch 4/9\n",
      "377/377 [==============================] - 4s 10ms/step - loss: 27.3339 - mean_absolute_error: 3.5750 - val_loss: 22.2117 - val_mean_absolute_error: 2.9595\n",
      "Epoch 5/9\n",
      "377/377 [==============================] - 4s 10ms/step - loss: 25.7972 - mean_absolute_error: 3.3791 - val_loss: 21.9444 - val_mean_absolute_error: 2.9313\n",
      "Epoch 6/9\n",
      "377/377 [==============================] - 4s 10ms/step - loss: 24.4021 - mean_absolute_error: 3.2058 - val_loss: 21.3059 - val_mean_absolute_error: 2.8258\n",
      "Epoch 7/9\n",
      "377/377 [==============================] - 4s 10ms/step - loss: 23.4282 - mean_absolute_error: 3.0816 - val_loss: 20.8201 - val_mean_absolute_error: 2.7484\n",
      "Epoch 8/9\n",
      "377/377 [==============================] - 4s 10ms/step - loss: 22.7294 - mean_absolute_error: 2.9732 - val_loss: 20.6282 - val_mean_absolute_error: 2.7192\n",
      "Epoch 9/9\n",
      "377/377 [==============================] - 4s 10ms/step - loss: 22.3678 - mean_absolute_error: 2.9218 - val_loss: 20.6294 - val_mean_absolute_error: 2.6896\n"
     ]
    },
    {
     "data": {
      "text/plain": [
       "<tensorflow.python.keras.callbacks.History at 0x7fae5c7242b0>"
      ]
     },
     "execution_count": 21,
     "metadata": {},
     "output_type": "execute_result"
    }
   ],
   "source": [
    "model.fit(X_train, y_train, validation_data=(X_val, y_val),\n",
    "            epochs=9,\n",
    "            batch_size=128)"
   ]
  },
  {
   "cell_type": "code",
   "execution_count": 22,
   "metadata": {},
   "outputs": [
    {
     "data": {
      "text/plain": [
       "1490"
      ]
     },
     "execution_count": 22,
     "metadata": {},
     "output_type": "execute_result"
    }
   ],
   "source": [
    "del X_train\n",
    "del y_train\n",
    "gc.collect()"
   ]
  },
  {
   "cell_type": "markdown",
   "metadata": {},
   "source": [
    "# FID Socore"
   ]
  },
  {
   "cell_type": "code",
   "execution_count": 23,
   "metadata": {},
   "outputs": [],
   "source": [
    "# calculate frechet inception distance\n",
    "def calculate_fid(model, images1, images2):\n",
    "\t# calculate activations\n",
    "\tact1 = model.predict(images1)\n",
    "\tact2 = model.predict(images2)\n",
    "\t# calculate mean and covariance statistics\n",
    "\tmu1, sigma1 = act1.mean(axis=0), np.cov(act1, rowvar=False)\n",
    "\tmu2, sigma2 = act2.mean(axis=0), np.cov(act2, rowvar=False)\n",
    "\t# calculate sum squared difference between means\n",
    "\tssdiff = np.sum((mu1 - mu2)**2.0)\n",
    "\t# calculate sqrt of product between cov\n",
    "\tcovmean = sqrtm(sigma1.dot(sigma2))\n",
    "\t# check and correct imaginary numbers from sqrt\n",
    "\tif np.iscomplexobj(covmean):\n",
    "\t\tcovmean = covmean.real\n",
    "\t# calculate score\n",
    "\tfid = ssdiff + np.trace(sigma1 + sigma2 - 2.0 * covmean)\n",
    "\t\n",
    "\treturn fid"
   ]
  },
  {
   "cell_type": "code",
   "execution_count": 24,
   "metadata": {},
   "outputs": [
    {
     "name": "stdout",
     "output_type": "stream",
     "text": [
      "Model: \"sequential\"\n",
      "_________________________________________________________________\n",
      "Layer (type)                 Output Shape              Param #   \n",
      "=================================================================\n",
      "conv1d (Conv1D)              (None, 1022, 32)          1568      \n",
      "_________________________________________________________________\n",
      "average_pooling1d (AveragePo (None, 256, 32)           0         \n",
      "_________________________________________________________________\n",
      "conv1d_1 (Conv1D)            (None, 254, 64)           6208      \n",
      "_________________________________________________________________\n",
      "average_pooling1d_1 (Average (None, 64, 64)            0         \n",
      "_________________________________________________________________\n",
      "conv1d_2 (Conv1D)            (None, 62, 128)           24704     \n",
      "_________________________________________________________________\n",
      "average_pooling1d_2 (Average (None, 16, 128)           0         \n",
      "_________________________________________________________________\n",
      "flatten (Flatten)            (None, 2048)              0         \n",
      "=================================================================\n",
      "Total params: 32,480\n",
      "Trainable params: 32,480\n",
      "Non-trainable params: 0\n",
      "_________________________________________________________________\n"
     ]
    }
   ],
   "source": [
    "model.pop()\n",
    "model.summary()"
   ]
  },
  {
   "cell_type": "code",
   "execution_count": 25,
   "metadata": {},
   "outputs": [
    {
     "data": {
      "text/plain": [
       "(15616, 1024, 16)"
      ]
     },
     "execution_count": 25,
     "metadata": {},
     "output_type": "execute_result"
    }
   ],
   "source": [
    "X_val2.shape\n",
    "#np.random.shuffle(X_val)"
   ]
  },
  {
   "cell_type": "code",
   "execution_count": 26,
   "metadata": {},
   "outputs": [
    {
     "name": "stderr",
     "output_type": "stream",
     "text": [
      "2022-09-15 14:54:38.514490: W tensorflow/core/framework/cpu_allocator_impl.cc:81] Allocation of 655360000 exceeds 10% of free system memory.\n",
      "2022-09-15 14:54:46.599753: W tensorflow/core/framework/cpu_allocator_impl.cc:81] Allocation of 655360000 exceeds 10% of free system memory.\n"
     ]
    },
    {
     "data": {
      "text/plain": [
       "4.950390282922341"
      ]
     },
     "execution_count": 26,
     "metadata": {},
     "output_type": "execute_result"
    }
   ],
   "source": [
    "calculate_fid(model, X_val2[:10000], X_val[:10000])"
   ]
  },
  {
   "cell_type": "code",
   "execution_count": 27,
   "metadata": {},
   "outputs": [
    {
     "name": "stderr",
     "output_type": "stream",
     "text": [
      "2022-09-15 14:54:55.973355: W tensorflow/core/framework/cpu_allocator_impl.cc:81] Allocation of 655360000 exceeds 10% of free system memory.\n"
     ]
    },
    {
     "data": {
      "text/plain": [
       "54.91829309174981"
      ]
     },
     "execution_count": 27,
     "metadata": {},
     "output_type": "execute_result"
    }
   ],
   "source": [
    "noise = np.random.randn(10000, 1024, 16)\n",
    "calculate_fid(model, X_val[:10000], noise)"
   ]
  },
  {
   "cell_type": "code",
   "execution_count": 28,
   "metadata": {},
   "outputs": [],
   "source": [
    "generations = np.load('../data/generated/conditiona-nooutliers-2.npy')\n",
    "generations = np.swapaxes(generations, 2, 1)"
   ]
  },
  {
   "cell_type": "code",
   "execution_count": 29,
   "metadata": {},
   "outputs": [
    {
     "data": {
      "text/plain": [
       "(6000, 1024, 16)"
      ]
     },
     "execution_count": 29,
     "metadata": {},
     "output_type": "execute_result"
    }
   ],
   "source": [
    "generations.shape"
   ]
  },
  {
   "cell_type": "code",
   "execution_count": 30,
   "metadata": {},
   "outputs": [],
   "source": [
    "generations_scaled = np.subtract(generations, X_mean, out=generations)\n",
    "generations_scaled = np.divide(generations_scaled, X_std, out=generations_scaled)\n",
    "np.random.shuffle(generations_scaled)"
   ]
  },
  {
   "cell_type": "code",
   "execution_count": 31,
   "metadata": {},
   "outputs": [
    {
     "data": {
      "text/plain": [
       "5.567578344917186"
      ]
     },
     "execution_count": 31,
     "metadata": {},
     "output_type": "execute_result"
    }
   ],
   "source": [
    "calculate_fid(model, X_val2[:10000], generations_scaled[:10000])"
   ]
  },
  {
   "cell_type": "code",
   "execution_count": 32,
   "metadata": {},
   "outputs": [],
   "source": [
    "exp_17_m = np.load('../data/preprocessed/EXP_17_M_chirps.npy')\n",
    "exp_17_m = np.swapaxes(exp_17_m, 2, 1)"
   ]
  },
  {
   "cell_type": "code",
   "execution_count": 33,
   "metadata": {},
   "outputs": [
    {
     "data": {
      "text/plain": [
       "(6144, 1024, 16)"
      ]
     },
     "execution_count": 33,
     "metadata": {},
     "output_type": "execute_result"
    }
   ],
   "source": [
    "exp_17_m.shape"
   ]
  },
  {
   "cell_type": "code",
   "execution_count": 34,
   "metadata": {},
   "outputs": [],
   "source": [
    "exp_17_m_scaled = np.subtract(exp_17_m, X_mean, out=exp_17_m)\n",
    "exp_17_m_scaled = np.divide(exp_17_m_scaled, X_std, out=exp_17_m_scaled)\n",
    "np.random.shuffle(exp_17_m_scaled)"
   ]
  },
  {
   "cell_type": "code",
   "execution_count": 35,
   "metadata": {},
   "outputs": [
    {
     "data": {
      "text/plain": [
       "0.05864832870604299"
      ]
     },
     "execution_count": 35,
     "metadata": {},
     "output_type": "execute_result"
    }
   ],
   "source": [
    "calculate_fid(model, exp_17_m_scaled[:3000], exp_17_m_scaled[3000:6000])"
   ]
  },
  {
   "cell_type": "code",
   "execution_count": 36,
   "metadata": {},
   "outputs": [
    {
     "data": {
      "text/plain": [
       "0.5068574309373406"
      ]
     },
     "execution_count": 36,
     "metadata": {},
     "output_type": "execute_result"
    }
   ],
   "source": [
    "calculate_fid(model, exp_17_m_scaled[:3000], generations_scaled[:3000])"
   ]
  },
  {
   "cell_type": "code",
   "execution_count": null,
   "metadata": {},
   "outputs": [],
   "source": []
  },
  {
   "cell_type": "code",
   "execution_count": 37,
   "metadata": {},
   "outputs": [],
   "source": [
    "exp_17_r = np.load('../data/preprocessed/EXP_17_R_chirps.npy')\n",
    "exp_17_r = np.swapaxes(exp_17_r, 2, 1)"
   ]
  },
  {
   "cell_type": "code",
   "execution_count": 38,
   "metadata": {},
   "outputs": [
    {
     "data": {
      "text/plain": [
       "(9984, 1024, 16)"
      ]
     },
     "execution_count": 38,
     "metadata": {},
     "output_type": "execute_result"
    }
   ],
   "source": [
    "exp_17_r.shape"
   ]
  },
  {
   "cell_type": "code",
   "execution_count": 39,
   "metadata": {},
   "outputs": [],
   "source": [
    "exp_17_r_scaled = np.subtract(exp_17_r, X_mean, out=exp_17_r)\n",
    "exp_17_r_scaled = np.divide(exp_17_r_scaled, X_std, out=exp_17_r_scaled)\n",
    "np.random.shuffle(exp_17_r_scaled)"
   ]
  },
  {
   "cell_type": "code",
   "execution_count": 40,
   "metadata": {},
   "outputs": [
    {
     "data": {
      "text/plain": [
       "0.010417899582522351"
      ]
     },
     "execution_count": 40,
     "metadata": {},
     "output_type": "execute_result"
    }
   ],
   "source": [
    "calculate_fid(model, exp_17_r_scaled[:3000], exp_17_r_scaled[3000:6000])"
   ]
  },
  {
   "cell_type": "code",
   "execution_count": 41,
   "metadata": {},
   "outputs": [
    {
     "data": {
      "text/plain": [
       "18.11957006281437"
      ]
     },
     "execution_count": 41,
     "metadata": {},
     "output_type": "execute_result"
    }
   ],
   "source": [
    "calculate_fid(model, exp_17_r_scaled[:3000], generations_scaled[:3000])"
   ]
  },
  {
   "cell_type": "code",
   "execution_count": null,
   "metadata": {},
   "outputs": [],
   "source": []
  },
  {
   "cell_type": "code",
   "execution_count": 42,
   "metadata": {},
   "outputs": [
    {
     "data": {
      "text/plain": [
       "18.183394780386713"
      ]
     },
     "execution_count": 42,
     "metadata": {},
     "output_type": "execute_result"
    }
   ],
   "source": [
    "calculate_fid(model, exp_17_r_scaled[:300], exp_17_m_scaled[:3000])"
   ]
  }
 ],
 "metadata": {
  "interpreter": {
   "hash": "288c48c33377fde836cd8a6064e8478fc9e59fa3607510bf7f3a1e6c711c4497"
  },
  "kernelspec": {
   "display_name": "Python 3.8.12 ('rota2030')",
   "language": "python",
   "name": "python3"
  },
  "language_info": {
   "codemirror_mode": {
    "name": "ipython",
    "version": 3
   },
   "file_extension": ".py",
   "mimetype": "text/x-python",
   "name": "python",
   "nbconvert_exporter": "python",
   "pygments_lexer": "ipython3",
   "version": "3.8.12"
  },
  "orig_nbformat": 4
 },
 "nbformat": 4,
 "nbformat_minor": 2
}
